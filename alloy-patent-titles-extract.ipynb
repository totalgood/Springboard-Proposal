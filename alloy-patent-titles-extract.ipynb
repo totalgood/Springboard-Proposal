{
 "cells": [
  {
   "cell_type": "markdown",
   "metadata": {
    "slideshow": {
     "slide_type": "slide"
    }
   },
   "source": [
    "## alloy-patent-titles-extract.ipynb"
   ]
  },
  {
   "cell_type": "markdown",
   "metadata": {},
   "source": [
    "### Create plots for linear regression analysis. "
   ]
  },
  {
   "cell_type": "code",
   "execution_count": 1,
   "metadata": {
    "collapsed": false
   },
   "outputs": [
    {
     "name": "stdout",
     "output_type": "stream",
     "text": [
      "      patent_no                                              title  Unnamed: 2\n",
      "0       9671182  Copper alloy tube for heat exchanger excellent...         NaN\n",
      "1       9670567  Manufacturing method of making aluminum alloy ...         NaN\n",
      "2       9670566                   White antimicrobial copper alloy         NaN\n",
      "3       9669604  Aluminum-alloy plate and joined body as well a...         NaN\n",
      "4       9669461  Process for production of sintered copper allo...         NaN\n",
      "5       9666867  Aluminum alloy foil for electrode collector an...         NaN\n",
      "6       9666325  Copper alloy and method of manufacturing coppe...         NaN\n",
      "7       9664182  Shape memory alloy actuating element with impr...         NaN\n",
      "8       9664049  Braze alloy compositions and brazing methods f...         NaN\n",
      "9       9663868  Electro-deposited copper-alloy foil and electr...         NaN\n",
      "10      9663848  High heat-resistant aluminium casting alloy an...         NaN\n",
      "11      9663847  High thermal conductivity Al--Mg--Fe--Si alloy...         NaN\n",
      "12      9663845                                     Aluminum alloy         NaN\n",
      "13      9663844         Sintered alloy superior in wear resistance         NaN\n",
      "14      9663651  High-gloss polymethylmethacrylate acrylic copo...         NaN\n",
      "15      9659762              Amalgam balls having an alloy coating         NaN\n",
      "16      9657777  Wear resistant lead free alloy bushing and met...         NaN\n",
      "17      9657403  Method for preparing tin-silver alloy plating ...         NaN\n",
      "18      9657402  Cyanide-free electrolyte composition and metho...         NaN\n",
      "19      9657377       Aluminum alloy and production method thereof         NaN\n",
      "20      9657376       Aluminum alloy and production method thereof         NaN\n",
      "21      9657374  Free-machining aluminum alloy extruded materia...         NaN\n",
      "22      9657373  Nickel-chromium-aluminum alloy having good pro...         NaN\n",
      "23      9657372  Manufacturing method of aluminum alloy in whic...         NaN\n",
      "24      9657367  Method for producing R-Fe-B based permanent ma...         NaN\n",
      "25      9653629  Substrate material of iron-nickel alloy metal ...         NaN\n",
      "26      9653191  Copper alloy for electric and electronic devic...         NaN\n",
      "27      9651524  Method of ultrasonic inspection of as-cast tit...         NaN\n",
      "28      9651158                           Shape memory alloy valve         NaN\n",
      "29      9650706  Aluminum alloy wire rod, aluminum alloy strand...         NaN\n",
      "...         ...                                                ...         ...\n",
      "10181   3941591  Electrophotographic photoconductive member emp...         NaN\n",
      "10182   3941590              Precipitation hardening Ni base alloy         NaN\n",
      "10183   3940728                  Alloy for a high temperature fuse         NaN\n",
      "10184   3940319       Electrodeposition of bright tin-nickel alloy         NaN\n",
      "10185   3940269  Sintered austenitic-ferritic chromium-nickel s...         NaN\n",
      "10186   3939299                     Aluminium alloy conductor wire         NaN\n",
      "10187   3937858  Method of and bath for the plating of aluminum...         NaN\n",
      "10188   3937638  Method for treating copper-nickel-tin alloy co...         NaN\n",
      "10189   3936332  Copper and copper alloy etching solutions and ...         NaN\n",
      "10190   3936298  Metal composition and methods for preparing li...         NaN\n",
      "10191   3936277               Aluminum alloy-boron fiber composite         NaN\n",
      "10192   3935797   Wear and seizure resistant aluminum alloy piston         NaN\n",
      "10193   3935037                  Austenitic iron-nickel base alloy         NaN\n",
      "10194   3935013  Electroless deposition of a copper-nickel allo...         NaN\n",
      "10195   3935007               Aluminum alloy of age hardening type         NaN\n",
      "10196   3933961          Tabletting spherical dental amalgam alloy         NaN\n",
      "10197   3933531  Method of rust-preventing for copper and coppe...         NaN\n",
      "10198   3933484                                  Cobalt-base alloy         NaN\n",
      "10199   3933483  Silicon-containing nickel-aluminum-molybdenum ...         NaN\n",
      "10200   3933481  High-temperature eutectoid alloy and process o...         NaN\n",
      "10201   3933473  Method for recovering a usable alloy from tita...         NaN\n",
      "10202   3930966  Method of forming colored oxide film on alumin...         NaN\n",
      "10203   3930965             Zinc-copper alloy electroplating baths         NaN\n",
      "10204   3930964  Method for painting aluminum or aluminum-based...         NaN\n",
      "10205   3930962  Process and apparatus for producing thin coppe...         NaN\n",
      "10206   3930904        Nickel-iron-chromium alloy wrought products         NaN\n",
      "10207   3930899  Method of spraying molybdenum on aluminum or a...         NaN\n",
      "10208   3930895         Special magnesium-manganese aluminum alloy         NaN\n",
      "10209   3930848          High temperature low density cobalt alloy         NaN\n",
      "10210   3930575  Method for a surface treatment of an iron, fer...         NaN\n",
      "\n",
      "[10211 rows x 3 columns]\n"
     ]
    }
   ],
   "source": [
    "import numpy as np\n",
    "import pandas as pd\n",
    "\n",
    "df_alloys = pd.read_csv('/Users/stevehansen/Desktop/alloy-patents.csv')\n",
    "print (df_alloys)"
   ]
  },
  {
   "cell_type": "code",
   "execution_count": 13,
   "metadata": {
    "collapsed": false
   },
   "outputs": [
    {
     "name": "stdout",
     "output_type": "stream",
     "text": [
      "<class 'pandas.core.frame.DataFrame'>\n",
      "RangeIndex: 10211 entries, 0 to 10210\n",
      "Data columns (total 2 columns):\n",
      "patent_no    10211 non-null object\n",
      "title        10210 non-null object\n",
      "dtypes: object(2)\n",
      "memory usage: 159.6+ KB\n"
     ]
    }
   ],
   "source": [
    "df_alloys.info()"
   ]
  },
  {
   "cell_type": "markdown",
   "metadata": {
    "collapsed": false
   },
   "source": [
    "### Print out dataframe. "
   ]
  },
  {
   "cell_type": "code",
   "execution_count": 2,
   "metadata": {
    "collapsed": false
   },
   "outputs": [
    {
     "name": "stdout",
     "output_type": "stream",
     "text": [
      "      patent_no                                              title\n",
      "0       9671182  Copper alloy tube for heat exchanger excellent...\n",
      "1       9670567  Manufacturing method of making aluminum alloy ...\n",
      "2       9670566                   White antimicrobial copper alloy\n",
      "3       9669604  Aluminum-alloy plate and joined body as well a...\n",
      "4       9669461  Process for production of sintered copper allo...\n",
      "5       9666867  Aluminum alloy foil for electrode collector an...\n",
      "6       9666325  Copper alloy and method of manufacturing coppe...\n",
      "7       9664182  Shape memory alloy actuating element with impr...\n",
      "8       9664049  Braze alloy compositions and brazing methods f...\n",
      "9       9663868  Electro-deposited copper-alloy foil and electr...\n",
      "10      9663848  High heat-resistant aluminium casting alloy an...\n",
      "11      9663847  High thermal conductivity Al--Mg--Fe--Si alloy...\n",
      "12      9663845                                     Aluminum alloy\n",
      "13      9663844         Sintered alloy superior in wear resistance\n",
      "14      9663651  High-gloss polymethylmethacrylate acrylic copo...\n",
      "15      9659762              Amalgam balls having an alloy coating\n",
      "16      9657777  Wear resistant lead free alloy bushing and met...\n",
      "17      9657403  Method for preparing tin-silver alloy plating ...\n",
      "18      9657402  Cyanide-free electrolyte composition and metho...\n",
      "19      9657377       Aluminum alloy and production method thereof\n",
      "20      9657376       Aluminum alloy and production method thereof\n",
      "21      9657374  Free-machining aluminum alloy extruded materia...\n",
      "22      9657373  Nickel-chromium-aluminum alloy having good pro...\n",
      "23      9657372  Manufacturing method of aluminum alloy in whic...\n",
      "24      9657367  Method for producing R-Fe-B based permanent ma...\n",
      "25      9653629  Substrate material of iron-nickel alloy metal ...\n",
      "26      9653191  Copper alloy for electric and electronic devic...\n",
      "27      9651524  Method of ultrasonic inspection of as-cast tit...\n",
      "28      9651158                           Shape memory alloy valve\n",
      "29      9650706  Aluminum alloy wire rod, aluminum alloy strand...\n",
      "...         ...                                                ...\n",
      "10181   3941591  Electrophotographic photoconductive member emp...\n",
      "10182   3941590              Precipitation hardening Ni base alloy\n",
      "10183   3940728                  Alloy for a high temperature fuse\n",
      "10184   3940319       Electrodeposition of bright tin-nickel alloy\n",
      "10185   3940269  Sintered austenitic-ferritic chromium-nickel s...\n",
      "10186   3939299                     Aluminium alloy conductor wire\n",
      "10187   3937858  Method of and bath for the plating of aluminum...\n",
      "10188   3937638  Method for treating copper-nickel-tin alloy co...\n",
      "10189   3936332  Copper and copper alloy etching solutions and ...\n",
      "10190   3936298  Metal composition and methods for preparing li...\n",
      "10191   3936277               Aluminum alloy-boron fiber composite\n",
      "10192   3935797   Wear and seizure resistant aluminum alloy piston\n",
      "10193   3935037                  Austenitic iron-nickel base alloy\n",
      "10194   3935013  Electroless deposition of a copper-nickel allo...\n",
      "10195   3935007               Aluminum alloy of age hardening type\n",
      "10196   3933961          Tabletting spherical dental amalgam alloy\n",
      "10197   3933531  Method of rust-preventing for copper and coppe...\n",
      "10198   3933484                                  Cobalt-base alloy\n",
      "10199   3933483  Silicon-containing nickel-aluminum-molybdenum ...\n",
      "10200   3933481  High-temperature eutectoid alloy and process o...\n",
      "10201   3933473  Method for recovering a usable alloy from tita...\n",
      "10202   3930966  Method of forming colored oxide film on alumin...\n",
      "10203   3930965             Zinc-copper alloy electroplating baths\n",
      "10204   3930964  Method for painting aluminum or aluminum-based...\n",
      "10205   3930962  Process and apparatus for producing thin coppe...\n",
      "10206   3930904        Nickel-iron-chromium alloy wrought products\n",
      "10207   3930899  Method of spraying molybdenum on aluminum or a...\n",
      "10208   3930895         Special magnesium-manganese aluminum alloy\n",
      "10209   3930848          High temperature low density cobalt alloy\n",
      "10210   3930575  Method for a surface treatment of an iron, fer...\n",
      "\n",
      "[10211 rows x 2 columns]\n"
     ]
    }
   ],
   "source": [
    "# Delete unnamed column.  \n",
    "\n",
    "df_alloys = df_alloys.drop(['Unnamed: 2'], axis=1)\n",
    "print (df_alloys)"
   ]
  },
  {
   "cell_type": "code",
   "execution_count": null,
   "metadata": {
    "collapsed": false
   },
   "outputs": [],
   "source": []
  },
  {
   "cell_type": "code",
   "execution_count": 9,
   "metadata": {
    "collapsed": false
   },
   "outputs": [
    {
     "name": "stdout",
     "output_type": "stream",
     "text": [
      "<class 'pandas.core.frame.DataFrame'>\n",
      "RangeIndex: 10211 entries, 0 to 10210\n",
      "Data columns (total 2 columns):\n",
      "patent_no    10211 non-null object\n",
      "title        10210 non-null object\n",
      "dtypes: object(2)\n",
      "memory usage: 159.6+ KB\n"
     ]
    },
    {
     "data": {
      "text/html": [
       "<div>\n",
       "<table border=\"1\" class=\"dataframe\">\n",
       "  <thead>\n",
       "    <tr style=\"text-align: right;\">\n",
       "      <th></th>\n",
       "      <th>patent_no</th>\n",
       "      <th>title</th>\n",
       "    </tr>\n",
       "  </thead>\n",
       "  <tbody>\n",
       "    <tr>\n",
       "      <th>count</th>\n",
       "      <td>10211</td>\n",
       "      <td>10210</td>\n",
       "    </tr>\n",
       "    <tr>\n",
       "      <th>unique</th>\n",
       "      <td>10211</td>\n",
       "      <td>9066</td>\n",
       "    </tr>\n",
       "    <tr>\n",
       "      <th>top</th>\n",
       "      <td>6231808</td>\n",
       "      <td>Shape memory alloy actuator</td>\n",
       "    </tr>\n",
       "    <tr>\n",
       "      <th>freq</th>\n",
       "      <td>1</td>\n",
       "      <td>17</td>\n",
       "    </tr>\n",
       "  </tbody>\n",
       "</table>\n",
       "</div>"
      ],
      "text/plain": [
       "       patent_no                        title\n",
       "count      10211                        10210\n",
       "unique     10211                         9066\n",
       "top      6231808  Shape memory alloy actuator\n",
       "freq           1                           17"
      ]
     },
     "execution_count": 9,
     "metadata": {},
     "output_type": "execute_result"
    }
   ],
   "source": [
    "df_alloys.info()\n",
    "df_alloys.describe()\n"
   ]
  },
  {
   "cell_type": "code",
   "execution_count": 6,
   "metadata": {
    "collapsed": false
   },
   "outputs": [
    {
     "name": "stdout",
     "output_type": "stream",
     "text": [
      "0        Copper alloy tube for heat exchanger excellent...\n",
      "1        Manufacturing method of making aluminum alloy ...\n",
      "2                         White antimicrobial copper alloy\n",
      "3        Aluminum-alloy plate and joined body as well a...\n",
      "4        Process for production of sintered copper allo...\n",
      "5        Aluminum alloy foil for electrode collector an...\n",
      "6        Copper alloy and method of manufacturing coppe...\n",
      "7        Shape memory alloy actuating element with impr...\n",
      "8        Braze alloy compositions and brazing methods f...\n",
      "9        Electro-deposited copper-alloy foil and electr...\n",
      "10       High heat-resistant aluminium casting alloy an...\n",
      "11       High thermal conductivity Al--Mg--Fe--Si alloy...\n",
      "12                                          Aluminum alloy\n",
      "13              Sintered alloy superior in wear resistance\n",
      "14       High-gloss polymethylmethacrylate acrylic copo...\n",
      "15                   Amalgam balls having an alloy coating\n",
      "16       Wear resistant lead free alloy bushing and met...\n",
      "17       Method for preparing tin-silver alloy plating ...\n",
      "18       Cyanide-free electrolyte composition and metho...\n",
      "19            Aluminum alloy and production method thereof\n",
      "20            Aluminum alloy and production method thereof\n",
      "21       Free-machining aluminum alloy extruded materia...\n",
      "22       Nickel-chromium-aluminum alloy having good pro...\n",
      "23       Manufacturing method of aluminum alloy in whic...\n",
      "24       Method for producing R-Fe-B based permanent ma...\n",
      "25       Substrate material of iron-nickel alloy metal ...\n",
      "26       Copper alloy for electric and electronic devic...\n",
      "27       Method of ultrasonic inspection of as-cast tit...\n",
      "28                                Shape memory alloy valve\n",
      "29       Aluminum alloy wire rod, aluminum alloy strand...\n",
      "                               ...                        \n",
      "10181    Electrophotographic photoconductive member emp...\n",
      "10182                Precipitation hardening Ni base alloy\n",
      "10183                    Alloy for a high temperature fuse\n",
      "10184         Electrodeposition of bright tin-nickel alloy\n",
      "10185    Sintered austenitic-ferritic chromium-nickel s...\n",
      "10186                       Aluminium alloy conductor wire\n",
      "10187    Method of and bath for the plating of aluminum...\n",
      "10188    Method for treating copper-nickel-tin alloy co...\n",
      "10189    Copper and copper alloy etching solutions and ...\n",
      "10190    Metal composition and methods for preparing li...\n",
      "10191                 Aluminum alloy-boron fiber composite\n",
      "10192     Wear and seizure resistant aluminum alloy piston\n",
      "10193                    Austenitic iron-nickel base alloy\n",
      "10194    Electroless deposition of a copper-nickel allo...\n",
      "10195                 Aluminum alloy of age hardening type\n",
      "10196            Tabletting spherical dental amalgam alloy\n",
      "10197    Method of rust-preventing for copper and coppe...\n",
      "10198                                    Cobalt-base alloy\n",
      "10199    Silicon-containing nickel-aluminum-molybdenum ...\n",
      "10200    High-temperature eutectoid alloy and process o...\n",
      "10201    Method for recovering a usable alloy from tita...\n",
      "10202    Method of forming colored oxide film on alumin...\n",
      "10203               Zinc-copper alloy electroplating baths\n",
      "10204    Method for painting aluminum or aluminum-based...\n",
      "10205    Process and apparatus for producing thin coppe...\n",
      "10206          Nickel-iron-chromium alloy wrought products\n",
      "10207    Method of spraying molybdenum on aluminum or a...\n",
      "10208           Special magnesium-manganese aluminum alloy\n",
      "10209            High temperature low density cobalt alloy\n",
      "10210    Method for a surface treatment of an iron, fer...\n",
      "Name: title, dtype: object\n"
     ]
    }
   ],
   "source": [
    "df_titles = df_alloys['title']\n",
    "print (df_titles)"
   ]
  },
  {
   "cell_type": "code",
   "execution_count": 14,
   "metadata": {
    "collapsed": false
   },
   "outputs": [
    {
     "data": {
      "text/plain": [
       "count                           10210\n",
       "unique                           9066\n",
       "top       Shape memory alloy actuator\n",
       "freq                               17\n",
       "Name: title, dtype: object"
      ]
     },
     "execution_count": 14,
     "metadata": {},
     "output_type": "execute_result"
    }
   ],
   "source": [
    "df_titles.describe()"
   ]
  },
  {
   "cell_type": "code",
   "execution_count": null,
   "metadata": {
    "collapsed": true
   },
   "outputs": [],
   "source": []
  },
  {
   "cell_type": "markdown",
   "metadata": {},
   "source": [
    "### Parse titles and give results."
   ]
  },
  {
   "cell_type": "code",
   "execution_count": 12,
   "metadata": {
    "collapsed": false
   },
   "outputs": [
    {
     "ename": "AttributeError",
     "evalue": "'float' object has no attribute 'split'",
     "output_type": "error",
     "traceback": [
      "\u001b[0;31m---------------------------------------------------------------------------\u001b[0m",
      "\u001b[0;31mAttributeError\u001b[0m                            Traceback (most recent call last)",
      "\u001b[0;32m<ipython-input-12-5edac13728db>\u001b[0m in \u001b[0;36m<module>\u001b[0;34m()\u001b[0m\n\u001b[0;32m----> 1\u001b[0;31m \u001b[0mtitle_word\u001b[0m \u001b[0;34m=\u001b[0m \u001b[0;34m[\u001b[0m\u001b[0mwords\u001b[0m \u001b[0;32mfor\u001b[0m \u001b[0msegments\u001b[0m \u001b[0;32min\u001b[0m \u001b[0mdf_titles\u001b[0m \u001b[0;32mfor\u001b[0m \u001b[0mwords\u001b[0m \u001b[0;32min\u001b[0m \u001b[0msegments\u001b[0m\u001b[0;34m.\u001b[0m\u001b[0msplit\u001b[0m\u001b[0;34m(\u001b[0m\u001b[0;34m)\u001b[0m\u001b[0;34m]\u001b[0m\u001b[0;34m\u001b[0m\u001b[0m\n\u001b[0m\u001b[1;32m      2\u001b[0m \u001b[0mtitle_word\u001b[0m \u001b[0;34m=\u001b[0m \u001b[0;34m[\u001b[0m\u001b[0melement\u001b[0m\u001b[0;34m.\u001b[0m\u001b[0mlower\u001b[0m\u001b[0;34m(\u001b[0m\u001b[0;34m)\u001b[0m \u001b[0;32mfor\u001b[0m \u001b[0melement\u001b[0m \u001b[0;32min\u001b[0m \u001b[0mtitle_word\u001b[0m\u001b[0;34m]\u001b[0m\u001b[0;34m\u001b[0m\u001b[0m\n\u001b[1;32m      3\u001b[0m \u001b[0;32mprint\u001b[0m \u001b[0;34m(\u001b[0m\u001b[0mtitle_word\u001b[0m\u001b[0;34m)\u001b[0m\u001b[0;34m\u001b[0m\u001b[0m\n",
      "\u001b[0;31mAttributeError\u001b[0m: 'float' object has no attribute 'split'"
     ]
    }
   ],
   "source": [
    "title_word = [words for segments in df_titles for words in segments.split()]\n",
    "title_word = [element.lower() for element in title_word]\n",
    "print (title_word)"
   ]
  },
  {
   "cell_type": "code",
   "execution_count": null,
   "metadata": {
    "collapsed": true
   },
   "outputs": [],
   "source": []
  }
 ],
 "metadata": {
  "kernelspec": {
   "display_name": "Python 2",
   "language": "python",
   "name": "python2"
  },
  "language_info": {
   "codemirror_mode": {
    "name": "ipython",
    "version": 2
   },
   "file_extension": ".py",
   "mimetype": "text/x-python",
   "name": "python",
   "nbconvert_exporter": "python",
   "pygments_lexer": "ipython2",
   "version": "2.7.13"
  }
 },
 "nbformat": 4,
 "nbformat_minor": 0
}
