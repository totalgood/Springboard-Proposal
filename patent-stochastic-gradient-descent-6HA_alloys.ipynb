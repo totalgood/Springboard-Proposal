{
 "cells": [
  {
   "cell_type": "markdown",
   "metadata": {
    "slideshow": {
     "slide_type": "slide"
    }
   },
   "source": [
    "## patent-stochastic-gradient-descent-6HA_alloys"
   ]
  },
  {
   "cell_type": "markdown",
   "metadata": {},
   "source": [
    "### Data Dictionary\n",
    "\n",
    "df_patents (dataframe)"
   ]
  },
  {
   "cell_type": "markdown",
   "metadata": {},
   "source": [
    "### Load dataframe and strip the non-numeric data. "
   ]
  },
  {
   "cell_type": "code",
   "execution_count": 1,
   "metadata": {
    "collapsed": false
   },
   "outputs": [
    {
     "name": "stdout",
     "output_type": "stream",
     "text": [
      "      patent_no                                       url  \\\n",
      "0       3930575  https://www.google.com/patents/US3930575   \n",
      "1       3930848  https://www.google.com/patents/US3930848   \n",
      "2       3930895  https://www.google.com/patents/US3930895   \n",
      "3       3930899  https://www.google.com/patents/US3930899   \n",
      "4       3930904  https://www.google.com/patents/US3930904   \n",
      "5       3930962  https://www.google.com/patents/US3930962   \n",
      "6       3930964  https://www.google.com/patents/US3930964   \n",
      "7       3930965  https://www.google.com/patents/US3930965   \n",
      "8       3930966  https://www.google.com/patents/US3930966   \n",
      "9       3933473  https://www.google.com/patents/US3933473   \n",
      "10      3933481  https://www.google.com/patents/US3933481   \n",
      "11      3933483  https://www.google.com/patents/US3933483   \n",
      "12      3933484  https://www.google.com/patents/US3933484   \n",
      "13      3933531  https://www.google.com/patents/US3933531   \n",
      "14      3933961  https://www.google.com/patents/US3933961   \n",
      "15      3935007  https://www.google.com/patents/US3935007   \n",
      "16      3935013  https://www.google.com/patents/US3935013   \n",
      "17      3935037  https://www.google.com/patents/US3935037   \n",
      "18      3935797  https://www.google.com/patents/US3935797   \n",
      "19      3936277  https://www.google.com/patents/US3936277   \n",
      "20      3936298  https://www.google.com/patents/US3936298   \n",
      "21      3936332  https://www.google.com/patents/US3936332   \n",
      "22      3937638  https://www.google.com/patents/US3937638   \n",
      "23      3937858  https://www.google.com/patents/US3937858   \n",
      "24      3939299  https://www.google.com/patents/US3939299   \n",
      "25      3940269  https://www.google.com/patents/US3940269   \n",
      "26      3940319  https://www.google.com/patents/US3940319   \n",
      "27      3940728  https://www.google.com/patents/US3940728   \n",
      "28      3941590  https://www.google.com/patents/US3941590   \n",
      "29      3941591  https://www.google.com/patents/US3941591   \n",
      "...         ...                                       ...   \n",
      "10107   9610656  https://www.google.com/patents/US9610656   \n",
      "10108   9611741  https://www.google.com/patents/US9611741   \n",
      "10109   9611937  https://www.google.com/patents/US9611937   \n",
      "10110   9613648  https://www.google.com/patents/US9613648   \n",
      "10111   9616495  https://www.google.com/patents/US9616495   \n",
      "10112   9616639  https://www.google.com/patents/US9616639   \n",
      "10113   9617623  https://www.google.com/patents/US9617623   \n",
      "10114   9617629  https://www.google.com/patents/US9617629   \n",
      "10115   9617856  https://www.google.com/patents/US9617856   \n",
      "10116   9620268  https://www.google.com/patents/US9620268   \n",
      "10117   9620269  https://www.google.com/patents/US9620269   \n",
      "10118   9622885  https://www.google.com/patents/US9622885   \n",
      "10119   9624562  https://www.google.com/patents/US9624562   \n",
      "10120   9624565  https://www.google.com/patents/US9624565   \n",
      "10121   9624566  https://www.google.com/patents/US9624566   \n",
      "10122   9624568  https://www.google.com/patents/US9624568   \n",
      "10123   9629873  https://www.google.com/patents/US9629873   \n",
      "10124   9630161  https://www.google.com/patents/US9630161   \n",
      "10125   9630251  https://www.google.com/patents/US9630251   \n",
      "10126   9630834  https://www.google.com/patents/US9630834   \n",
      "10127   9631157  https://www.google.com/patents/US9631157   \n",
      "10128   9631260  https://www.google.com/patents/US9631260   \n",
      "10129   9631261  https://www.google.com/patents/US9631261   \n",
      "10130   9631268  https://www.google.com/patents/US9631268   \n",
      "10131   9631878  https://www.google.com/patents/US9631878   \n",
      "10132   9631879  https://www.google.com/patents/US9631879   \n",
      "10133   9634123  https://www.google.com/patents/US9634123   \n",
      "10134   9634324  https://www.google.com/patents/US9634324   \n",
      "10135   9636784  https://www.google.com/patents/US9636784   \n",
      "10136   9637179  https://www.google.com/patents/US9637179   \n",
      "\n",
      "                                                   title issue_date  \\\n",
      "0      Method for a surface treatment of an iron, fer...     1/6/76   \n",
      "1              High temperature low density cobalt alloy     1/6/76   \n",
      "2             Special magnesium-manganese aluminum alloy     1/6/76   \n",
      "3      Method of spraying molybdenum on aluminum or a...     1/6/76   \n",
      "4            Nickel-iron-chromium alloy wrought products     1/6/76   \n",
      "5      Process and apparatus for producing thin coppe...     1/6/76   \n",
      "6      Method for painting aluminum or aluminum-based...     1/6/76   \n",
      "7                 Zinc-copper alloy electroplating baths     1/6/76   \n",
      "8      Method of forming colored oxide film on alumin...     1/6/76   \n",
      "9      Method for recovering a usable alloy from tita...    1/20/76   \n",
      "10     High-temperature eutectoid alloy and process o...    1/20/76   \n",
      "11     Silicon-containing nickel-aluminum-molybdenum ...    1/20/76   \n",
      "12                                     Cobalt-base alloy    1/20/76   \n",
      "13     Method of rust-preventing for copper and coppe...    1/20/76   \n",
      "14             Tabletting spherical dental amalgam alloy    1/20/76   \n",
      "15                  Aluminum alloy of age hardening type    1/27/76   \n",
      "16     Electroless deposition of a copper-nickel allo...    1/27/76   \n",
      "17                     Austenitic iron-nickel base alloy    1/27/76   \n",
      "18      Wear and seizure resistant aluminum alloy piston     2/3/76   \n",
      "19                  Aluminum alloy-boron fiber composite     2/3/76   \n",
      "20     Metal composition and methods for preparing li...     2/3/76   \n",
      "21     Copper and copper alloy etching solutions and ...     2/3/76   \n",
      "22     Method for treating copper-nickel-tin alloy co...    2/10/76   \n",
      "23     Method of and bath for the plating of aluminum...    2/10/76   \n",
      "24                        Aluminium alloy conductor wire    2/17/76   \n",
      "25     Sintered austenitic-ferritic chromium-nickel s...    2/24/76   \n",
      "26          Electrodeposition of bright tin-nickel alloy    2/24/76   \n",
      "27                     Alloy for a high temperature fuse    2/24/76   \n",
      "28                 Precipitation hardening Ni base alloy     3/2/76   \n",
      "29     Electrophotographic photoconductive member emp...     3/2/76   \n",
      "...                                                  ...        ...   \n",
      "10107           Lead-free solder alloy for vehicle glass     4/4/17   \n",
      "10108  Braze alloy compositions and brazing methods f...     4/4/17   \n",
      "10109  Superelastic nickel-titanium alloy downhole se...     4/4/17   \n",
      "10110  Aluminum alloy plate for magnetic disc substra...     4/4/17   \n",
      "10111  Amorphous alloy and method for manufacturing t...    4/11/17   \n",
      "10112  Tin-plated copper-alloy material for terminal ...    4/11/17   \n",
      "10113  Aluminum alloy including iron-manganese comple...    4/11/17   \n",
      "10114        Copper-nickel-zinc alloy containing silicon    4/11/17   \n",
      "10115  Ni base forged alloy and gas turbine utilizing...    4/11/17   \n",
      "10116  R-T-B based alloy strip, and R-T-B based sinte...    4/11/17   \n",
      "10117  Method and equipment for processing NdFeB rare...    4/11/17   \n",
      "10118  Collapsible, shape memory alloy structures and...    4/18/17   \n",
      "10119  Al alloy film for display or semiconductor dev...    4/18/17   \n",
      "10120  Nanocrystal-containing titanium alloy and prod...    4/18/17   \n",
      "10121  Alpha and beta titanium alloy sheet excellent ...    4/18/17   \n",
      "10122  Thermal spray applications using iron based al...    4/18/17   \n",
      "10123  Bioresorbable metal alloy and implants made of...    4/25/17   \n",
      "10124  Metal alloy nanoparticle synthesis via self-as...    4/25/17   \n",
      "10125                                     Titanium alloy    4/25/17   \n",
      "10126  Wafer scale monolithic CMOS-integration of fre...    4/25/17   \n",
      "10127  Cu_��Ni_��Sn alloy overlay for bearing surface...    4/25/17   \n",
      "10128  Copper alloy sheets for electrical/electronic ...    4/25/17   \n",
      "10129  Low-cost alpha-beta titanium alloy with good b...    4/25/17   \n",
      "10130  Methods and systems for shape memory alloy str...    4/25/17   \n",
      "10131  Process for producing aluminum alloy tube havi...    4/25/17   \n",
      "10132  Aluminum alloy for extrusion and drawing proce...    4/25/17   \n",
      "10133  FinFET device including a dielectrically isola...    4/25/17   \n",
      "10134  Nickel-metal hydride battery and method for pr...    4/25/17   \n",
      "10135                           Mixed alloy solder paste     5/2/17   \n",
      "10136  Aluminum alloy vehicle structural component de...     5/2/17   \n",
      "\n",
      "            date  num_inventor  num_pc  num_npc  num_rb  num_class  num_le  \n",
      "0       6-Jan-76             3       6        2       2          5       0  \n",
      "1       6-Jan-76             1       1        0       0          5       0  \n",
      "2       6-Jan-76             2       7        0      35         11       0  \n",
      "3       6-Jan-76             3       5        0       3         15       0  \n",
      "4       6-Jan-76             3       7        0       8          5       0  \n",
      "5       6-Jan-76             2       2        0       5          6       3  \n",
      "6       6-Jan-76            10       6        0       1         17       0  \n",
      "7       6-Jan-76             1       5        2       6          8       0  \n",
      "8       6-Jan-76             4       8        2      17          6       0  \n",
      "9      20-Jan-76             1       7        0       6         12       0  \n",
      "10     20-Jan-76             1       1        0       0         12       0  \n",
      "11     20-Jan-76             4       2        0      21          4       0  \n",
      "12     20-Jan-76             1       1        0      19         11       3  \n",
      "13     20-Jan-76             2       4        0      34         14       1  \n",
      "14     20-Jan-76             1       2        0      23         14       0  \n",
      "15     27-Jan-76             2       6        0      19          7       0  \n",
      "16     27-Jan-76             1       6        0      14         12       0  \n",
      "17     27-Jan-76             2       7        0       2          4       0  \n",
      "18      3-Feb-76             6       3        0      34         19       0  \n",
      "19      3-Feb-76             2       8        1      41         24       0  \n",
      "20      3-Feb-76             2       3        0      77         16       0  \n",
      "21      3-Feb-76             2       2        0       9          8       0  \n",
      "22     10-Feb-76             1       3        0      19          8       0  \n",
      "23     10-Feb-76             1       4        0      14          6       0  \n",
      "24     17-Feb-76             2       8        0       8         24       0  \n",
      "25     24-Feb-76             1       5        1      16         10       4  \n",
      "26     24-Feb-76             1       2        2      32          7       0  \n",
      "27     24-Feb-76             5       3        0      15         15       0  \n",
      "28      2-Mar-76             1       2        0       8          4       0  \n",
      "29      2-Mar-76             3      14        2       2          7       0  \n",
      "...          ...           ...     ...      ...     ...        ...     ...  \n",
      "10107   4-Apr-17             3      31        5       0         11       1  \n",
      "10108   4-Apr-17             2       6        4       0         27       1  \n",
      "10109   4-Apr-17             2      12        2       0         24       1  \n",
      "10110   4-Apr-17             4      13        2       0         31       1  \n",
      "10111  11-Apr-17             3      17        3       0          6       1  \n",
      "10112  11-Apr-17             3      16        2       0         15       1  \n",
      "10113  11-Apr-17             2      14       16       0         14       1  \n",
      "10114  11-Apr-17             2      22        3       0         26       1  \n",
      "10115  11-Apr-17             5      10        2       0         13       2  \n",
      "10116  11-Apr-17             5      23       13       0         26       1  \n",
      "10117  11-Apr-17             1      10        1       0         30       0  \n",
      "10118  18-Apr-17             4      28        0       0         30       0  \n",
      "10119  18-Apr-17             2      53        2       0         20       0  \n",
      "10120  18-Apr-17             4       2        7       0          6       0  \n",
      "10121  18-Apr-17             2      10        3       0          6       0  \n",
      "10122  18-Apr-17             7      78       10       0         24       0  \n",
      "10123  25-Apr-17             5      26       14       0         15       1  \n",
      "10124  25-Apr-17             2       5       40       0         12       2  \n",
      "10125  25-Apr-17             2     208       19       0         14       1  \n",
      "10126  25-Apr-17             2      16        0       0          5       1  \n",
      "10127  25-Apr-17             2      21       14       0         34       2  \n",
      "10128  25-Apr-17             3      30       17       0         15       1  \n",
      "10129  25-Apr-17             1      28        6       0          5       2  \n",
      "10130  25-Apr-17             3      20        3       0         12       1  \n",
      "10131  25-Apr-17             1       9        1       0         32       1  \n",
      "10132  25-Apr-17             1      45        5       0          7       1  \n",
      "10133  25-Apr-17             1       4        0       0          6       1  \n",
      "10134  25-Apr-17             3      12        7       0         11       2  \n",
      "10135   2-May-17             2       6        2       0         81       0  \n",
      "10136   2-May-17             5      22        1       0         13       0  \n",
      "\n",
      "[10137 rows x 11 columns]\n"
     ]
    }
   ],
   "source": [
    "import numpy as np\n",
    "import pandas as pd\n",
    "\n",
    "df_patents = pd.read_csv('/Users/stevehansen/Desktop/output_alloy_data_total.csv')\n",
    "\n",
    "\n",
    "# Drop unwanted columns \n",
    "\n",
    "df_patents = df_patents.drop(['Unnamed: 0'], axis=1)\n",
    "df_patents = df_patents.drop(['num_patent'], axis=1)\n",
    "\n",
    "\n",
    "# Revers the order of the dataframe. \n",
    "df_patents = df_patents.iloc[::-1]\n",
    "\n",
    "# Renumber the index so that the plots are numbered correctly. \n",
    "\n",
    "df_patents = df_patents.reset_index()\n",
    "del df_patents['index']\n",
    "\n",
    "print (df_patents)       # Looks okay.\n"
   ]
  },
  {
   "cell_type": "markdown",
   "metadata": {},
   "source": [
    "### Save as df_patents."
   ]
  },
  {
   "cell_type": "code",
   "execution_count": 2,
   "metadata": {
    "collapsed": false
   },
   "outputs": [
    {
     "data": {
      "text/html": [
       "<div>\n",
       "<table border=\"1\" class=\"dataframe\">\n",
       "  <thead>\n",
       "    <tr style=\"text-align: right;\">\n",
       "      <th></th>\n",
       "      <th>num_inventor</th>\n",
       "      <th>num_pc</th>\n",
       "      <th>num_npc</th>\n",
       "      <th>num_rb</th>\n",
       "      <th>num_class</th>\n",
       "      <th>num_le</th>\n",
       "    </tr>\n",
       "  </thead>\n",
       "  <tbody>\n",
       "    <tr>\n",
       "      <th>count</th>\n",
       "      <td>10137.000000</td>\n",
       "      <td>10137.000000</td>\n",
       "      <td>10137.000000</td>\n",
       "      <td>10137.000000</td>\n",
       "      <td>10137.000000</td>\n",
       "      <td>10137.000000</td>\n",
       "    </tr>\n",
       "    <tr>\n",
       "      <th>mean</th>\n",
       "      <td>2.919108</td>\n",
       "      <td>12.997139</td>\n",
       "      <td>3.212785</td>\n",
       "      <td>15.647036</td>\n",
       "      <td>16.174213</td>\n",
       "      <td>4.176186</td>\n",
       "    </tr>\n",
       "    <tr>\n",
       "      <th>std</th>\n",
       "      <td>1.818188</td>\n",
       "      <td>24.138194</td>\n",
       "      <td>8.621308</td>\n",
       "      <td>41.604616</td>\n",
       "      <td>10.058189</td>\n",
       "      <td>2.722414</td>\n",
       "    </tr>\n",
       "    <tr>\n",
       "      <th>min</th>\n",
       "      <td>1.000000</td>\n",
       "      <td>0.000000</td>\n",
       "      <td>0.000000</td>\n",
       "      <td>0.000000</td>\n",
       "      <td>2.000000</td>\n",
       "      <td>0.000000</td>\n",
       "    </tr>\n",
       "    <tr>\n",
       "      <th>25%</th>\n",
       "      <td>2.000000</td>\n",
       "      <td>5.000000</td>\n",
       "      <td>0.000000</td>\n",
       "      <td>2.000000</td>\n",
       "      <td>9.000000</td>\n",
       "      <td>2.000000</td>\n",
       "    </tr>\n",
       "    <tr>\n",
       "      <th>50%</th>\n",
       "      <td>3.000000</td>\n",
       "      <td>8.000000</td>\n",
       "      <td>0.000000</td>\n",
       "      <td>7.000000</td>\n",
       "      <td>14.000000</td>\n",
       "      <td>4.000000</td>\n",
       "    </tr>\n",
       "    <tr>\n",
       "      <th>75%</th>\n",
       "      <td>4.000000</td>\n",
       "      <td>15.000000</td>\n",
       "      <td>3.000000</td>\n",
       "      <td>18.000000</td>\n",
       "      <td>20.000000</td>\n",
       "      <td>6.000000</td>\n",
       "    </tr>\n",
       "    <tr>\n",
       "      <th>max</th>\n",
       "      <td>18.000000</td>\n",
       "      <td>981.000000</td>\n",
       "      <td>218.000000</td>\n",
       "      <td>2341.000000</td>\n",
       "      <td>116.000000</td>\n",
       "      <td>22.000000</td>\n",
       "    </tr>\n",
       "  </tbody>\n",
       "</table>\n",
       "</div>"
      ],
      "text/plain": [
       "       num_inventor        num_pc       num_npc        num_rb     num_class  \\\n",
       "count  10137.000000  10137.000000  10137.000000  10137.000000  10137.000000   \n",
       "mean       2.919108     12.997139      3.212785     15.647036     16.174213   \n",
       "std        1.818188     24.138194      8.621308     41.604616     10.058189   \n",
       "min        1.000000      0.000000      0.000000      0.000000      2.000000   \n",
       "25%        2.000000      5.000000      0.000000      2.000000      9.000000   \n",
       "50%        3.000000      8.000000      0.000000      7.000000     14.000000   \n",
       "75%        4.000000     15.000000      3.000000     18.000000     20.000000   \n",
       "max       18.000000    981.000000    218.000000   2341.000000    116.000000   \n",
       "\n",
       "             num_le  \n",
       "count  10137.000000  \n",
       "mean       4.176186  \n",
       "std        2.722414  \n",
       "min        0.000000  \n",
       "25%        2.000000  \n",
       "50%        4.000000  \n",
       "75%        6.000000  \n",
       "max       22.000000  "
      ]
     },
     "execution_count": 2,
     "metadata": {},
     "output_type": "execute_result"
    }
   ],
   "source": [
    "df_patents.describe()"
   ]
  },
  {
   "cell_type": "code",
   "execution_count": null,
   "metadata": {
    "collapsed": false
   },
   "outputs": [],
   "source": [
    "df_patents.sort_values(['num_rb'], ascending=[1])"
   ]
  },
  {
   "cell_type": "markdown",
   "metadata": {
    "collapsed": false
   },
   "source": [
    "### Prepare to plot various quantities. "
   ]
  },
  {
   "cell_type": "code",
   "execution_count": 3,
   "metadata": {
    "collapsed": false
   },
   "outputs": [],
   "source": [
    "num_inventors = []\n",
    "num_pcs = []\n",
    "num_npcs = []\n",
    "num_rbs = []\n",
    "num_classes = []\n",
    "num_les = []\n",
    "\n",
    "# Number of patent citations, num_pc. \n",
    "value  = (df_patents['num_pc'])\n",
    "num_pcs.append(value)  \n",
    "    \n",
    "# Number of forward citations, num_rb.\n",
    "value  = (df_patents['num_rb'])\n",
    "num_rbs.append(value)\n",
    "\n",
    "# Number of inventors, num_inventor.\n",
    "value  = (df_patents['num_inventor'])\n",
    "num_inventors.append(value)\n",
    "\n",
    "# Number of non-patent citations, num_npc.\n",
    "value  = (df_patents['num_npc'])\n",
    "num_npcs.append(value)\n",
    "\n",
    "# Number of legal events, num_le.\n",
    "value  = (df_patents['num_le'])\n",
    "num_les.append(value)\n",
    "\n",
    "# Number of classifications, num_class\n",
    "value  = (df_patents['num_class'])\n",
    "num_classes.append(value)"
   ]
  },
  {
   "cell_type": "code",
   "execution_count": 4,
   "metadata": {
    "collapsed": false
   },
   "outputs": [
    {
     "name": "stderr",
     "output_type": "stream",
     "text": [
      "/Library/Frameworks/Python.framework/Versions/2.7/lib/python2.7/site-packages/IPython/html.py:14: ShimWarning: The `IPython.html` package has been deprecated since IPython 4.0. You should import from `notebook` instead. `IPython.html.widgets` has moved to `ipywidgets`.\n",
      "  \"`IPython.html.widgets` has moved to `ipywidgets`.\", ShimWarning)\n"
     ]
    }
   ],
   "source": [
    "import matplotlib\n",
    "import matplotlib.pyplot as plt\n",
    "%matplotlib inline\n",
    "\n",
    "import seaborn as sns"
   ]
  },
  {
   "cell_type": "markdown",
   "metadata": {},
   "source": [
    "## Plot No. of Forward Citations vs. other variables. "
   ]
  },
  {
   "cell_type": "code",
   "execution_count": 5,
   "metadata": {
    "collapsed": false,
    "scrolled": false
   },
   "outputs": [
    {
     "data": {
      "image/png": "[encoded data removed]",
      "text/plain": [
       "<matplotlib.figure.Figure at 0x10afbff90>"
      ]
     },
     "metadata": {},
     "output_type": "display_data"
    },
    {
     "data": {
      "image/png": "[encoded data removed]",
      "text/plain": [
       "<matplotlib.figure.Figure at 0x10afbff50>"
      ]
     },
     "metadata": {},
     "output_type": "display_data"
    },
    {
     "data": {
      "image/png": "[encoded data removed]",
      "text/plain": [
       "<matplotlib.figure.Figure at 0x1165738d0>"
      ]
     },
     "metadata": {},
     "output_type": "display_data"
    },
    {
     "data": {
      "image/png": "[encoded data removed]",
      "text/plain": [
       "<matplotlib.figure.Figure at 0x116573d90>"
      ]
     },
     "metadata": {},
     "output_type": "display_data"
    },
    {
     "data": {
      "image/png": "[encoded data removed]",
      "text/plain": [
       "<matplotlib.figure.Figure at 0x10b9590d0>"
      ]
     },
     "metadata": {},
     "output_type": "display_data"
    }
   ],
   "source": [
    "# No. of forward patent citations vs. No. of back patent references. \n",
    "\n",
    "plt.scatter(num_pcs, num_rbs, marker = 'o', color = 'green', s = 11 )\n",
    "plt.xlabel(\"No. of Patent Citations \")\n",
    "plt.ylabel(\"No. of Forward Citations\")\n",
    "plt.style.use('bmh')\n",
    "ax = plt.axes()\n",
    "ax.set(xlim=(-2,1000), ylim = (-5,2500))\n",
    "plt.savefig('rbs-vw-pcs.png',dpi=600)\n",
    "\n",
    "plt.show()\n",
    "\n",
    "\n",
    "# Number of forward citations vs. number of (back) non-patent citations. \n",
    "\n",
    "plt.scatter(num_npcs, num_rbs,  marker = 'o', color = 'green', s = 11)\n",
    "plt.xlabel(\"No. of Non-Patents Citations\")\n",
    "plt.ylabel(\"No. of Forward Citations\")\n",
    "\n",
    "plt.style.use('bmh')\n",
    "ax = plt.axes()\n",
    "ax.set(xlim=(-4,240), ylim = (-50,2500))\n",
    "plt.savefig('rbs-vs-npcs.png',dpi=800)\n",
    "plt.show()\n",
    "\n",
    "\n",
    "# Number of inventors vs. number of forward citations. \n",
    "\n",
    "plt.scatter(num_inventors, num_rbs,  marker = 'o', color = 'green', s = 13 )\n",
    "plt.xlabel(\"No. of Inventors\")\n",
    "plt.ylabel(\"No. of Forward Citations\")\n",
    "\n",
    "plt.style.use('bmh')\n",
    "ax = plt.axes()\n",
    "ax.set(xlim=(0,25), ylim = (-5,2500))\n",
    "plt.savefig('rbs-vs-inventors.png',dpi=600)\n",
    "\n",
    "plt.show()\n",
    "\n",
    "\n",
    "# Plot the number forward references vs. number of classifications. \n",
    "\n",
    "plt.scatter(num_classes, num_rbs,  marker = 'o', color = 'green', s = 15 )\n",
    "plt.xlabel(\"No. of Classifications\")\n",
    "plt.ylabel(\"No. of Forward Citations\")\n",
    "\n",
    "plt.style.use('bmh')\n",
    "ax = plt.axes()\n",
    "ax.set(xlim=(-5,150), ylim = (-50,2500))\n",
    "plt.savefig('rbs-vs-classes.png',dpi=600)\n",
    "plt.show()\n",
    "\n",
    "\n",
    "# Plot the number of forward citations vs. number of legal events.  \n",
    "\n",
    "plt.scatter(num_les, num_rbs,  marker = 'o', color = 'green', s = 15 )\n",
    "plt.xlabel(\"No. of Legal Events\")\n",
    "plt.ylabel(\"No. of Forward Citations\")\n",
    "\n",
    "plt.style.use('bmh')\n",
    "ax = plt.axes()\n",
    "ax.set(xlim=(-1,25), ylim = (0,2500))\n",
    "plt.savefig('rbs-vs-legal_events.png',dpi=600)\n",
    "plt.show()\n",
    "\n"
   ]
  },
  {
   "cell_type": "code",
   "execution_count": 6,
   "metadata": {
    "collapsed": false
   },
   "outputs": [
    {
     "data": {
      "image/png": "[encoded data removed]",
      "text/plain": [
       "<matplotlib.figure.Figure at 0x10afbf490>"
      ]
     },
     "metadata": {},
     "output_type": "display_data"
    }
   ],
   "source": [
    "# Plot the number of Patent Citation versus Non-Patent Citations. \n",
    "\n",
    "plt.scatter(num_pcs, num_npcs,  marker = 'o', color = 'green', s = 15 )\n",
    "plt.xlabel(\"No. of Patent Citations \")\n",
    "plt.ylabel(\"Number of Non-Patent Citations\")\n",
    "\n",
    "plt.style.use('bmh')\n",
    "ax = plt.axes()\n",
    "ax.set(xlim=(-20,1200), ylim = (-10,250))\n",
    "\n",
    "plt.show()"
   ]
  },
  {
   "cell_type": "markdown",
   "metadata": {},
   "source": [
    "### Correlation plots. "
   ]
  },
  {
   "cell_type": "code",
   "execution_count": 7,
   "metadata": {
    "collapsed": false
   },
   "outputs": [
    {
     "data": {
      "image/png": "[encoded data removed]",
      "text/plain": [
       "<matplotlib.figure.Figure at 0x116a85490>"
      ]
     },
     "metadata": {},
     "output_type": "display_data"
    }
   ],
   "source": [
    "names = ['num_inventor', 'num_pc', 'num_npc', 'num_rb', 'num_class', 'num_le']\n",
    "\n",
    "import seaborn as sns\n",
    "correlations = df_patents.corr()\n",
    "\n",
    "fig = plt.figure()\n",
    "ax = fig.add_subplot(111) \n",
    "cax = ax.matshow(correlations, vmin= -1, vmax = 1)\n",
    "fig.colorbar(cax)\n",
    "plt.savefig('correlation_plot.png',dpi=600)\n",
    "plt.show()\n",
    " "
   ]
  },
  {
   "cell_type": "code",
   "execution_count": 8,
   "metadata": {
    "collapsed": false
   },
   "outputs": [
    {
     "data": {
      "text/plain": [
       "<matplotlib.axes._subplots.AxesSubplot at 0x116a85c90>"
      ]
     },
     "execution_count": 8,
     "metadata": {},
     "output_type": "execute_result"
    },
    {
     "data": {
      "image/png": "[encoded data removed]",
      "text/plain": [
       "<matplotlib.figure.Figure at 0x116cd0a10>"
      ]
     },
     "metadata": {},
     "output_type": "display_data"
    }
   ],
   "source": [
    "import seaborn as sns\n",
    "import matplotlib.pyplot as plt\n",
    "sns.set(context=\"paper\", font=\"monospace\")\n",
    "\n",
    "# Load the datset of correlations.\n",
    "\n",
    "corr = df_patents.corr()\n",
    "\n",
    "# Set up the matplotlib figure\n",
    "f, ax = plt.subplots(figsize=(12, 8))\n",
    "\n",
    "\n",
    "sns.heatmap(corr, \n",
    "            xticklabels=corr.columns.values,\n",
    "            yticklabels=corr.columns.values)\n"
   ]
  },
  {
   "cell_type": "code",
   "execution_count": 9,
   "metadata": {
    "collapsed": false,
    "scrolled": false
   },
   "outputs": [
    {
     "data": {
      "text/html": [
       "<div>\n",
       "<table border=\"1\" class=\"dataframe\">\n",
       "  <thead>\n",
       "    <tr style=\"text-align: right;\">\n",
       "      <th></th>\n",
       "      <th>num_inventor</th>\n",
       "      <th>num_pc</th>\n",
       "      <th>num_npc</th>\n",
       "      <th>num_rb</th>\n",
       "      <th>num_class</th>\n",
       "      <th>num_le</th>\n",
       "    </tr>\n",
       "  </thead>\n",
       "  <tbody>\n",
       "    <tr>\n",
       "      <th>num_inventor</th>\n",
       "      <td>1.000000</td>\n",
       "      <td>0.029405</td>\n",
       "      <td>0.035690</td>\n",
       "      <td>-0.047597</td>\n",
       "      <td>0.041307</td>\n",
       "      <td>-0.015896</td>\n",
       "    </tr>\n",
       "    <tr>\n",
       "      <th>num_pc</th>\n",
       "      <td>0.029405</td>\n",
       "      <td>1.000000</td>\n",
       "      <td>0.625528</td>\n",
       "      <td>0.015457</td>\n",
       "      <td>0.116630</td>\n",
       "      <td>-0.058295</td>\n",
       "    </tr>\n",
       "    <tr>\n",
       "      <th>num_npc</th>\n",
       "      <td>0.035690</td>\n",
       "      <td>0.625528</td>\n",
       "      <td>1.000000</td>\n",
       "      <td>0.029300</td>\n",
       "      <td>0.082055</td>\n",
       "      <td>-0.028718</td>\n",
       "    </tr>\n",
       "    <tr>\n",
       "      <th>num_rb</th>\n",
       "      <td>-0.047597</td>\n",
       "      <td>0.015457</td>\n",
       "      <td>0.029300</td>\n",
       "      <td>1.000000</td>\n",
       "      <td>0.099630</td>\n",
       "      <td>0.121822</td>\n",
       "    </tr>\n",
       "    <tr>\n",
       "      <th>num_class</th>\n",
       "      <td>0.041307</td>\n",
       "      <td>0.116630</td>\n",
       "      <td>0.082055</td>\n",
       "      <td>0.099630</td>\n",
       "      <td>1.000000</td>\n",
       "      <td>0.029785</td>\n",
       "    </tr>\n",
       "    <tr>\n",
       "      <th>num_le</th>\n",
       "      <td>-0.015896</td>\n",
       "      <td>-0.058295</td>\n",
       "      <td>-0.028718</td>\n",
       "      <td>0.121822</td>\n",
       "      <td>0.029785</td>\n",
       "      <td>1.000000</td>\n",
       "    </tr>\n",
       "  </tbody>\n",
       "</table>\n",
       "</div>"
      ],
      "text/plain": [
       "              num_inventor    num_pc   num_npc    num_rb  num_class    num_le\n",
       "num_inventor      1.000000  0.029405  0.035690 -0.047597   0.041307 -0.015896\n",
       "num_pc            0.029405  1.000000  0.625528  0.015457   0.116630 -0.058295\n",
       "num_npc           0.035690  0.625528  1.000000  0.029300   0.082055 -0.028718\n",
       "num_rb           -0.047597  0.015457  0.029300  1.000000   0.099630  0.121822\n",
       "num_class         0.041307  0.116630  0.082055  0.099630   1.000000  0.029785\n",
       "num_le           -0.015896 -0.058295 -0.028718  0.121822   0.029785  1.000000"
      ]
     },
     "execution_count": 9,
     "metadata": {},
     "output_type": "execute_result"
    }
   ],
   "source": [
    "df_patents.corr()"
   ]
  },
  {
   "cell_type": "markdown",
   "metadata": {},
   "source": [
    "### Build stochastic gradient descent mode.   Normalize the input variables. "
   ]
  },
  {
   "cell_type": "code",
   "execution_count": 10,
   "metadata": {
    "collapsed": false
   },
   "outputs": [
    {
     "name": "stdout",
     "output_type": "stream",
     "text": [
      "       num_inventor  num_pc  num_npc  num_rb  num_class  num_le\n",
      "0                 3       6        2       2          5       0\n",
      "1                 1       1        0       0          5       0\n",
      "2                 2       7        0      35         11       0\n",
      "3                 3       5        0       3         15       0\n",
      "4                 3       7        0       8          5       0\n",
      "5                 2       2        0       5          6       3\n",
      "6                10       6        0       1         17       0\n",
      "7                 1       5        2       6          8       0\n",
      "8                 4       8        2      17          6       0\n",
      "9                 1       7        0       6         12       0\n",
      "10                1       1        0       0         12       0\n",
      "11                4       2        0      21          4       0\n",
      "12                1       1        0      19         11       3\n",
      "13                2       4        0      34         14       1\n",
      "14                1       2        0      23         14       0\n",
      "15                2       6        0      19          7       0\n",
      "16                1       6        0      14         12       0\n",
      "17                2       7        0       2          4       0\n",
      "18                6       3        0      34         19       0\n",
      "19                2       8        1      41         24       0\n",
      "20                2       3        0      77         16       0\n",
      "21                2       2        0       9          8       0\n",
      "22                1       3        0      19          8       0\n",
      "23                1       4        0      14          6       0\n",
      "24                2       8        0       8         24       0\n",
      "25                1       5        1      16         10       4\n",
      "26                1       2        2      32          7       0\n",
      "27                5       3        0      15         15       0\n",
      "28                1       2        0       8          4       0\n",
      "29                3      14        2       2          7       0\n",
      "...             ...     ...      ...     ...        ...     ...\n",
      "10107             3      31        5       0         11       1\n",
      "10108             2       6        4       0         27       1\n",
      "10109             2      12        2       0         24       1\n",
      "10110             4      13        2       0         31       1\n",
      "10111             3      17        3       0          6       1\n",
      "10112             3      16        2       0         15       1\n",
      "10113             2      14       16       0         14       1\n",
      "10114             2      22        3       0         26       1\n",
      "10115             5      10        2       0         13       2\n",
      "10116             5      23       13       0         26       1\n",
      "10117             1      10        1       0         30       0\n",
      "10118             4      28        0       0         30       0\n",
      "10119             2      53        2       0         20       0\n",
      "10120             4       2        7       0          6       0\n",
      "10121             2      10        3       0          6       0\n",
      "10122             7      78       10       0         24       0\n",
      "10123             5      26       14       0         15       1\n",
      "10124             2       5       40       0         12       2\n",
      "10125             2     208       19       0         14       1\n",
      "10126             2      16        0       0          5       1\n",
      "10127             2      21       14       0         34       2\n",
      "10128             3      30       17       0         15       1\n",
      "10129             1      28        6       0          5       2\n",
      "10130             3      20        3       0         12       1\n",
      "10131             1       9        1       0         32       1\n",
      "10132             1      45        5       0          7       1\n",
      "10133             1       4        0       0          6       1\n",
      "10134             3      12        7       0         11       2\n",
      "10135             2       6        2       0         81       0\n",
      "10136             5      22        1       0         13       0\n",
      "\n",
      "[10137 rows x 6 columns]\n"
     ]
    }
   ],
   "source": [
    "\n",
    "# Redefined df_patents without non-numeric data columns. \n",
    "\n",
    "df_patents.drop('patent_no', axis=1,inplace=True)\n",
    "df_patents.drop('url', axis=1, inplace=True)\n",
    "df_patents.drop('title', axis=1, inplace=True)\n",
    "df_patents.drop('issue_date', axis=1, inplace=True)\n",
    "df_patents.drop('date', axis=1, inplace=True)\n",
    "\n",
    "print (df_patents)"
   ]
  },
  {
   "cell_type": "markdown",
   "metadata": {},
   "source": [
    "### Scale dataset to between 0 and 1. "
   ]
  },
  {
   "cell_type": "code",
   "execution_count": 11,
   "metadata": {
    "collapsed": false
   },
   "outputs": [],
   "source": [
    "# Use sklearn to normalize data to between 0 and 1.  \n",
    "\n",
    "from sklearn.preprocessing import MinMaxScaler\n",
    "\n",
    "scaler = MinMaxScaler() \n",
    "scaled_values = scaler.fit_transform(df_patents) \n",
    "df_patents.loc[:,:] = scaled_values"
   ]
  },
  {
   "cell_type": "code",
   "execution_count": 12,
   "metadata": {
    "collapsed": false
   },
   "outputs": [
    {
     "name": "stdout",
     "output_type": "stream",
     "text": [
      "    num_inventor    num_pc   num_npc    num_rb  num_class    num_le\n",
      "0       0.117647  0.006116  0.009174  0.000854   0.026316  0.000000\n",
      "1       0.000000  0.001019  0.000000  0.000000   0.026316  0.000000\n",
      "2       0.058824  0.007136  0.000000  0.014951   0.078947  0.000000\n",
      "3       0.117647  0.005097  0.000000  0.001282   0.114035  0.000000\n",
      "4       0.117647  0.007136  0.000000  0.003417   0.026316  0.000000\n",
      "5       0.058824  0.002039  0.000000  0.002136   0.035088  0.136364\n",
      "6       0.529412  0.006116  0.000000  0.000427   0.131579  0.000000\n",
      "7       0.000000  0.005097  0.009174  0.002563   0.052632  0.000000\n",
      "8       0.176471  0.008155  0.009174  0.007262   0.035088  0.000000\n",
      "9       0.000000  0.007136  0.000000  0.002563   0.087719  0.000000\n",
      "10      0.000000  0.001019  0.000000  0.000000   0.087719  0.000000\n",
      "11      0.176471  0.002039  0.000000  0.008971   0.017544  0.000000\n",
      "12      0.000000  0.001019  0.000000  0.008116   0.078947  0.136364\n",
      "13      0.058824  0.004077  0.000000  0.014524   0.105263  0.045455\n",
      "14      0.000000  0.002039  0.000000  0.009825   0.105263  0.000000\n",
      "15      0.058824  0.006116  0.000000  0.008116   0.043860  0.000000\n",
      "16      0.000000  0.006116  0.000000  0.005980   0.087719  0.000000\n",
      "17      0.058824  0.007136  0.000000  0.000854   0.017544  0.000000\n",
      "18      0.294118  0.003058  0.000000  0.014524   0.149123  0.000000\n",
      "19      0.058824  0.008155  0.004587  0.017514   0.192982  0.000000\n"
     ]
    }
   ],
   "source": [
    "# df_SGD = stochastic gradient descent model for analyzing data. \n",
    "\n",
    "df_SGD = df_patents \n",
    "print (df_SGD.head(20))"
   ]
  },
  {
   "cell_type": "markdown",
   "metadata": {},
   "source": [
    "### Try feature engineering.   Replace 0's with the mean value. "
   ]
  },
  {
   "cell_type": "code",
   "execution_count": 13,
   "metadata": {
    "collapsed": true
   },
   "outputs": [],
   "source": [
    "df_patents['num_pc'] = df_patents['num_pc'].replace(0,df_patents['num_pc'].mean())\n",
    "df_patents['num_npc'] = df_patents['num_npc'].replace(0,df_patents['num_npc'].mean())\n",
    "df_patents['num_inventor'] = df_patents['num_inventor'].replace(0,df_patents['num_inventor'].mean())\n",
    "df_patents['num_le'] = df_patents['num_le'].replace(0,df_patents['num_le'].mean())\n",
    "df_patents['num_class'] = df_patents['num_class'].replace(0,df_patents['num_class'].mean())"
   ]
  },
  {
   "cell_type": "code",
   "execution_count": 22,
   "metadata": {
    "collapsed": true
   },
   "outputs": [],
   "source": [
    "# Create new num_inventor feature. \n",
    "\n",
    "new_factors = []\n",
    "\n",
    "value  =  np.log(df_patents['num_inventor']**2)\n",
    "# print (value)\n",
    "\n",
    "new_factors.append(value)\n",
    "for row in df_patents.iterrows():\n",
    "    df_patents['num_inventor1'] = value\n"
   ]
  },
  {
   "cell_type": "code",
   "execution_count": 23,
   "metadata": {
    "collapsed": false
   },
   "outputs": [],
   "source": [
    "# Create new num_pc feature.  \n",
    "\n",
    "new_factors = []\n",
    "\n",
    "#value  =  np.log(df_patents['num_pc'] / df_patents['num_inventor']**2)\n",
    "\n",
    "value  =  np.log(df_patents['num_pc'] * df_patents['num_npc'])\n",
    "# print (value)\n",
    "\n",
    "new_factors.append(value)\n",
    "for row in df_patents.iterrows():\n",
    "    df_patents['num_pc1'] = value"
   ]
  },
  {
   "cell_type": "code",
   "execution_count": 24,
   "metadata": {
    "collapsed": false
   },
   "outputs": [],
   "source": [
    "# Create new num_le feature. \n",
    "\n",
    "new_factors = []\n",
    "\n",
    "value  =  np.log(df_patents['num_le'])\n",
    "# print (value)\n",
    "\n",
    "new_factors.append(value)\n",
    "for row in df_patents.iterrows():\n",
    "    df_patents['num_le1'] = value"
   ]
  },
  {
   "cell_type": "code",
   "execution_count": 25,
   "metadata": {
    "collapsed": false
   },
   "outputs": [],
   "source": [
    "# Create new num_npc feature. \n",
    "\n",
    "new_factors = []\n",
    "\n",
    "value  =  np.log(df_patents['num_npc']/df_patents['num_inventor']**2)\n",
    "# print (value)\n",
    "\n",
    "new_factors.append(value)\n",
    "for row in df_patents.iterrows():\n",
    "    df_patents['num_npc1'] = value\n"
   ]
  },
  {
   "cell_type": "code",
   "execution_count": 26,
   "metadata": {
    "collapsed": false
   },
   "outputs": [],
   "source": [
    "# Create new num_class feature.  \n",
    "\n",
    "new_factors = []\n",
    "\n",
    "value  =  0.333 ** df_patents['num_class'] \n",
    "# print (value)\n",
    "\n",
    "new_factors.append(value)\n",
    "for row in df_patents.iterrows():\n",
    "    df_patents['num_class1'] = value"
   ]
  },
  {
   "cell_type": "code",
   "execution_count": 19,
   "metadata": {
    "collapsed": false
   },
   "outputs": [
    {
     "data": {
      "image/png": "[encoded data removed]",
      "text/plain": [
       "<matplotlib.figure.Figure at 0x10b889f50>"
      ]
     },
     "metadata": {},
     "output_type": "display_data"
    }
   ],
   "source": [
    "plt.scatter(new_factors, num_rbs,  marker = 'o', color = 'green', s = 15 )\n",
    "plt.xlabel(\"New Factor\")\n",
    "plt.ylabel(\"No. of Forward Citations\")\n",
    "\n",
    "plt.style.use('bmh')\n",
    "ax = plt.axes()\n",
    "ax.set(xlim=(-1,5), ylim = (-50,2500))\n",
    "plt.show()"
   ]
  },
  {
   "cell_type": "code",
   "execution_count": 27,
   "metadata": {
    "collapsed": false
   },
   "outputs": [
    {
     "data": {
      "text/html": [
       "<div>\n",
       "<table border=\"1\" class=\"dataframe\">\n",
       "  <thead>\n",
       "    <tr style=\"text-align: right;\">\n",
       "      <th></th>\n",
       "      <th>num_inventor</th>\n",
       "      <th>num_pc</th>\n",
       "      <th>num_npc</th>\n",
       "      <th>num_rb</th>\n",
       "      <th>num_class</th>\n",
       "      <th>num_le</th>\n",
       "      <th>num_pc1</th>\n",
       "      <th>num_le1</th>\n",
       "      <th>num_npc1</th>\n",
       "      <th>num_inventor1</th>\n",
       "      <th>num_class1</th>\n",
       "    </tr>\n",
       "  </thead>\n",
       "  <tbody>\n",
       "    <tr>\n",
       "      <th>num_inventor</th>\n",
       "      <td>1.000000</td>\n",
       "      <td>0.023475</td>\n",
       "      <td>0.018333</td>\n",
       "      <td>-0.033419</td>\n",
       "      <td>0.018533</td>\n",
       "      <td>-0.041709</td>\n",
       "      <td>0.044818</td>\n",
       "      <td>-0.041122</td>\n",
       "      <td>-0.774069</td>\n",
       "      <td>0.929387</td>\n",
       "      <td>-0.020580</td>\n",
       "    </tr>\n",
       "    <tr>\n",
       "      <th>num_pc</th>\n",
       "      <td>0.023475</td>\n",
       "      <td>1.000000</td>\n",
       "      <td>0.624567</td>\n",
       "      <td>0.015717</td>\n",
       "      <td>0.115702</td>\n",
       "      <td>-0.101322</td>\n",
       "      <td>0.611545</td>\n",
       "      <td>-0.142756</td>\n",
       "      <td>0.166604</td>\n",
       "      <td>0.026615</td>\n",
       "      <td>-0.118024</td>\n",
       "    </tr>\n",
       "    <tr>\n",
       "      <th>num_npc</th>\n",
       "      <td>0.018333</td>\n",
       "      <td>0.624567</td>\n",
       "      <td>1.000000</td>\n",
       "      <td>0.034678</td>\n",
       "      <td>0.072087</td>\n",
       "      <td>-0.052441</td>\n",
       "      <td>0.621834</td>\n",
       "      <td>-0.066342</td>\n",
       "      <td>0.387725</td>\n",
       "      <td>0.023993</td>\n",
       "      <td>-0.074356</td>\n",
       "    </tr>\n",
       "    <tr>\n",
       "      <th>num_rb</th>\n",
       "      <td>-0.033419</td>\n",
       "      <td>0.015717</td>\n",
       "      <td>0.034678</td>\n",
       "      <td>1.000000</td>\n",
       "      <td>0.099208</td>\n",
       "      <td>0.131991</td>\n",
       "      <td>0.035884</td>\n",
       "      <td>0.150835</td>\n",
       "      <td>0.050340</td>\n",
       "      <td>-0.028843</td>\n",
       "      <td>-0.100141</td>\n",
       "    </tr>\n",
       "    <tr>\n",
       "      <th>num_class</th>\n",
       "      <td>0.018533</td>\n",
       "      <td>0.115702</td>\n",
       "      <td>0.072087</td>\n",
       "      <td>0.099208</td>\n",
       "      <td>1.000000</td>\n",
       "      <td>-0.016015</td>\n",
       "      <td>0.168841</td>\n",
       "      <td>-0.011317</td>\n",
       "      <td>0.017319</td>\n",
       "      <td>0.020505</td>\n",
       "      <td>-0.993480</td>\n",
       "    </tr>\n",
       "    <tr>\n",
       "      <th>num_le</th>\n",
       "      <td>-0.041709</td>\n",
       "      <td>-0.101322</td>\n",
       "      <td>-0.052441</td>\n",
       "      <td>0.131991</td>\n",
       "      <td>-0.016015</td>\n",
       "      <td>1.000000</td>\n",
       "      <td>-0.086917</td>\n",
       "      <td>0.908351</td>\n",
       "      <td>0.033000</td>\n",
       "      <td>-0.041031</td>\n",
       "      <td>0.016033</td>\n",
       "    </tr>\n",
       "    <tr>\n",
       "      <th>num_pc1</th>\n",
       "      <td>0.044818</td>\n",
       "      <td>0.611545</td>\n",
       "      <td>0.621834</td>\n",
       "      <td>0.035884</td>\n",
       "      <td>0.168841</td>\n",
       "      <td>-0.086917</td>\n",
       "      <td>1.000000</td>\n",
       "      <td>-0.134440</td>\n",
       "      <td>0.361609</td>\n",
       "      <td>0.045654</td>\n",
       "      <td>-0.172537</td>\n",
       "    </tr>\n",
       "    <tr>\n",
       "      <th>num_le1</th>\n",
       "      <td>-0.041122</td>\n",
       "      <td>-0.142756</td>\n",
       "      <td>-0.066342</td>\n",
       "      <td>0.150835</td>\n",
       "      <td>-0.011317</td>\n",
       "      <td>0.908351</td>\n",
       "      <td>-0.134440</td>\n",
       "      <td>1.000000</td>\n",
       "      <td>0.025493</td>\n",
       "      <td>-0.038370</td>\n",
       "      <td>0.010172</td>\n",
       "    </tr>\n",
       "    <tr>\n",
       "      <th>num_npc1</th>\n",
       "      <td>-0.774069</td>\n",
       "      <td>0.166604</td>\n",
       "      <td>0.387725</td>\n",
       "      <td>0.050340</td>\n",
       "      <td>0.017319</td>\n",
       "      <td>0.033000</td>\n",
       "      <td>0.361609</td>\n",
       "      <td>0.025493</td>\n",
       "      <td>1.000000</td>\n",
       "      <td>-0.832356</td>\n",
       "      <td>-0.015912</td>\n",
       "    </tr>\n",
       "    <tr>\n",
       "      <th>num_inventor1</th>\n",
       "      <td>0.929387</td>\n",
       "      <td>0.026615</td>\n",
       "      <td>0.023993</td>\n",
       "      <td>-0.028843</td>\n",
       "      <td>0.020505</td>\n",
       "      <td>-0.041031</td>\n",
       "      <td>0.045654</td>\n",
       "      <td>-0.038370</td>\n",
       "      <td>-0.832356</td>\n",
       "      <td>1.000000</td>\n",
       "      <td>-0.022418</td>\n",
       "    </tr>\n",
       "    <tr>\n",
       "      <th>num_class1</th>\n",
       "      <td>-0.020580</td>\n",
       "      <td>-0.118024</td>\n",
       "      <td>-0.074356</td>\n",
       "      <td>-0.100141</td>\n",
       "      <td>-0.993480</td>\n",
       "      <td>0.016033</td>\n",
       "      <td>-0.172537</td>\n",
       "      <td>0.010172</td>\n",
       "      <td>-0.015912</td>\n",
       "      <td>-0.022418</td>\n",
       "      <td>1.000000</td>\n",
       "    </tr>\n",
       "  </tbody>\n",
       "</table>\n",
       "</div>"
      ],
      "text/plain": [
       "               num_inventor    num_pc   num_npc    num_rb  num_class  \\\n",
       "num_inventor       1.000000  0.023475  0.018333 -0.033419   0.018533   \n",
       "num_pc             0.023475  1.000000  0.624567  0.015717   0.115702   \n",
       "num_npc            0.018333  0.624567  1.000000  0.034678   0.072087   \n",
       "num_rb            -0.033419  0.015717  0.034678  1.000000   0.099208   \n",
       "num_class          0.018533  0.115702  0.072087  0.099208   1.000000   \n",
       "num_le            -0.041709 -0.101322 -0.052441  0.131991  -0.016015   \n",
       "num_pc1            0.044818  0.611545  0.621834  0.035884   0.168841   \n",
       "num_le1           -0.041122 -0.142756 -0.066342  0.150835  -0.011317   \n",
       "num_npc1          -0.774069  0.166604  0.387725  0.050340   0.017319   \n",
       "num_inventor1      0.929387  0.026615  0.023993 -0.028843   0.020505   \n",
       "num_class1        -0.020580 -0.118024 -0.074356 -0.100141  -0.993480   \n",
       "\n",
       "                 num_le   num_pc1   num_le1  num_npc1  num_inventor1  \\\n",
       "num_inventor  -0.041709  0.044818 -0.041122 -0.774069       0.929387   \n",
       "num_pc        -0.101322  0.611545 -0.142756  0.166604       0.026615   \n",
       "num_npc       -0.052441  0.621834 -0.066342  0.387725       0.023993   \n",
       "num_rb         0.131991  0.035884  0.150835  0.050340      -0.028843   \n",
       "num_class     -0.016015  0.168841 -0.011317  0.017319       0.020505   \n",
       "num_le         1.000000 -0.086917  0.908351  0.033000      -0.041031   \n",
       "num_pc1       -0.086917  1.000000 -0.134440  0.361609       0.045654   \n",
       "num_le1        0.908351 -0.134440  1.000000  0.025493      -0.038370   \n",
       "num_npc1       0.033000  0.361609  0.025493  1.000000      -0.832356   \n",
       "num_inventor1 -0.041031  0.045654 -0.038370 -0.832356       1.000000   \n",
       "num_class1     0.016033 -0.172537  0.010172 -0.015912      -0.022418   \n",
       "\n",
       "               num_class1  \n",
       "num_inventor    -0.020580  \n",
       "num_pc          -0.118024  \n",
       "num_npc         -0.074356  \n",
       "num_rb          -0.100141  \n",
       "num_class       -0.993480  \n",
       "num_le           0.016033  \n",
       "num_pc1         -0.172537  \n",
       "num_le1          0.010172  \n",
       "num_npc1        -0.015912  \n",
       "num_inventor1   -0.022418  \n",
       "num_class1       1.000000  "
      ]
     },
     "execution_count": 27,
     "metadata": {},
     "output_type": "execute_result"
    }
   ],
   "source": [
    "df_patents.corr()"
   ]
  },
  {
   "cell_type": "markdown",
   "metadata": {},
   "source": [
    "### Feature engineering transformations."
   ]
  },
  {
   "cell_type": "code",
   "execution_count": null,
   "metadata": {
    "collapsed": true
   },
   "outputs": [],
   "source": [
    "num_le * num_class        gives correlation of +0.089    lower than either num_le or num_class alone \n",
    "\n",
    "num_le ** 2               gives correlation of -0.100    lower than num_le alone \n",
    "num_le ** 0.5             gives correlation of +0.110    slightly lower than num_le alone \n",
    "num_inventor ** 0.5       gives correlation of -0.048    same\n",
    "\n",
    "num_inventor + num_le     gives correlation of +0.062    higher than num_inventor and lower than num_le \n",
    "\n",
    "num_pc/num_npc            gives correlation of -0.030    slightly higher than either num_pc and num_npc\n",
    "num_le/num_inventor       gives correlation of +0.144    higher than either num_le and num_inventor\n",
    "num_inventor/num_npc      gives correlation of -0.051    slightly higher than either num_inventor or num_npc\n",
    "\n",
    "1/num_le                  gives correlation of -0.142    higher than num_le alone \n",
    "1/num_le ** 2             gives correlation of -0.125    slightly higher than num_le alone \n",
    "1/num_inventor            gives correlation of +0.037    slightly lower than num_inventor alone \n",
    "1/num_npc                 gives correlation of -0.050    less than double the correlation of num_npc alone  \n",
    "1/num_class               gives correlation of -0.067    much less than num_class alone \n",
    "\n",
    "log (num_npc)             gives correlation of +0.056    almost double \n",
    "log (num_le)              gives correlation of +0.152    better than num_le alone by 25% \n",
    "log (num_class)           gives correlation of +0.090    slightly lower than the original value of 0.100 \n",
    "log (num_pc)              gives correlation of +0.015    almost the same as num_pc alone \n",
    "log (inventor)            gives correlation of -0.043    slightly lower than num_inventor \n",
    "\n",
    "exp(num_inventor)         gives correlation of +0.049    slightly better than num_inventor by itself \n",
    "\n",
    "log(num_inventor/num_npc) gives correlation of -0.066    better than either one separately \n",
    "\n",
    "log(num_pc * num_npc)     gives correlation of +0.051    better than num_pc and num_npc added together \n",
    "\n",
    "num_npc    is improved     by log (num_npc)  \n",
    "num_le     is improved     by log (num_le)   ***\n",
    "\n",
    "num_class  -0.25*df_patents['num_class']**2 + 0.5*df_patents['num_class'] + np.exp(df_patents['num_class'])   0.097\n",
    "num_class  -0.25*df_patents['num_class']**2 + 0.5*df_patents['num_class'] + np.exp(-df_patents['num_class'])  0.9999\n",
    "num_class    np.tanh(0.5*df_patents['num_class']) + 3                                                           0.1008\n",
    "num_class    np.exp(-1/kd) ** df_patents['num_class']  + 4                                                     -0.1006\n"
   ]
  },
  {
   "cell_type": "markdown",
   "metadata": {
    "collapsed": true
   },
   "source": [
    "### Build stochastic gradient descent model. "
   ]
  },
  {
   "cell_type": "code",
   "execution_count": 37,
   "metadata": {
    "collapsed": true
   },
   "outputs": [],
   "source": [
    "#from sklearn.linear_model import SGDRegressor\n",
    "\n",
    "from sklearn.linear_model.stochastic_gradient import SGDRegressor"
   ]
  },
  {
   "cell_type": "code",
   "execution_count": 38,
   "metadata": {
    "collapsed": false
   },
   "outputs": [
    {
     "data": {
      "text/plain": [
       "SGDRegressor(alpha=0.01, average=False, epsilon=2.0, eta0=0.01,\n",
       "       fit_intercept=True, l1_ratio=0.25, learning_rate='invscaling',\n",
       "       loss='huber', n_iter=400, penalty='elasticnet', power_t=0.25,\n",
       "       random_state=None, shuffle=True, verbose=0, warm_start=False)"
      ]
     },
     "execution_count": 38,
     "metadata": {},
     "output_type": "execute_result"
    }
   ],
   "source": [
    "SGDRegressor(loss='huber', \n",
    "             penalty='elasticnet', \n",
    "             alpha=0.01, \n",
    "             l1_ratio=0.25, \n",
    "             learning_rate='invscaling',\n",
    "             fit_intercept=True, \n",
    "             n_iter=400, \n",
    "             shuffle=True, \n",
    "             verbose=0,\n",
    "             warm_start=False,\n",
    "             epsilon=2.00,\n",
    "             random_state=None)"
   ]
  },
  {
   "cell_type": "code",
   "execution_count": 39,
   "metadata": {
    "collapsed": false
   },
   "outputs": [],
   "source": [
    "X = df_SGD[['num_inventor', 'num_pc1', 'num_npc1', 'num_class1', 'num_le1']]\n",
    "y = df_SGD['num_rb']\n",
    "\n",
    "sgd = SGDRegressor()\n",
    "sgd = sgd.fit(X, y)\n",
    "y_pred = sgd.predict(X)\n"
   ]
  },
  {
   "cell_type": "code",
   "execution_count": 40,
   "metadata": {
    "collapsed": false
   },
   "outputs": [],
   "source": [
    "errors = [] \n",
    "ys = []\n",
    "\n",
    "# Number of y_preds in a list\n",
    "value  = sgd.predict(X)\n",
    "errors.append(value)\n",
    "ys.append(y)\n",
    "error = y - y_pred\n",
    "\n",
    "#print (error)"
   ]
  },
  {
   "cell_type": "code",
   "execution_count": 34,
   "metadata": {
    "collapsed": false
   },
   "outputs": [
    {
     "data": {
      "image/png": "[encoded data removed]",
      "text/plain": [
       "<matplotlib.figure.Figure at 0x107fe6710>"
      ]
     },
     "metadata": {},
     "output_type": "display_data"
    }
   ],
   "source": [
    "# Plot the number of Patent Citation versus Non-Patent Citations. \n",
    "\n",
    "plt.scatter(ys, errors,  marker = 'o', color = 'green', s = 15 )\n",
    "plt.xlabel(\"No. of Forward Citations\")\n",
    "plt.ylabel(\"Error (y - y_pred) \")\n",
    "\n",
    "plt.style.use('bmh')\n",
    "ax = plt.axes()\n",
    "ax.set(xlim=(-0.1,1.25), ylim = (-0.005,0.02))\n",
    "plt.savefig('num_rb-vs-error.png',dpi=600)\n",
    "plt.show()"
   ]
  },
  {
   "cell_type": "markdown",
   "metadata": {
    "collapsed": true
   },
   "source": [
    "### Plots "
   ]
  },
  {
   "cell_type": "code",
   "execution_count": 45,
   "metadata": {
    "collapsed": false
   },
   "outputs": [
    {
     "data": {
      "image/png": "[encoded data removed]",
      "text/plain": [
       "<matplotlib.figure.Figure at 0x113e81b50>"
      ]
     },
     "metadata": {},
     "output_type": "display_data"
    },
    {
     "data": {
      "image/png": "[encoded data removed]",
      "text/plain": [
       "<matplotlib.figure.Figure at 0x113e81b10>"
      ]
     },
     "metadata": {},
     "output_type": "display_data"
    },
    {
     "data": {
      "image/png": "[encoded data removed]",
      "text/plain": [
       "<matplotlib.figure.Figure at 0x113b1e510>"
      ]
     },
     "metadata": {},
     "output_type": "display_data"
    },
    {
     "data": {
      "image/png": "[encoded data removed]",
      "text/plain": [
       "<matplotlib.figure.Figure at 0x1138d9410>"
      ]
     },
     "metadata": {},
     "output_type": "display_data"
    },
    {
     "data": {
      "image/png": "[encoded data removed]",
      "text/plain": [
       "<matplotlib.figure.Figure at 0x114e55e10>"
      ]
     },
     "metadata": {},
     "output_type": "display_data"
    },
    {
     "data": {
      "image/png": "[encoded data removed]",
      "text/plain": [
       "<matplotlib.figure.Figure at 0x1138f2d50>"
      ]
     },
     "metadata": {},
     "output_type": "display_data"
    }
   ],
   "source": [
    "# Plot the y_pred.  \n",
    "\n",
    "plt.plot(y_pred)\n",
    "plt.savefig('y_pred_SGD.png',dpi=1200)\n",
    "plt.show()\n",
    "\n",
    "\n",
    "df_SGD['num_rb_pred'] = y_pred\n",
    "df_SGD.plot(kind='scatter', x='num_le', y='num_rb_pred', marker = 'o', color = 'green', s = 10)\n",
    "\n",
    "plt.savefig('hobson1.png',dpi=600)\n",
    "\n",
    "\n",
    "df_SGD.plot(kind='scatter', x='num_rb', y='num_rb_pred', marker = 'o', color = 'green', s = 10)\n",
    "plt.savefig('hobson2.png',dpi=600)\n",
    "\n",
    "\n",
    "df_SGD['num_rb_pred'] = y_pred\n",
    "df_SGD.plot(kind='scatter', x='num_class', y='num_rb_pred', marker = 'o', color = 'green', s = 10)\n",
    "plt.savefig('hobson3.png',dpi=600)\n",
    "\n",
    "\n",
    "df_SGD.plot(kind='scatter', x='num_npc', y='num_rb_pred', marker = 'o', color = 'green', s = 10)\n",
    "plt.savefig('hobson4.png',dpi=600)\n",
    "\n",
    "\n",
    "df_SGD.plot(kind='scatter', x='num_pc', y='num_rb_pred', marker = 'o', color = 'green', s = 10)\n",
    "plt.savefig('hobson5.png',dpi=600)"
   ]
  },
  {
   "cell_type": "markdown",
   "metadata": {},
   "source": [
    "### Results with original (untransformed) data. "
   ]
  },
  {
   "cell_type": "code",
   "execution_count": 36,
   "metadata": {
    "collapsed": false
   },
   "outputs": [
    {
     "data": {
      "text/html": [
       "<div>\n",
       "<table border=\"1\" class=\"dataframe\">\n",
       "  <thead>\n",
       "    <tr style=\"text-align: right;\">\n",
       "      <th></th>\n",
       "      <th>num_inventor</th>\n",
       "      <th>num_pc</th>\n",
       "      <th>num_npc</th>\n",
       "      <th>num_rb</th>\n",
       "      <th>num_class</th>\n",
       "      <th>num_le</th>\n",
       "      <th>num_pc1</th>\n",
       "      <th>num_le1</th>\n",
       "      <th>num_npc1</th>\n",
       "      <th>num_inventor1</th>\n",
       "      <th>num_class1</th>\n",
       "      <th>num_rb_pred</th>\n",
       "    </tr>\n",
       "  </thead>\n",
       "  <tbody>\n",
       "    <tr>\n",
       "      <th>num_inventor</th>\n",
       "      <td>1.000000</td>\n",
       "      <td>0.023475</td>\n",
       "      <td>0.018333</td>\n",
       "      <td>-0.033419</td>\n",
       "      <td>0.018533</td>\n",
       "      <td>-0.041709</td>\n",
       "      <td>0.044818</td>\n",
       "      <td>-0.041122</td>\n",
       "      <td>-0.774069</td>\n",
       "      <td>0.929387</td>\n",
       "      <td>-0.020580</td>\n",
       "      <td>-0.140350</td>\n",
       "    </tr>\n",
       "    <tr>\n",
       "      <th>num_pc</th>\n",
       "      <td>0.023475</td>\n",
       "      <td>1.000000</td>\n",
       "      <td>0.624567</td>\n",
       "      <td>0.015717</td>\n",
       "      <td>0.115702</td>\n",
       "      <td>-0.101322</td>\n",
       "      <td>0.611545</td>\n",
       "      <td>-0.142756</td>\n",
       "      <td>0.166604</td>\n",
       "      <td>0.026615</td>\n",
       "      <td>-0.118024</td>\n",
       "      <td>-0.000172</td>\n",
       "    </tr>\n",
       "    <tr>\n",
       "      <th>num_npc</th>\n",
       "      <td>0.018333</td>\n",
       "      <td>0.624567</td>\n",
       "      <td>1.000000</td>\n",
       "      <td>0.034678</td>\n",
       "      <td>0.072087</td>\n",
       "      <td>-0.052441</td>\n",
       "      <td>0.621834</td>\n",
       "      <td>-0.066342</td>\n",
       "      <td>0.387725</td>\n",
       "      <td>0.023993</td>\n",
       "      <td>-0.074356</td>\n",
       "      <td>0.034795</td>\n",
       "    </tr>\n",
       "    <tr>\n",
       "      <th>num_rb</th>\n",
       "      <td>-0.033419</td>\n",
       "      <td>0.015717</td>\n",
       "      <td>0.034678</td>\n",
       "      <td>1.000000</td>\n",
       "      <td>0.099208</td>\n",
       "      <td>0.131991</td>\n",
       "      <td>0.035884</td>\n",
       "      <td>0.150835</td>\n",
       "      <td>0.050340</td>\n",
       "      <td>-0.028843</td>\n",
       "      <td>-0.100141</td>\n",
       "      <td>0.168313</td>\n",
       "    </tr>\n",
       "    <tr>\n",
       "      <th>num_class</th>\n",
       "      <td>0.018533</td>\n",
       "      <td>0.115702</td>\n",
       "      <td>0.072087</td>\n",
       "      <td>0.099208</td>\n",
       "      <td>1.000000</td>\n",
       "      <td>-0.016015</td>\n",
       "      <td>0.168841</td>\n",
       "      <td>-0.011317</td>\n",
       "      <td>0.017319</td>\n",
       "      <td>0.020505</td>\n",
       "      <td>-0.993480</td>\n",
       "      <td>0.466702</td>\n",
       "    </tr>\n",
       "    <tr>\n",
       "      <th>num_le</th>\n",
       "      <td>-0.041709</td>\n",
       "      <td>-0.101322</td>\n",
       "      <td>-0.052441</td>\n",
       "      <td>0.131991</td>\n",
       "      <td>-0.016015</td>\n",
       "      <td>1.000000</td>\n",
       "      <td>-0.086917</td>\n",
       "      <td>0.908351</td>\n",
       "      <td>0.033000</td>\n",
       "      <td>-0.041031</td>\n",
       "      <td>0.016033</td>\n",
       "      <td>0.868260</td>\n",
       "    </tr>\n",
       "    <tr>\n",
       "      <th>num_pc1</th>\n",
       "      <td>0.044818</td>\n",
       "      <td>0.611545</td>\n",
       "      <td>0.621834</td>\n",
       "      <td>0.035884</td>\n",
       "      <td>0.168841</td>\n",
       "      <td>-0.086917</td>\n",
       "      <td>1.000000</td>\n",
       "      <td>-0.134440</td>\n",
       "      <td>0.361609</td>\n",
       "      <td>0.045654</td>\n",
       "      <td>-0.172537</td>\n",
       "      <td>0.031761</td>\n",
       "    </tr>\n",
       "    <tr>\n",
       "      <th>num_le1</th>\n",
       "      <td>-0.041122</td>\n",
       "      <td>-0.142756</td>\n",
       "      <td>-0.066342</td>\n",
       "      <td>0.150835</td>\n",
       "      <td>-0.011317</td>\n",
       "      <td>0.908351</td>\n",
       "      <td>-0.134440</td>\n",
       "      <td>1.000000</td>\n",
       "      <td>0.025493</td>\n",
       "      <td>-0.038370</td>\n",
       "      <td>0.010172</td>\n",
       "      <td>0.789340</td>\n",
       "    </tr>\n",
       "    <tr>\n",
       "      <th>num_npc1</th>\n",
       "      <td>-0.774069</td>\n",
       "      <td>0.166604</td>\n",
       "      <td>0.387725</td>\n",
       "      <td>0.050340</td>\n",
       "      <td>0.017319</td>\n",
       "      <td>0.033000</td>\n",
       "      <td>0.361609</td>\n",
       "      <td>0.025493</td>\n",
       "      <td>1.000000</td>\n",
       "      <td>-0.832356</td>\n",
       "      <td>-0.015912</td>\n",
       "      <td>0.143198</td>\n",
       "    </tr>\n",
       "    <tr>\n",
       "      <th>num_inventor1</th>\n",
       "      <td>0.929387</td>\n",
       "      <td>0.026615</td>\n",
       "      <td>0.023993</td>\n",
       "      <td>-0.028843</td>\n",
       "      <td>0.020505</td>\n",
       "      <td>-0.041031</td>\n",
       "      <td>0.045654</td>\n",
       "      <td>-0.038370</td>\n",
       "      <td>-0.832356</td>\n",
       "      <td>1.000000</td>\n",
       "      <td>-0.022418</td>\n",
       "      <td>-0.130512</td>\n",
       "    </tr>\n",
       "    <tr>\n",
       "      <th>num_class1</th>\n",
       "      <td>-0.020580</td>\n",
       "      <td>-0.118024</td>\n",
       "      <td>-0.074356</td>\n",
       "      <td>-0.100141</td>\n",
       "      <td>-0.993480</td>\n",
       "      <td>0.016033</td>\n",
       "      <td>-0.172537</td>\n",
       "      <td>0.010172</td>\n",
       "      <td>-0.015912</td>\n",
       "      <td>-0.022418</td>\n",
       "      <td>1.000000</td>\n",
       "      <td>-0.463450</td>\n",
       "    </tr>\n",
       "    <tr>\n",
       "      <th>num_rb_pred</th>\n",
       "      <td>-0.140350</td>\n",
       "      <td>-0.000172</td>\n",
       "      <td>0.034795</td>\n",
       "      <td>0.168313</td>\n",
       "      <td>0.466702</td>\n",
       "      <td>0.868260</td>\n",
       "      <td>0.031761</td>\n",
       "      <td>0.789340</td>\n",
       "      <td>0.143198</td>\n",
       "      <td>-0.130512</td>\n",
       "      <td>-0.463450</td>\n",
       "      <td>1.000000</td>\n",
       "    </tr>\n",
       "  </tbody>\n",
       "</table>\n",
       "</div>"
      ],
      "text/plain": [
       "               num_inventor    num_pc   num_npc    num_rb  num_class  \\\n",
       "num_inventor       1.000000  0.023475  0.018333 -0.033419   0.018533   \n",
       "num_pc             0.023475  1.000000  0.624567  0.015717   0.115702   \n",
       "num_npc            0.018333  0.624567  1.000000  0.034678   0.072087   \n",
       "num_rb            -0.033419  0.015717  0.034678  1.000000   0.099208   \n",
       "num_class          0.018533  0.115702  0.072087  0.099208   1.000000   \n",
       "num_le            -0.041709 -0.101322 -0.052441  0.131991  -0.016015   \n",
       "num_pc1            0.044818  0.611545  0.621834  0.035884   0.168841   \n",
       "num_le1           -0.041122 -0.142756 -0.066342  0.150835  -0.011317   \n",
       "num_npc1          -0.774069  0.166604  0.387725  0.050340   0.017319   \n",
       "num_inventor1      0.929387  0.026615  0.023993 -0.028843   0.020505   \n",
       "num_class1        -0.020580 -0.118024 -0.074356 -0.100141  -0.993480   \n",
       "num_rb_pred       -0.140350 -0.000172  0.034795  0.168313   0.466702   \n",
       "\n",
       "                 num_le   num_pc1   num_le1  num_npc1  num_inventor1  \\\n",
       "num_inventor  -0.041709  0.044818 -0.041122 -0.774069       0.929387   \n",
       "num_pc        -0.101322  0.611545 -0.142756  0.166604       0.026615   \n",
       "num_npc       -0.052441  0.621834 -0.066342  0.387725       0.023993   \n",
       "num_rb         0.131991  0.035884  0.150835  0.050340      -0.028843   \n",
       "num_class     -0.016015  0.168841 -0.011317  0.017319       0.020505   \n",
       "num_le         1.000000 -0.086917  0.908351  0.033000      -0.041031   \n",
       "num_pc1       -0.086917  1.000000 -0.134440  0.361609       0.045654   \n",
       "num_le1        0.908351 -0.134440  1.000000  0.025493      -0.038370   \n",
       "num_npc1       0.033000  0.361609  0.025493  1.000000      -0.832356   \n",
       "num_inventor1 -0.041031  0.045654 -0.038370 -0.832356       1.000000   \n",
       "num_class1     0.016033 -0.172537  0.010172 -0.015912      -0.022418   \n",
       "num_rb_pred    0.868260  0.031761  0.789340  0.143198      -0.130512   \n",
       "\n",
       "               num_class1  num_rb_pred  \n",
       "num_inventor    -0.020580    -0.140350  \n",
       "num_pc          -0.118024    -0.000172  \n",
       "num_npc         -0.074356     0.034795  \n",
       "num_rb          -0.100141     0.168313  \n",
       "num_class       -0.993480     0.466702  \n",
       "num_le           0.016033     0.868260  \n",
       "num_pc1         -0.172537     0.031761  \n",
       "num_le1          0.010172     0.789340  \n",
       "num_npc1        -0.015912     0.143198  \n",
       "num_inventor1   -0.022418    -0.130512  \n",
       "num_class1       1.000000    -0.463450  \n",
       "num_rb_pred     -0.463450     1.000000  "
      ]
     },
     "execution_count": 36,
     "metadata": {},
     "output_type": "execute_result"
    }
   ],
   "source": [
    "df_patents.corr()"
   ]
  },
  {
   "cell_type": "markdown",
   "metadata": {},
   "source": [
    "### Results with original (transformed) data (except num_inventors)."
   ]
  },
  {
   "cell_type": "code",
   "execution_count": 42,
   "metadata": {
    "collapsed": false
   },
   "outputs": [
    {
     "data": {
      "text/html": [
       "<div>\n",
       "<table border=\"1\" class=\"dataframe\">\n",
       "  <thead>\n",
       "    <tr style=\"text-align: right;\">\n",
       "      <th></th>\n",
       "      <th>num_inventor</th>\n",
       "      <th>num_pc</th>\n",
       "      <th>num_npc</th>\n",
       "      <th>num_rb</th>\n",
       "      <th>num_class</th>\n",
       "      <th>num_le</th>\n",
       "      <th>num_pc1</th>\n",
       "      <th>num_le1</th>\n",
       "      <th>num_npc1</th>\n",
       "      <th>num_inventor1</th>\n",
       "      <th>num_class1</th>\n",
       "      <th>num_rb_pred</th>\n",
       "    </tr>\n",
       "  </thead>\n",
       "  <tbody>\n",
       "    <tr>\n",
       "      <th>num_inventor</th>\n",
       "      <td>1.000000</td>\n",
       "      <td>0.023475</td>\n",
       "      <td>0.018333</td>\n",
       "      <td>-0.033419</td>\n",
       "      <td>0.018533</td>\n",
       "      <td>-0.041709</td>\n",
       "      <td>0.044818</td>\n",
       "      <td>-0.041122</td>\n",
       "      <td>-0.774069</td>\n",
       "      <td>0.929387</td>\n",
       "      <td>-0.020580</td>\n",
       "      <td>-0.132871</td>\n",
       "    </tr>\n",
       "    <tr>\n",
       "      <th>num_pc</th>\n",
       "      <td>0.023475</td>\n",
       "      <td>1.000000</td>\n",
       "      <td>0.624567</td>\n",
       "      <td>0.015717</td>\n",
       "      <td>0.115702</td>\n",
       "      <td>-0.101322</td>\n",
       "      <td>0.611545</td>\n",
       "      <td>-0.142756</td>\n",
       "      <td>0.166604</td>\n",
       "      <td>0.026615</td>\n",
       "      <td>-0.118024</td>\n",
       "      <td>-0.253858</td>\n",
       "    </tr>\n",
       "    <tr>\n",
       "      <th>num_npc</th>\n",
       "      <td>0.018333</td>\n",
       "      <td>0.624567</td>\n",
       "      <td>1.000000</td>\n",
       "      <td>0.034678</td>\n",
       "      <td>0.072087</td>\n",
       "      <td>-0.052441</td>\n",
       "      <td>0.621834</td>\n",
       "      <td>-0.066342</td>\n",
       "      <td>0.387725</td>\n",
       "      <td>0.023993</td>\n",
       "      <td>-0.074356</td>\n",
       "      <td>-0.132507</td>\n",
       "    </tr>\n",
       "    <tr>\n",
       "      <th>num_rb</th>\n",
       "      <td>-0.033419</td>\n",
       "      <td>0.015717</td>\n",
       "      <td>0.034678</td>\n",
       "      <td>1.000000</td>\n",
       "      <td>0.099208</td>\n",
       "      <td>0.131991</td>\n",
       "      <td>0.035884</td>\n",
       "      <td>0.150835</td>\n",
       "      <td>0.050340</td>\n",
       "      <td>-0.028843</td>\n",
       "      <td>-0.100141</td>\n",
       "      <td>0.138546</td>\n",
       "    </tr>\n",
       "    <tr>\n",
       "      <th>num_class</th>\n",
       "      <td>0.018533</td>\n",
       "      <td>0.115702</td>\n",
       "      <td>0.072087</td>\n",
       "      <td>0.099208</td>\n",
       "      <td>1.000000</td>\n",
       "      <td>-0.016015</td>\n",
       "      <td>0.168841</td>\n",
       "      <td>-0.011317</td>\n",
       "      <td>0.017319</td>\n",
       "      <td>0.020505</td>\n",
       "      <td>-0.993480</td>\n",
       "      <td>-0.068294</td>\n",
       "    </tr>\n",
       "    <tr>\n",
       "      <th>num_le</th>\n",
       "      <td>-0.041709</td>\n",
       "      <td>-0.101322</td>\n",
       "      <td>-0.052441</td>\n",
       "      <td>0.131991</td>\n",
       "      <td>-0.016015</td>\n",
       "      <td>1.000000</td>\n",
       "      <td>-0.086917</td>\n",
       "      <td>0.908351</td>\n",
       "      <td>0.033000</td>\n",
       "      <td>-0.041031</td>\n",
       "      <td>0.016033</td>\n",
       "      <td>0.877865</td>\n",
       "    </tr>\n",
       "    <tr>\n",
       "      <th>num_pc1</th>\n",
       "      <td>0.044818</td>\n",
       "      <td>0.611545</td>\n",
       "      <td>0.621834</td>\n",
       "      <td>0.035884</td>\n",
       "      <td>0.168841</td>\n",
       "      <td>-0.086917</td>\n",
       "      <td>1.000000</td>\n",
       "      <td>-0.134440</td>\n",
       "      <td>0.361609</td>\n",
       "      <td>0.045654</td>\n",
       "      <td>-0.172537</td>\n",
       "      <td>-0.300285</td>\n",
       "    </tr>\n",
       "    <tr>\n",
       "      <th>num_le1</th>\n",
       "      <td>-0.041122</td>\n",
       "      <td>-0.142756</td>\n",
       "      <td>-0.066342</td>\n",
       "      <td>0.150835</td>\n",
       "      <td>-0.011317</td>\n",
       "      <td>0.908351</td>\n",
       "      <td>-0.134440</td>\n",
       "      <td>1.000000</td>\n",
       "      <td>0.025493</td>\n",
       "      <td>-0.038370</td>\n",
       "      <td>0.010172</td>\n",
       "      <td>0.974313</td>\n",
       "    </tr>\n",
       "    <tr>\n",
       "      <th>num_npc1</th>\n",
       "      <td>-0.774069</td>\n",
       "      <td>0.166604</td>\n",
       "      <td>0.387725</td>\n",
       "      <td>0.050340</td>\n",
       "      <td>0.017319</td>\n",
       "      <td>0.033000</td>\n",
       "      <td>0.361609</td>\n",
       "      <td>0.025493</td>\n",
       "      <td>1.000000</td>\n",
       "      <td>-0.832356</td>\n",
       "      <td>-0.015912</td>\n",
       "      <td>0.087421</td>\n",
       "    </tr>\n",
       "    <tr>\n",
       "      <th>num_inventor1</th>\n",
       "      <td>0.929387</td>\n",
       "      <td>0.026615</td>\n",
       "      <td>0.023993</td>\n",
       "      <td>-0.028843</td>\n",
       "      <td>0.020505</td>\n",
       "      <td>-0.041031</td>\n",
       "      <td>0.045654</td>\n",
       "      <td>-0.038370</td>\n",
       "      <td>-0.832356</td>\n",
       "      <td>1.000000</td>\n",
       "      <td>-0.022418</td>\n",
       "      <td>-0.151333</td>\n",
       "    </tr>\n",
       "    <tr>\n",
       "      <th>num_class1</th>\n",
       "      <td>-0.020580</td>\n",
       "      <td>-0.118024</td>\n",
       "      <td>-0.074356</td>\n",
       "      <td>-0.100141</td>\n",
       "      <td>-0.993480</td>\n",
       "      <td>0.016033</td>\n",
       "      <td>-0.172537</td>\n",
       "      <td>0.010172</td>\n",
       "      <td>-0.015912</td>\n",
       "      <td>-0.022418</td>\n",
       "      <td>1.000000</td>\n",
       "      <td>0.068439</td>\n",
       "    </tr>\n",
       "    <tr>\n",
       "      <th>num_rb_pred</th>\n",
       "      <td>-0.132871</td>\n",
       "      <td>-0.253858</td>\n",
       "      <td>-0.132507</td>\n",
       "      <td>0.138546</td>\n",
       "      <td>-0.068294</td>\n",
       "      <td>0.877865</td>\n",
       "      <td>-0.300285</td>\n",
       "      <td>0.974313</td>\n",
       "      <td>0.087421</td>\n",
       "      <td>-0.151333</td>\n",
       "      <td>0.068439</td>\n",
       "      <td>1.000000</td>\n",
       "    </tr>\n",
       "  </tbody>\n",
       "</table>\n",
       "</div>"
      ],
      "text/plain": [
       "               num_inventor    num_pc   num_npc    num_rb  num_class  \\\n",
       "num_inventor       1.000000  0.023475  0.018333 -0.033419   0.018533   \n",
       "num_pc             0.023475  1.000000  0.624567  0.015717   0.115702   \n",
       "num_npc            0.018333  0.624567  1.000000  0.034678   0.072087   \n",
       "num_rb            -0.033419  0.015717  0.034678  1.000000   0.099208   \n",
       "num_class          0.018533  0.115702  0.072087  0.099208   1.000000   \n",
       "num_le            -0.041709 -0.101322 -0.052441  0.131991  -0.016015   \n",
       "num_pc1            0.044818  0.611545  0.621834  0.035884   0.168841   \n",
       "num_le1           -0.041122 -0.142756 -0.066342  0.150835  -0.011317   \n",
       "num_npc1          -0.774069  0.166604  0.387725  0.050340   0.017319   \n",
       "num_inventor1      0.929387  0.026615  0.023993 -0.028843   0.020505   \n",
       "num_class1        -0.020580 -0.118024 -0.074356 -0.100141  -0.993480   \n",
       "num_rb_pred       -0.132871 -0.253858 -0.132507  0.138546  -0.068294   \n",
       "\n",
       "                 num_le   num_pc1   num_le1  num_npc1  num_inventor1  \\\n",
       "num_inventor  -0.041709  0.044818 -0.041122 -0.774069       0.929387   \n",
       "num_pc        -0.101322  0.611545 -0.142756  0.166604       0.026615   \n",
       "num_npc       -0.052441  0.621834 -0.066342  0.387725       0.023993   \n",
       "num_rb         0.131991  0.035884  0.150835  0.050340      -0.028843   \n",
       "num_class     -0.016015  0.168841 -0.011317  0.017319       0.020505   \n",
       "num_le         1.000000 -0.086917  0.908351  0.033000      -0.041031   \n",
       "num_pc1       -0.086917  1.000000 -0.134440  0.361609       0.045654   \n",
       "num_le1        0.908351 -0.134440  1.000000  0.025493      -0.038370   \n",
       "num_npc1       0.033000  0.361609  0.025493  1.000000      -0.832356   \n",
       "num_inventor1 -0.041031  0.045654 -0.038370 -0.832356       1.000000   \n",
       "num_class1     0.016033 -0.172537  0.010172 -0.015912      -0.022418   \n",
       "num_rb_pred    0.877865 -0.300285  0.974313  0.087421      -0.151333   \n",
       "\n",
       "               num_class1  num_rb_pred  \n",
       "num_inventor    -0.020580    -0.132871  \n",
       "num_pc          -0.118024    -0.253858  \n",
       "num_npc         -0.074356    -0.132507  \n",
       "num_rb          -0.100141     0.138546  \n",
       "num_class       -0.993480    -0.068294  \n",
       "num_le           0.016033     0.877865  \n",
       "num_pc1         -0.172537    -0.300285  \n",
       "num_le1          0.010172     0.974313  \n",
       "num_npc1        -0.015912     0.087421  \n",
       "num_inventor1   -0.022418    -0.151333  \n",
       "num_class1       1.000000     0.068439  \n",
       "num_rb_pred      0.068439     1.000000  "
      ]
     },
     "execution_count": 42,
     "metadata": {},
     "output_type": "execute_result"
    }
   ],
   "source": [
    "df_patents.corr()"
   ]
  },
  {
   "cell_type": "code",
   "execution_count": null,
   "metadata": {
    "collapsed": true
   },
   "outputs": [],
   "source": []
  }
 ],
 "metadata": {
  "kernelspec": {
   "display_name": "Python 2",
   "language": "python",
   "name": "python2"
  },
  "language_info": {
   "codemirror_mode": {
    "name": "ipython",
    "version": 2
   },
   "file_extension": ".py",
   "mimetype": "text/x-python",
   "name": "python",
   "nbconvert_exporter": "python",
   "pygments_lexer": "ipython2",
   "version": "2.7.13"
  }
 },
 "nbformat": 4,
 "nbformat_minor": 0
}
