{
 "cells": [
  {
   "cell_type": "markdown",
   "metadata": {
    "slideshow": {
     "slide_type": "slide"
    }
   },
   "source": [
    "## patent-exploratory-data-analysis-6G_alloys"
   ]
  },
  {
   "cell_type": "markdown",
   "metadata": {},
   "source": [
    "### Data Dictionary\n",
    "\n",
    "df_patents (dataframe)\n",
    "\n",
    "titles -- patent titles\n",
    "\n",
    "dates -- issue date of patents\n",
    "\n",
    "num_inventors -- number or inventors\n",
    "\n",
    "num_pc -- number of patent citations\n",
    "\n",
    "num_npc -- number of non-patent citations\n",
    "\n",
    "num_rb -- number of references by other patents\n",
    "\n",
    "num_class -- number of patent classifications\n",
    "\n",
    "num_le -- number of legal events\n",
    "\n",
    "cum_rbs -- cumulative references (sum of num_rbs)\n",
    "\n",
    "yearly_sales "
   ]
  },
  {
   "cell_type": "markdown",
   "metadata": {},
   "source": [
    "### Create plots for date and time plots. "
   ]
  },
  {
   "cell_type": "code",
   "execution_count": 1,
   "metadata": {
    "collapsed": false
   },
   "outputs": [
    {
     "name": "stdout",
     "output_type": "stream",
     "text": [
      "       Unnamed: 0 patent_no                                       url  \\\n",
      "0               0   9637179  https://www.google.com/patents/US9637179   \n",
      "1               1   9636784  https://www.google.com/patents/US9636784   \n",
      "2               2   9634324  https://www.google.com/patents/US9634324   \n",
      "3               3   9634123  https://www.google.com/patents/US9634123   \n",
      "4               4   9631879  https://www.google.com/patents/US9631879   \n",
      "5               5   9631878  https://www.google.com/patents/US9631878   \n",
      "6               6   9631268  https://www.google.com/patents/US9631268   \n",
      "7               7   9631261  https://www.google.com/patents/US9631261   \n",
      "8               8   9631260  https://www.google.com/patents/US9631260   \n",
      "9               9   9631157  https://www.google.com/patents/US9631157   \n",
      "10             10   9630834  https://www.google.com/patents/US9630834   \n",
      "11             11   9630251  https://www.google.com/patents/US9630251   \n",
      "12             12   9630161  https://www.google.com/patents/US9630161   \n",
      "13             13   9629873  https://www.google.com/patents/US9629873   \n",
      "14             14   9624568  https://www.google.com/patents/US9624568   \n",
      "15             15   9624566  https://www.google.com/patents/US9624566   \n",
      "16             16   9624565  https://www.google.com/patents/US9624565   \n",
      "17             17   9624562  https://www.google.com/patents/US9624562   \n",
      "18             18   9622885  https://www.google.com/patents/US9622885   \n",
      "19             19   9620269  https://www.google.com/patents/US9620269   \n",
      "20             20   9620268  https://www.google.com/patents/US9620268   \n",
      "21             21   9617856  https://www.google.com/patents/US9617856   \n",
      "22             22   9617629  https://www.google.com/patents/US9617629   \n",
      "23             23   9617623  https://www.google.com/patents/US9617623   \n",
      "24             24   9616639  https://www.google.com/patents/US9616639   \n",
      "25             25   9616495  https://www.google.com/patents/US9616495   \n",
      "26             26   9613648  https://www.google.com/patents/US9613648   \n",
      "27             27   9611937  https://www.google.com/patents/US9611937   \n",
      "28             28   9611741  https://www.google.com/patents/US9611741   \n",
      "29             29   9610656  https://www.google.com/patents/US9610656   \n",
      "...           ...       ...                                       ...   \n",
      "10107       10107   3941591  https://www.google.com/patents/US3941591   \n",
      "10108       10108   3941590  https://www.google.com/patents/US3941590   \n",
      "10109       10109   3940728  https://www.google.com/patents/US3940728   \n",
      "10110       10110   3940319  https://www.google.com/patents/US3940319   \n",
      "10111       10111   3940269  https://www.google.com/patents/US3940269   \n",
      "10112       10112   3939299  https://www.google.com/patents/US3939299   \n",
      "10113       10113   3937858  https://www.google.com/patents/US3937858   \n",
      "10114       10114   3937638  https://www.google.com/patents/US3937638   \n",
      "10115       10115   3936332  https://www.google.com/patents/US3936332   \n",
      "10116       10116   3936298  https://www.google.com/patents/US3936298   \n",
      "10117       10117   3936277  https://www.google.com/patents/US3936277   \n",
      "10118       10118   3935797  https://www.google.com/patents/US3935797   \n",
      "10119       10119   3935037  https://www.google.com/patents/US3935037   \n",
      "10120       10120   3935013  https://www.google.com/patents/US3935013   \n",
      "10121       10121   3935007  https://www.google.com/patents/US3935007   \n",
      "10122       10122   3933961  https://www.google.com/patents/US3933961   \n",
      "10123       10123   3933531  https://www.google.com/patents/US3933531   \n",
      "10124       10124   3933484  https://www.google.com/patents/US3933484   \n",
      "10125       10125   3933483  https://www.google.com/patents/US3933483   \n",
      "10126       10126   3933481  https://www.google.com/patents/US3933481   \n",
      "10127       10127   3933473  https://www.google.com/patents/US3933473   \n",
      "10128       10128   3930966  https://www.google.com/patents/US3930966   \n",
      "10129       10129   3930965  https://www.google.com/patents/US3930965   \n",
      "10130       10130   3930964  https://www.google.com/patents/US3930964   \n",
      "10131       10131   3930962  https://www.google.com/patents/US3930962   \n",
      "10132       10132   3930904  https://www.google.com/patents/US3930904   \n",
      "10133       10133   3930899  https://www.google.com/patents/US3930899   \n",
      "10134       10134   3930895  https://www.google.com/patents/US3930895   \n",
      "10135       10135   3930848  https://www.google.com/patents/US3930848   \n",
      "10136       10136   3930575  https://www.google.com/patents/US3930575   \n",
      "\n",
      "                                                   title issue_date  \\\n",
      "0      Aluminum alloy vehicle structural component de...     5/2/17   \n",
      "1                               Mixed alloy solder paste     5/2/17   \n",
      "2      Nickel-metal hydride battery and method for pr...    4/25/17   \n",
      "3      FinFET device including a dielectrically isola...    4/25/17   \n",
      "4      Aluminum alloy for extrusion and drawing proce...    4/25/17   \n",
      "5      Process for producing aluminum alloy tube havi...    4/25/17   \n",
      "6      Methods and systems for shape memory alloy str...    4/25/17   \n",
      "7      Low-cost alpha-beta titanium alloy with good b...    4/25/17   \n",
      "8      Copper alloy sheets for electrical/electronic ...    4/25/17   \n",
      "9      Cu_��Ni_��Sn alloy overlay for bearing surface...    4/25/17   \n",
      "10     Wafer scale monolithic CMOS-integration of fre...    4/25/17   \n",
      "11                                        Titanium alloy    4/25/17   \n",
      "12     Metal alloy nanoparticle synthesis via self-as...    4/25/17   \n",
      "13     Bioresorbable metal alloy and implants made of...    4/25/17   \n",
      "14     Thermal spray applications using iron based al...    4/18/17   \n",
      "15     Alpha and beta titanium alloy sheet excellent ...    4/18/17   \n",
      "16     Nanocrystal-containing titanium alloy and prod...    4/18/17   \n",
      "17     Al alloy film for display or semiconductor dev...    4/18/17   \n",
      "18     Collapsible, shape memory alloy structures and...    4/18/17   \n",
      "19     Method and equipment for processing NdFeB rare...    4/11/17   \n",
      "20     R-T-B based alloy strip, and R-T-B based sinte...    4/11/17   \n",
      "21     Ni base forged alloy and gas turbine utilizing...    4/11/17   \n",
      "22           Copper-nickel-zinc alloy containing silicon    4/11/17   \n",
      "23     Aluminum alloy including iron-manganese comple...    4/11/17   \n",
      "24     Tin-plated copper-alloy material for terminal ...    4/11/17   \n",
      "25     Amorphous alloy and method for manufacturing t...    4/11/17   \n",
      "26     Aluminum alloy plate for magnetic disc substra...     4/4/17   \n",
      "27     Superelastic nickel-titanium alloy downhole se...     4/4/17   \n",
      "28     Braze alloy compositions and brazing methods f...     4/4/17   \n",
      "29              Lead-free solder alloy for vehicle glass     4/4/17   \n",
      "...                                                  ...        ...   \n",
      "10107  Electrophotographic photoconductive member emp...     3/2/76   \n",
      "10108              Precipitation hardening Ni base alloy     3/2/76   \n",
      "10109                  Alloy for a high temperature fuse    2/24/76   \n",
      "10110       Electrodeposition of bright tin-nickel alloy    2/24/76   \n",
      "10111  Sintered austenitic-ferritic chromium-nickel s...    2/24/76   \n",
      "10112                     Aluminium alloy conductor wire    2/17/76   \n",
      "10113  Method of and bath for the plating of aluminum...    2/10/76   \n",
      "10114  Method for treating copper-nickel-tin alloy co...    2/10/76   \n",
      "10115  Copper and copper alloy etching solutions and ...     2/3/76   \n",
      "10116  Metal composition and methods for preparing li...     2/3/76   \n",
      "10117               Aluminum alloy-boron fiber composite     2/3/76   \n",
      "10118   Wear and seizure resistant aluminum alloy piston     2/3/76   \n",
      "10119                  Austenitic iron-nickel base alloy    1/27/76   \n",
      "10120  Electroless deposition of a copper-nickel allo...    1/27/76   \n",
      "10121               Aluminum alloy of age hardening type    1/27/76   \n",
      "10122          Tabletting spherical dental amalgam alloy    1/20/76   \n",
      "10123  Method of rust-preventing for copper and coppe...    1/20/76   \n",
      "10124                                  Cobalt-base alloy    1/20/76   \n",
      "10125  Silicon-containing nickel-aluminum-molybdenum ...    1/20/76   \n",
      "10126  High-temperature eutectoid alloy and process o...    1/20/76   \n",
      "10127  Method for recovering a usable alloy from tita...    1/20/76   \n",
      "10128  Method of forming colored oxide film on alumin...     1/6/76   \n",
      "10129             Zinc-copper alloy electroplating baths     1/6/76   \n",
      "10130  Method for painting aluminum or aluminum-based...     1/6/76   \n",
      "10131  Process and apparatus for producing thin coppe...     1/6/76   \n",
      "10132        Nickel-iron-chromium alloy wrought products     1/6/76   \n",
      "10133  Method of spraying molybdenum on aluminum or a...     1/6/76   \n",
      "10134         Special magnesium-manganese aluminum alloy     1/6/76   \n",
      "10135          High temperature low density cobalt alloy     1/6/76   \n",
      "10136  Method for a surface treatment of an iron, fer...     1/6/76   \n",
      "\n",
      "            date  num_patent  num_inventor  num_pc  num_npc  num_rb  \\\n",
      "0       2-May-17       10136             5      22        1       0   \n",
      "1       2-May-17       10135             2       6        2       0   \n",
      "2      25-Apr-17       10134             3      12        7       0   \n",
      "3      25-Apr-17       10133             1       4        0       0   \n",
      "4      25-Apr-17       10132             1      45        5       0   \n",
      "5      25-Apr-17       10131             1       9        1       0   \n",
      "6      25-Apr-17       10130             3      20        3       0   \n",
      "7      25-Apr-17       10129             1      28        6       0   \n",
      "8      25-Apr-17       10128             3      30       17       0   \n",
      "9      25-Apr-17       10127             2      21       14       0   \n",
      "10     25-Apr-17       10126             2      16        0       0   \n",
      "11     25-Apr-17       10125             2     208       19       0   \n",
      "12     25-Apr-17       10124             2       5       40       0   \n",
      "13     25-Apr-17       10123             5      26       14       0   \n",
      "14     18-Apr-17       10122             7      78       10       0   \n",
      "15     18-Apr-17       10121             2      10        3       0   \n",
      "16     18-Apr-17       10120             4       2        7       0   \n",
      "17     18-Apr-17       10119             2      53        2       0   \n",
      "18     18-Apr-17       10118             4      28        0       0   \n",
      "19     11-Apr-17       10117             1      10        1       0   \n",
      "20     11-Apr-17       10116             5      23       13       0   \n",
      "21     11-Apr-17       10115             5      10        2       0   \n",
      "22     11-Apr-17       10114             2      22        3       0   \n",
      "23     11-Apr-17       10113             2      14       16       0   \n",
      "24     11-Apr-17       10112             3      16        2       0   \n",
      "25     11-Apr-17       10111             3      17        3       0   \n",
      "26      4-Apr-17       10110             4      13        2       0   \n",
      "27      4-Apr-17       10109             2      12        2       0   \n",
      "28      4-Apr-17       10108             2       6        4       0   \n",
      "29      4-Apr-17       10107             3      31        5       0   \n",
      "...          ...         ...           ...     ...      ...     ...   \n",
      "10107   2-Mar-76          29             3      14        2       2   \n",
      "10108   2-Mar-76          28             1       2        0       8   \n",
      "10109  24-Feb-76          27             5       3        0      15   \n",
      "10110  24-Feb-76          26             1       2        2      32   \n",
      "10111  24-Feb-76          25             1       5        1      16   \n",
      "10112  17-Feb-76          24             2       8        0       8   \n",
      "10113  10-Feb-76          23             1       4        0      14   \n",
      "10114  10-Feb-76          22             1       3        0      19   \n",
      "10115   3-Feb-76          21             2       2        0       9   \n",
      "10116   3-Feb-76          20             2       3        0      77   \n",
      "10117   3-Feb-76          19             2       8        1      41   \n",
      "10118   3-Feb-76          18             6       3        0      34   \n",
      "10119  27-Jan-76          17             2       7        0       2   \n",
      "10120  27-Jan-76          16             1       6        0      14   \n",
      "10121  27-Jan-76          15             2       6        0      19   \n",
      "10122  20-Jan-76          14             1       2        0      23   \n",
      "10123  20-Jan-76          13             2       4        0      34   \n",
      "10124  20-Jan-76          12             1       1        0      19   \n",
      "10125  20-Jan-76          11             4       2        0      21   \n",
      "10126  20-Jan-76          10             1       1        0       0   \n",
      "10127  20-Jan-76           9             1       7        0       6   \n",
      "10128   6-Jan-76           8             4       8        2      17   \n",
      "10129   6-Jan-76           7             1       5        2       6   \n",
      "10130   6-Jan-76           6            10       6        0       1   \n",
      "10131   6-Jan-76           5             2       2        0       5   \n",
      "10132   6-Jan-76           4             3       7        0       8   \n",
      "10133   6-Jan-76           3             3       5        0       3   \n",
      "10134   6-Jan-76           2             2       7        0      35   \n",
      "10135   6-Jan-76           1             1       1        0       0   \n",
      "10136   6-Jan-76           0             3       6        2       2   \n",
      "\n",
      "       num_class  num_le  \n",
      "0             13       0  \n",
      "1             81       0  \n",
      "2             11       2  \n",
      "3              6       1  \n",
      "4              7       1  \n",
      "5             32       1  \n",
      "6             12       1  \n",
      "7              5       2  \n",
      "8             15       1  \n",
      "9             34       2  \n",
      "10             5       1  \n",
      "11            14       1  \n",
      "12            12       2  \n",
      "13            15       1  \n",
      "14            24       0  \n",
      "15             6       0  \n",
      "16             6       0  \n",
      "17            20       0  \n",
      "18            30       0  \n",
      "19            30       0  \n",
      "20            26       1  \n",
      "21            13       2  \n",
      "22            26       1  \n",
      "23            14       1  \n",
      "24            15       1  \n",
      "25             6       1  \n",
      "26            31       1  \n",
      "27            24       1  \n",
      "28            27       1  \n",
      "29            11       1  \n",
      "...          ...     ...  \n",
      "10107          7       0  \n",
      "10108          4       0  \n",
      "10109         15       0  \n",
      "10110          7       0  \n",
      "10111         10       4  \n",
      "10112         24       0  \n",
      "10113          6       0  \n",
      "10114          8       0  \n",
      "10115          8       0  \n",
      "10116         16       0  \n",
      "10117         24       0  \n",
      "10118         19       0  \n",
      "10119          4       0  \n",
      "10120         12       0  \n",
      "10121          7       0  \n",
      "10122         14       0  \n",
      "10123         14       1  \n",
      "10124         11       3  \n",
      "10125          4       0  \n",
      "10126         12       0  \n",
      "10127         12       0  \n",
      "10128          6       0  \n",
      "10129          8       0  \n",
      "10130         17       0  \n",
      "10131          6       3  \n",
      "10132          5       0  \n",
      "10133         15       0  \n",
      "10134         11       0  \n",
      "10135          5       0  \n",
      "10136          5       0  \n",
      "\n",
      "[10137 rows x 13 columns]\n"
     ]
    }
   ],
   "source": [
    "import numpy as np\n",
    "import pandas as pd\n",
    "\n",
    "df_patents = pd.read_csv('/Users/stevehansen/Desktop/output_alloy_data_total.csv')\n",
    "print (df_patents)"
   ]
  },
  {
   "cell_type": "code",
   "execution_count": 2,
   "metadata": {
    "collapsed": false
   },
   "outputs": [
    {
     "name": "stdout",
     "output_type": "stream",
     "text": [
      "<class 'pandas.core.frame.DataFrame'>\n",
      "RangeIndex: 10137 entries, 0 to 10136\n",
      "Data columns (total 13 columns):\n",
      "Unnamed: 0      10137 non-null int64\n",
      "patent_no       10137 non-null object\n",
      "url             10137 non-null object\n",
      "title           10137 non-null object\n",
      "issue_date      10137 non-null object\n",
      "date            10137 non-null object\n",
      "num_patent      10137 non-null int64\n",
      "num_inventor    10137 non-null int64\n",
      "num_pc          10137 non-null int64\n",
      "num_npc         10137 non-null int64\n",
      "num_rb          10137 non-null int64\n",
      "num_class       10137 non-null int64\n",
      "num_le          10137 non-null int64\n",
      "dtypes: int64(8), object(5)\n",
      "memory usage: 1.0+ MB\n"
     ]
    }
   ],
   "source": [
    "df_patents.info()"
   ]
  },
  {
   "cell_type": "code",
   "execution_count": 3,
   "metadata": {
    "collapsed": false
   },
   "outputs": [],
   "source": [
    "df_patents = df_patents.drop(['Unnamed: 0'], axis=1)\n",
    "df_patents = df_patents.drop(['num_patent'], axis=1)\n",
    "#print (df_patents) "
   ]
  },
  {
   "cell_type": "markdown",
   "metadata": {},
   "source": [
    "### Reverse the order of the dataframe.  See:  http://www.marsja.se/six-ways-to-reverse-pandas-dataframe/"
   ]
  },
  {
   "cell_type": "code",
   "execution_count": 4,
   "metadata": {
    "collapsed": false
   },
   "outputs": [],
   "source": [
    "df_patents = df_patents.iloc[::-1]"
   ]
  },
  {
   "cell_type": "code",
   "execution_count": 5,
   "metadata": {
    "collapsed": false
   },
   "outputs": [
    {
     "name": "stdout",
     "output_type": "stream",
     "text": [
      "      patent_no                                       url  \\\n",
      "10136   3930575  https://www.google.com/patents/US3930575   \n",
      "10135   3930848  https://www.google.com/patents/US3930848   \n",
      "10134   3930895  https://www.google.com/patents/US3930895   \n",
      "10133   3930899  https://www.google.com/patents/US3930899   \n",
      "10132   3930904  https://www.google.com/patents/US3930904   \n",
      "10131   3930962  https://www.google.com/patents/US3930962   \n",
      "10130   3930964  https://www.google.com/patents/US3930964   \n",
      "10129   3930965  https://www.google.com/patents/US3930965   \n",
      "10128   3930966  https://www.google.com/patents/US3930966   \n",
      "10127   3933473  https://www.google.com/patents/US3933473   \n",
      "10126   3933481  https://www.google.com/patents/US3933481   \n",
      "10125   3933483  https://www.google.com/patents/US3933483   \n",
      "10124   3933484  https://www.google.com/patents/US3933484   \n",
      "10123   3933531  https://www.google.com/patents/US3933531   \n",
      "10122   3933961  https://www.google.com/patents/US3933961   \n",
      "10121   3935007  https://www.google.com/patents/US3935007   \n",
      "10120   3935013  https://www.google.com/patents/US3935013   \n",
      "10119   3935037  https://www.google.com/patents/US3935037   \n",
      "10118   3935797  https://www.google.com/patents/US3935797   \n",
      "10117   3936277  https://www.google.com/patents/US3936277   \n",
      "10116   3936298  https://www.google.com/patents/US3936298   \n",
      "10115   3936332  https://www.google.com/patents/US3936332   \n",
      "10114   3937638  https://www.google.com/patents/US3937638   \n",
      "10113   3937858  https://www.google.com/patents/US3937858   \n",
      "10112   3939299  https://www.google.com/patents/US3939299   \n",
      "10111   3940269  https://www.google.com/patents/US3940269   \n",
      "10110   3940319  https://www.google.com/patents/US3940319   \n",
      "10109   3940728  https://www.google.com/patents/US3940728   \n",
      "10108   3941590  https://www.google.com/patents/US3941590   \n",
      "10107   3941591  https://www.google.com/patents/US3941591   \n",
      "...         ...                                       ...   \n",
      "29      9610656  https://www.google.com/patents/US9610656   \n",
      "28      9611741  https://www.google.com/patents/US9611741   \n",
      "27      9611937  https://www.google.com/patents/US9611937   \n",
      "26      9613648  https://www.google.com/patents/US9613648   \n",
      "25      9616495  https://www.google.com/patents/US9616495   \n",
      "24      9616639  https://www.google.com/patents/US9616639   \n",
      "23      9617623  https://www.google.com/patents/US9617623   \n",
      "22      9617629  https://www.google.com/patents/US9617629   \n",
      "21      9617856  https://www.google.com/patents/US9617856   \n",
      "20      9620268  https://www.google.com/patents/US9620268   \n",
      "19      9620269  https://www.google.com/patents/US9620269   \n",
      "18      9622885  https://www.google.com/patents/US9622885   \n",
      "17      9624562  https://www.google.com/patents/US9624562   \n",
      "16      9624565  https://www.google.com/patents/US9624565   \n",
      "15      9624566  https://www.google.com/patents/US9624566   \n",
      "14      9624568  https://www.google.com/patents/US9624568   \n",
      "13      9629873  https://www.google.com/patents/US9629873   \n",
      "12      9630161  https://www.google.com/patents/US9630161   \n",
      "11      9630251  https://www.google.com/patents/US9630251   \n",
      "10      9630834  https://www.google.com/patents/US9630834   \n",
      "9       9631157  https://www.google.com/patents/US9631157   \n",
      "8       9631260  https://www.google.com/patents/US9631260   \n",
      "7       9631261  https://www.google.com/patents/US9631261   \n",
      "6       9631268  https://www.google.com/patents/US9631268   \n",
      "5       9631878  https://www.google.com/patents/US9631878   \n",
      "4       9631879  https://www.google.com/patents/US9631879   \n",
      "3       9634123  https://www.google.com/patents/US9634123   \n",
      "2       9634324  https://www.google.com/patents/US9634324   \n",
      "1       9636784  https://www.google.com/patents/US9636784   \n",
      "0       9637179  https://www.google.com/patents/US9637179   \n",
      "\n",
      "                                                   title issue_date  \\\n",
      "10136  Method for a surface treatment of an iron, fer...     1/6/76   \n",
      "10135          High temperature low density cobalt alloy     1/6/76   \n",
      "10134         Special magnesium-manganese aluminum alloy     1/6/76   \n",
      "10133  Method of spraying molybdenum on aluminum or a...     1/6/76   \n",
      "10132        Nickel-iron-chromium alloy wrought products     1/6/76   \n",
      "10131  Process and apparatus for producing thin coppe...     1/6/76   \n",
      "10130  Method for painting aluminum or aluminum-based...     1/6/76   \n",
      "10129             Zinc-copper alloy electroplating baths     1/6/76   \n",
      "10128  Method of forming colored oxide film on alumin...     1/6/76   \n",
      "10127  Method for recovering a usable alloy from tita...    1/20/76   \n",
      "10126  High-temperature eutectoid alloy and process o...    1/20/76   \n",
      "10125  Silicon-containing nickel-aluminum-molybdenum ...    1/20/76   \n",
      "10124                                  Cobalt-base alloy    1/20/76   \n",
      "10123  Method of rust-preventing for copper and coppe...    1/20/76   \n",
      "10122          Tabletting spherical dental amalgam alloy    1/20/76   \n",
      "10121               Aluminum alloy of age hardening type    1/27/76   \n",
      "10120  Electroless deposition of a copper-nickel allo...    1/27/76   \n",
      "10119                  Austenitic iron-nickel base alloy    1/27/76   \n",
      "10118   Wear and seizure resistant aluminum alloy piston     2/3/76   \n",
      "10117               Aluminum alloy-boron fiber composite     2/3/76   \n",
      "10116  Metal composition and methods for preparing li...     2/3/76   \n",
      "10115  Copper and copper alloy etching solutions and ...     2/3/76   \n",
      "10114  Method for treating copper-nickel-tin alloy co...    2/10/76   \n",
      "10113  Method of and bath for the plating of aluminum...    2/10/76   \n",
      "10112                     Aluminium alloy conductor wire    2/17/76   \n",
      "10111  Sintered austenitic-ferritic chromium-nickel s...    2/24/76   \n",
      "10110       Electrodeposition of bright tin-nickel alloy    2/24/76   \n",
      "10109                  Alloy for a high temperature fuse    2/24/76   \n",
      "10108              Precipitation hardening Ni base alloy     3/2/76   \n",
      "10107  Electrophotographic photoconductive member emp...     3/2/76   \n",
      "...                                                  ...        ...   \n",
      "29              Lead-free solder alloy for vehicle glass     4/4/17   \n",
      "28     Braze alloy compositions and brazing methods f...     4/4/17   \n",
      "27     Superelastic nickel-titanium alloy downhole se...     4/4/17   \n",
      "26     Aluminum alloy plate for magnetic disc substra...     4/4/17   \n",
      "25     Amorphous alloy and method for manufacturing t...    4/11/17   \n",
      "24     Tin-plated copper-alloy material for terminal ...    4/11/17   \n",
      "23     Aluminum alloy including iron-manganese comple...    4/11/17   \n",
      "22           Copper-nickel-zinc alloy containing silicon    4/11/17   \n",
      "21     Ni base forged alloy and gas turbine utilizing...    4/11/17   \n",
      "20     R-T-B based alloy strip, and R-T-B based sinte...    4/11/17   \n",
      "19     Method and equipment for processing NdFeB rare...    4/11/17   \n",
      "18     Collapsible, shape memory alloy structures and...    4/18/17   \n",
      "17     Al alloy film for display or semiconductor dev...    4/18/17   \n",
      "16     Nanocrystal-containing titanium alloy and prod...    4/18/17   \n",
      "15     Alpha and beta titanium alloy sheet excellent ...    4/18/17   \n",
      "14     Thermal spray applications using iron based al...    4/18/17   \n",
      "13     Bioresorbable metal alloy and implants made of...    4/25/17   \n",
      "12     Metal alloy nanoparticle synthesis via self-as...    4/25/17   \n",
      "11                                        Titanium alloy    4/25/17   \n",
      "10     Wafer scale monolithic CMOS-integration of fre...    4/25/17   \n",
      "9      Cu_��Ni_��Sn alloy overlay for bearing surface...    4/25/17   \n",
      "8      Copper alloy sheets for electrical/electronic ...    4/25/17   \n",
      "7      Low-cost alpha-beta titanium alloy with good b...    4/25/17   \n",
      "6      Methods and systems for shape memory alloy str...    4/25/17   \n",
      "5      Process for producing aluminum alloy tube havi...    4/25/17   \n",
      "4      Aluminum alloy for extrusion and drawing proce...    4/25/17   \n",
      "3      FinFET device including a dielectrically isola...    4/25/17   \n",
      "2      Nickel-metal hydride battery and method for pr...    4/25/17   \n",
      "1                               Mixed alloy solder paste     5/2/17   \n",
      "0      Aluminum alloy vehicle structural component de...     5/2/17   \n",
      "\n",
      "            date  num_inventor  num_pc  num_npc  num_rb  num_class  num_le  \n",
      "10136   6-Jan-76             3       6        2       2          5       0  \n",
      "10135   6-Jan-76             1       1        0       0          5       0  \n",
      "10134   6-Jan-76             2       7        0      35         11       0  \n",
      "10133   6-Jan-76             3       5        0       3         15       0  \n",
      "10132   6-Jan-76             3       7        0       8          5       0  \n",
      "10131   6-Jan-76             2       2        0       5          6       3  \n",
      "10130   6-Jan-76            10       6        0       1         17       0  \n",
      "10129   6-Jan-76             1       5        2       6          8       0  \n",
      "10128   6-Jan-76             4       8        2      17          6       0  \n",
      "10127  20-Jan-76             1       7        0       6         12       0  \n",
      "10126  20-Jan-76             1       1        0       0         12       0  \n",
      "10125  20-Jan-76             4       2        0      21          4       0  \n",
      "10124  20-Jan-76             1       1        0      19         11       3  \n",
      "10123  20-Jan-76             2       4        0      34         14       1  \n",
      "10122  20-Jan-76             1       2        0      23         14       0  \n",
      "10121  27-Jan-76             2       6        0      19          7       0  \n",
      "10120  27-Jan-76             1       6        0      14         12       0  \n",
      "10119  27-Jan-76             2       7        0       2          4       0  \n",
      "10118   3-Feb-76             6       3        0      34         19       0  \n",
      "10117   3-Feb-76             2       8        1      41         24       0  \n",
      "10116   3-Feb-76             2       3        0      77         16       0  \n",
      "10115   3-Feb-76             2       2        0       9          8       0  \n",
      "10114  10-Feb-76             1       3        0      19          8       0  \n",
      "10113  10-Feb-76             1       4        0      14          6       0  \n",
      "10112  17-Feb-76             2       8        0       8         24       0  \n",
      "10111  24-Feb-76             1       5        1      16         10       4  \n",
      "10110  24-Feb-76             1       2        2      32          7       0  \n",
      "10109  24-Feb-76             5       3        0      15         15       0  \n",
      "10108   2-Mar-76             1       2        0       8          4       0  \n",
      "10107   2-Mar-76             3      14        2       2          7       0  \n",
      "...          ...           ...     ...      ...     ...        ...     ...  \n",
      "29      4-Apr-17             3      31        5       0         11       1  \n",
      "28      4-Apr-17             2       6        4       0         27       1  \n",
      "27      4-Apr-17             2      12        2       0         24       1  \n",
      "26      4-Apr-17             4      13        2       0         31       1  \n",
      "25     11-Apr-17             3      17        3       0          6       1  \n",
      "24     11-Apr-17             3      16        2       0         15       1  \n",
      "23     11-Apr-17             2      14       16       0         14       1  \n",
      "22     11-Apr-17             2      22        3       0         26       1  \n",
      "21     11-Apr-17             5      10        2       0         13       2  \n",
      "20     11-Apr-17             5      23       13       0         26       1  \n",
      "19     11-Apr-17             1      10        1       0         30       0  \n",
      "18     18-Apr-17             4      28        0       0         30       0  \n",
      "17     18-Apr-17             2      53        2       0         20       0  \n",
      "16     18-Apr-17             4       2        7       0          6       0  \n",
      "15     18-Apr-17             2      10        3       0          6       0  \n",
      "14     18-Apr-17             7      78       10       0         24       0  \n",
      "13     25-Apr-17             5      26       14       0         15       1  \n",
      "12     25-Apr-17             2       5       40       0         12       2  \n",
      "11     25-Apr-17             2     208       19       0         14       1  \n",
      "10     25-Apr-17             2      16        0       0          5       1  \n",
      "9      25-Apr-17             2      21       14       0         34       2  \n",
      "8      25-Apr-17             3      30       17       0         15       1  \n",
      "7      25-Apr-17             1      28        6       0          5       2  \n",
      "6      25-Apr-17             3      20        3       0         12       1  \n",
      "5      25-Apr-17             1       9        1       0         32       1  \n",
      "4      25-Apr-17             1      45        5       0          7       1  \n",
      "3      25-Apr-17             1       4        0       0          6       1  \n",
      "2      25-Apr-17             3      12        7       0         11       2  \n",
      "1       2-May-17             2       6        2       0         81       0  \n",
      "0       2-May-17             5      22        1       0         13       0  \n",
      "\n",
      "[10137 rows x 11 columns]\n"
     ]
    }
   ],
   "source": [
    "print (df_patents)"
   ]
  },
  {
   "cell_type": "markdown",
   "metadata": {},
   "source": [
    "### Renumber the index to go from 0 to 10136."
   ]
  },
  {
   "cell_type": "code",
   "execution_count": 6,
   "metadata": {
    "collapsed": false
   },
   "outputs": [
    {
     "name": "stdout",
     "output_type": "stream",
     "text": [
      "      patent_no                                       url  \\\n",
      "0       3930575  https://www.google.com/patents/US3930575   \n",
      "1       3930848  https://www.google.com/patents/US3930848   \n",
      "2       3930895  https://www.google.com/patents/US3930895   \n",
      "3       3930899  https://www.google.com/patents/US3930899   \n",
      "4       3930904  https://www.google.com/patents/US3930904   \n",
      "5       3930962  https://www.google.com/patents/US3930962   \n",
      "6       3930964  https://www.google.com/patents/US3930964   \n",
      "7       3930965  https://www.google.com/patents/US3930965   \n",
      "8       3930966  https://www.google.com/patents/US3930966   \n",
      "9       3933473  https://www.google.com/patents/US3933473   \n",
      "10      3933481  https://www.google.com/patents/US3933481   \n",
      "11      3933483  https://www.google.com/patents/US3933483   \n",
      "12      3933484  https://www.google.com/patents/US3933484   \n",
      "13      3933531  https://www.google.com/patents/US3933531   \n",
      "14      3933961  https://www.google.com/patents/US3933961   \n",
      "15      3935007  https://www.google.com/patents/US3935007   \n",
      "16      3935013  https://www.google.com/patents/US3935013   \n",
      "17      3935037  https://www.google.com/patents/US3935037   \n",
      "18      3935797  https://www.google.com/patents/US3935797   \n",
      "19      3936277  https://www.google.com/patents/US3936277   \n",
      "20      3936298  https://www.google.com/patents/US3936298   \n",
      "21      3936332  https://www.google.com/patents/US3936332   \n",
      "22      3937638  https://www.google.com/patents/US3937638   \n",
      "23      3937858  https://www.google.com/patents/US3937858   \n",
      "24      3939299  https://www.google.com/patents/US3939299   \n",
      "25      3940269  https://www.google.com/patents/US3940269   \n",
      "26      3940319  https://www.google.com/patents/US3940319   \n",
      "27      3940728  https://www.google.com/patents/US3940728   \n",
      "28      3941590  https://www.google.com/patents/US3941590   \n",
      "29      3941591  https://www.google.com/patents/US3941591   \n",
      "...         ...                                       ...   \n",
      "10107   9610656  https://www.google.com/patents/US9610656   \n",
      "10108   9611741  https://www.google.com/patents/US9611741   \n",
      "10109   9611937  https://www.google.com/patents/US9611937   \n",
      "10110   9613648  https://www.google.com/patents/US9613648   \n",
      "10111   9616495  https://www.google.com/patents/US9616495   \n",
      "10112   9616639  https://www.google.com/patents/US9616639   \n",
      "10113   9617623  https://www.google.com/patents/US9617623   \n",
      "10114   9617629  https://www.google.com/patents/US9617629   \n",
      "10115   9617856  https://www.google.com/patents/US9617856   \n",
      "10116   9620268  https://www.google.com/patents/US9620268   \n",
      "10117   9620269  https://www.google.com/patents/US9620269   \n",
      "10118   9622885  https://www.google.com/patents/US9622885   \n",
      "10119   9624562  https://www.google.com/patents/US9624562   \n",
      "10120   9624565  https://www.google.com/patents/US9624565   \n",
      "10121   9624566  https://www.google.com/patents/US9624566   \n",
      "10122   9624568  https://www.google.com/patents/US9624568   \n",
      "10123   9629873  https://www.google.com/patents/US9629873   \n",
      "10124   9630161  https://www.google.com/patents/US9630161   \n",
      "10125   9630251  https://www.google.com/patents/US9630251   \n",
      "10126   9630834  https://www.google.com/patents/US9630834   \n",
      "10127   9631157  https://www.google.com/patents/US9631157   \n",
      "10128   9631260  https://www.google.com/patents/US9631260   \n",
      "10129   9631261  https://www.google.com/patents/US9631261   \n",
      "10130   9631268  https://www.google.com/patents/US9631268   \n",
      "10131   9631878  https://www.google.com/patents/US9631878   \n",
      "10132   9631879  https://www.google.com/patents/US9631879   \n",
      "10133   9634123  https://www.google.com/patents/US9634123   \n",
      "10134   9634324  https://www.google.com/patents/US9634324   \n",
      "10135   9636784  https://www.google.com/patents/US9636784   \n",
      "10136   9637179  https://www.google.com/patents/US9637179   \n",
      "\n",
      "                                                   title issue_date  \\\n",
      "0      Method for a surface treatment of an iron, fer...     1/6/76   \n",
      "1              High temperature low density cobalt alloy     1/6/76   \n",
      "2             Special magnesium-manganese aluminum alloy     1/6/76   \n",
      "3      Method of spraying molybdenum on aluminum or a...     1/6/76   \n",
      "4            Nickel-iron-chromium alloy wrought products     1/6/76   \n",
      "5      Process and apparatus for producing thin coppe...     1/6/76   \n",
      "6      Method for painting aluminum or aluminum-based...     1/6/76   \n",
      "7                 Zinc-copper alloy electroplating baths     1/6/76   \n",
      "8      Method of forming colored oxide film on alumin...     1/6/76   \n",
      "9      Method for recovering a usable alloy from tita...    1/20/76   \n",
      "10     High-temperature eutectoid alloy and process o...    1/20/76   \n",
      "11     Silicon-containing nickel-aluminum-molybdenum ...    1/20/76   \n",
      "12                                     Cobalt-base alloy    1/20/76   \n",
      "13     Method of rust-preventing for copper and coppe...    1/20/76   \n",
      "14             Tabletting spherical dental amalgam alloy    1/20/76   \n",
      "15                  Aluminum alloy of age hardening type    1/27/76   \n",
      "16     Electroless deposition of a copper-nickel allo...    1/27/76   \n",
      "17                     Austenitic iron-nickel base alloy    1/27/76   \n",
      "18      Wear and seizure resistant aluminum alloy piston     2/3/76   \n",
      "19                  Aluminum alloy-boron fiber composite     2/3/76   \n",
      "20     Metal composition and methods for preparing li...     2/3/76   \n",
      "21     Copper and copper alloy etching solutions and ...     2/3/76   \n",
      "22     Method for treating copper-nickel-tin alloy co...    2/10/76   \n",
      "23     Method of and bath for the plating of aluminum...    2/10/76   \n",
      "24                        Aluminium alloy conductor wire    2/17/76   \n",
      "25     Sintered austenitic-ferritic chromium-nickel s...    2/24/76   \n",
      "26          Electrodeposition of bright tin-nickel alloy    2/24/76   \n",
      "27                     Alloy for a high temperature fuse    2/24/76   \n",
      "28                 Precipitation hardening Ni base alloy     3/2/76   \n",
      "29     Electrophotographic photoconductive member emp...     3/2/76   \n",
      "...                                                  ...        ...   \n",
      "10107           Lead-free solder alloy for vehicle glass     4/4/17   \n",
      "10108  Braze alloy compositions and brazing methods f...     4/4/17   \n",
      "10109  Superelastic nickel-titanium alloy downhole se...     4/4/17   \n",
      "10110  Aluminum alloy plate for magnetic disc substra...     4/4/17   \n",
      "10111  Amorphous alloy and method for manufacturing t...    4/11/17   \n",
      "10112  Tin-plated copper-alloy material for terminal ...    4/11/17   \n",
      "10113  Aluminum alloy including iron-manganese comple...    4/11/17   \n",
      "10114        Copper-nickel-zinc alloy containing silicon    4/11/17   \n",
      "10115  Ni base forged alloy and gas turbine utilizing...    4/11/17   \n",
      "10116  R-T-B based alloy strip, and R-T-B based sinte...    4/11/17   \n",
      "10117  Method and equipment for processing NdFeB rare...    4/11/17   \n",
      "10118  Collapsible, shape memory alloy structures and...    4/18/17   \n",
      "10119  Al alloy film for display or semiconductor dev...    4/18/17   \n",
      "10120  Nanocrystal-containing titanium alloy and prod...    4/18/17   \n",
      "10121  Alpha and beta titanium alloy sheet excellent ...    4/18/17   \n",
      "10122  Thermal spray applications using iron based al...    4/18/17   \n",
      "10123  Bioresorbable metal alloy and implants made of...    4/25/17   \n",
      "10124  Metal alloy nanoparticle synthesis via self-as...    4/25/17   \n",
      "10125                                     Titanium alloy    4/25/17   \n",
      "10126  Wafer scale monolithic CMOS-integration of fre...    4/25/17   \n",
      "10127  Cu_��Ni_��Sn alloy overlay for bearing surface...    4/25/17   \n",
      "10128  Copper alloy sheets for electrical/electronic ...    4/25/17   \n",
      "10129  Low-cost alpha-beta titanium alloy with good b...    4/25/17   \n",
      "10130  Methods and systems for shape memory alloy str...    4/25/17   \n",
      "10131  Process for producing aluminum alloy tube havi...    4/25/17   \n",
      "10132  Aluminum alloy for extrusion and drawing proce...    4/25/17   \n",
      "10133  FinFET device including a dielectrically isola...    4/25/17   \n",
      "10134  Nickel-metal hydride battery and method for pr...    4/25/17   \n",
      "10135                           Mixed alloy solder paste     5/2/17   \n",
      "10136  Aluminum alloy vehicle structural component de...     5/2/17   \n",
      "\n",
      "            date  num_inventor  num_pc  num_npc  num_rb  num_class  num_le  \n",
      "0       6-Jan-76             3       6        2       2          5       0  \n",
      "1       6-Jan-76             1       1        0       0          5       0  \n",
      "2       6-Jan-76             2       7        0      35         11       0  \n",
      "3       6-Jan-76             3       5        0       3         15       0  \n",
      "4       6-Jan-76             3       7        0       8          5       0  \n",
      "5       6-Jan-76             2       2        0       5          6       3  \n",
      "6       6-Jan-76            10       6        0       1         17       0  \n",
      "7       6-Jan-76             1       5        2       6          8       0  \n",
      "8       6-Jan-76             4       8        2      17          6       0  \n",
      "9      20-Jan-76             1       7        0       6         12       0  \n",
      "10     20-Jan-76             1       1        0       0         12       0  \n",
      "11     20-Jan-76             4       2        0      21          4       0  \n",
      "12     20-Jan-76             1       1        0      19         11       3  \n",
      "13     20-Jan-76             2       4        0      34         14       1  \n",
      "14     20-Jan-76             1       2        0      23         14       0  \n",
      "15     27-Jan-76             2       6        0      19          7       0  \n",
      "16     27-Jan-76             1       6        0      14         12       0  \n",
      "17     27-Jan-76             2       7        0       2          4       0  \n",
      "18      3-Feb-76             6       3        0      34         19       0  \n",
      "19      3-Feb-76             2       8        1      41         24       0  \n",
      "20      3-Feb-76             2       3        0      77         16       0  \n",
      "21      3-Feb-76             2       2        0       9          8       0  \n",
      "22     10-Feb-76             1       3        0      19          8       0  \n",
      "23     10-Feb-76             1       4        0      14          6       0  \n",
      "24     17-Feb-76             2       8        0       8         24       0  \n",
      "25     24-Feb-76             1       5        1      16         10       4  \n",
      "26     24-Feb-76             1       2        2      32          7       0  \n",
      "27     24-Feb-76             5       3        0      15         15       0  \n",
      "28      2-Mar-76             1       2        0       8          4       0  \n",
      "29      2-Mar-76             3      14        2       2          7       0  \n",
      "...          ...           ...     ...      ...     ...        ...     ...  \n",
      "10107   4-Apr-17             3      31        5       0         11       1  \n",
      "10108   4-Apr-17             2       6        4       0         27       1  \n",
      "10109   4-Apr-17             2      12        2       0         24       1  \n",
      "10110   4-Apr-17             4      13        2       0         31       1  \n",
      "10111  11-Apr-17             3      17        3       0          6       1  \n",
      "10112  11-Apr-17             3      16        2       0         15       1  \n",
      "10113  11-Apr-17             2      14       16       0         14       1  \n",
      "10114  11-Apr-17             2      22        3       0         26       1  \n",
      "10115  11-Apr-17             5      10        2       0         13       2  \n",
      "10116  11-Apr-17             5      23       13       0         26       1  \n",
      "10117  11-Apr-17             1      10        1       0         30       0  \n",
      "10118  18-Apr-17             4      28        0       0         30       0  \n",
      "10119  18-Apr-17             2      53        2       0         20       0  \n",
      "10120  18-Apr-17             4       2        7       0          6       0  \n",
      "10121  18-Apr-17             2      10        3       0          6       0  \n",
      "10122  18-Apr-17             7      78       10       0         24       0  \n",
      "10123  25-Apr-17             5      26       14       0         15       1  \n",
      "10124  25-Apr-17             2       5       40       0         12       2  \n",
      "10125  25-Apr-17             2     208       19       0         14       1  \n",
      "10126  25-Apr-17             2      16        0       0          5       1  \n",
      "10127  25-Apr-17             2      21       14       0         34       2  \n",
      "10128  25-Apr-17             3      30       17       0         15       1  \n",
      "10129  25-Apr-17             1      28        6       0          5       2  \n",
      "10130  25-Apr-17             3      20        3       0         12       1  \n",
      "10131  25-Apr-17             1       9        1       0         32       1  \n",
      "10132  25-Apr-17             1      45        5       0          7       1  \n",
      "10133  25-Apr-17             1       4        0       0          6       1  \n",
      "10134  25-Apr-17             3      12        7       0         11       2  \n",
      "10135   2-May-17             2       6        2       0         81       0  \n",
      "10136   2-May-17             5      22        1       0         13       0  \n",
      "\n",
      "[10137 rows x 11 columns]\n"
     ]
    }
   ],
   "source": [
    "# Renumber the index so that the plots are numbered correctly. \n",
    "\n",
    "df_patents = df_patents.reset_index()\n",
    "del df_patents['index']\n",
    "\n",
    "print (df_patents)       # Looks okay."
   ]
  },
  {
   "cell_type": "code",
   "execution_count": null,
   "metadata": {
    "collapsed": true
   },
   "outputs": [],
   "source": []
  },
  {
   "cell_type": "markdown",
   "metadata": {},
   "source": [
    "### Save as df_patents."
   ]
  },
  {
   "cell_type": "code",
   "execution_count": 7,
   "metadata": {
    "collapsed": false
   },
   "outputs": [
    {
     "data": {
      "text/html": [
       "<div>\n",
       "<table border=\"1\" class=\"dataframe\">\n",
       "  <thead>\n",
       "    <tr style=\"text-align: right;\">\n",
       "      <th></th>\n",
       "      <th>num_inventor</th>\n",
       "      <th>num_pc</th>\n",
       "      <th>num_npc</th>\n",
       "      <th>num_rb</th>\n",
       "      <th>num_class</th>\n",
       "      <th>num_le</th>\n",
       "    </tr>\n",
       "  </thead>\n",
       "  <tbody>\n",
       "    <tr>\n",
       "      <th>count</th>\n",
       "      <td>10137.000000</td>\n",
       "      <td>10137.000000</td>\n",
       "      <td>10137.000000</td>\n",
       "      <td>10137.000000</td>\n",
       "      <td>10137.000000</td>\n",
       "      <td>10137.000000</td>\n",
       "    </tr>\n",
       "    <tr>\n",
       "      <th>mean</th>\n",
       "      <td>2.919108</td>\n",
       "      <td>12.997139</td>\n",
       "      <td>3.212785</td>\n",
       "      <td>15.647036</td>\n",
       "      <td>16.174213</td>\n",
       "      <td>4.176186</td>\n",
       "    </tr>\n",
       "    <tr>\n",
       "      <th>std</th>\n",
       "      <td>1.818188</td>\n",
       "      <td>24.138194</td>\n",
       "      <td>8.621308</td>\n",
       "      <td>41.604616</td>\n",
       "      <td>10.058189</td>\n",
       "      <td>2.722414</td>\n",
       "    </tr>\n",
       "    <tr>\n",
       "      <th>min</th>\n",
       "      <td>1.000000</td>\n",
       "      <td>0.000000</td>\n",
       "      <td>0.000000</td>\n",
       "      <td>0.000000</td>\n",
       "      <td>2.000000</td>\n",
       "      <td>0.000000</td>\n",
       "    </tr>\n",
       "    <tr>\n",
       "      <th>25%</th>\n",
       "      <td>2.000000</td>\n",
       "      <td>5.000000</td>\n",
       "      <td>0.000000</td>\n",
       "      <td>2.000000</td>\n",
       "      <td>9.000000</td>\n",
       "      <td>2.000000</td>\n",
       "    </tr>\n",
       "    <tr>\n",
       "      <th>50%</th>\n",
       "      <td>3.000000</td>\n",
       "      <td>8.000000</td>\n",
       "      <td>0.000000</td>\n",
       "      <td>7.000000</td>\n",
       "      <td>14.000000</td>\n",
       "      <td>4.000000</td>\n",
       "    </tr>\n",
       "    <tr>\n",
       "      <th>75%</th>\n",
       "      <td>4.000000</td>\n",
       "      <td>15.000000</td>\n",
       "      <td>3.000000</td>\n",
       "      <td>18.000000</td>\n",
       "      <td>20.000000</td>\n",
       "      <td>6.000000</td>\n",
       "    </tr>\n",
       "    <tr>\n",
       "      <th>max</th>\n",
       "      <td>18.000000</td>\n",
       "      <td>981.000000</td>\n",
       "      <td>218.000000</td>\n",
       "      <td>2341.000000</td>\n",
       "      <td>116.000000</td>\n",
       "      <td>22.000000</td>\n",
       "    </tr>\n",
       "  </tbody>\n",
       "</table>\n",
       "</div>"
      ],
      "text/plain": [
       "       num_inventor        num_pc       num_npc        num_rb     num_class  \\\n",
       "count  10137.000000  10137.000000  10137.000000  10137.000000  10137.000000   \n",
       "mean       2.919108     12.997139      3.212785     15.647036     16.174213   \n",
       "std        1.818188     24.138194      8.621308     41.604616     10.058189   \n",
       "min        1.000000      0.000000      0.000000      0.000000      2.000000   \n",
       "25%        2.000000      5.000000      0.000000      2.000000      9.000000   \n",
       "50%        3.000000      8.000000      0.000000      7.000000     14.000000   \n",
       "75%        4.000000     15.000000      3.000000     18.000000     20.000000   \n",
       "max       18.000000    981.000000    218.000000   2341.000000    116.000000   \n",
       "\n",
       "             num_le  \n",
       "count  10137.000000  \n",
       "mean       4.176186  \n",
       "std        2.722414  \n",
       "min        0.000000  \n",
       "25%        2.000000  \n",
       "50%        4.000000  \n",
       "75%        6.000000  \n",
       "max       22.000000  "
      ]
     },
     "execution_count": 7,
     "metadata": {},
     "output_type": "execute_result"
    }
   ],
   "source": [
    "df_patents.describe()"
   ]
  },
  {
   "cell_type": "code",
   "execution_count": 8,
   "metadata": {
    "collapsed": false
   },
   "outputs": [
    {
     "name": "stderr",
     "output_type": "stream",
     "text": [
      "/Library/Frameworks/Python.framework/Versions/2.7/lib/python2.7/site-packages/IPython/html.py:14: ShimWarning: The `IPython.html` package has been deprecated since IPython 4.0. You should import from `notebook` instead. `IPython.html.widgets` has moved to `ipywidgets`.\n",
      "  \"`IPython.html.widgets` has moved to `ipywidgets`.\", ShimWarning)\n"
     ]
    }
   ],
   "source": [
    "import matplotlib\n",
    "import matplotlib.pyplot as plt\n",
    "matplotlib.style.use('ggplot')\n",
    "%matplotlib inline\n",
    "import seaborn as sns\n",
    "plt.style.use('seaborn-whitegrid')\n"
   ]
  },
  {
   "cell_type": "markdown",
   "metadata": {
    "collapsed": false
   },
   "source": [
    "### Prepare to plot various quantities. "
   ]
  },
  {
   "cell_type": "code",
   "execution_count": 9,
   "metadata": {
    "collapsed": false
   },
   "outputs": [],
   "source": [
    "# Number of patent citations, num_pc. \n",
    "\n",
    "num_pcs = []\n",
    "\n",
    "value  = (df_patents['num_pc'])\n",
    "num_pcs.append(value)\n",
    "#print value    \n",
    "\n",
    "for row in df_patents.iterrows():      \n",
    "    df_patents['num_pc'] = value \n",
    "\n",
    "    \n",
    "# Number of forward citations, num_rb.\n",
    "num_rbs = []\n",
    "\n",
    "value  = (df_patents['num_rb'])\n",
    "num_rbs.append(value)\n",
    "#print value    \n",
    "\n",
    "for row in df_patents.iterrows():      \n",
    "    df_patents['num_rb'] = value \n",
    "\n",
    "    \n",
    "# Number of inventors, num_inventor.\n",
    "num_inventors = []\n",
    "\n",
    "value  = (df_patents['num_inventor'])\n",
    "num_inventors.append(value)\n",
    "#print value    \n",
    "\n",
    "for row in df_patents.iterrows():      \n",
    "    df_patents['num_inventor'] = value \n",
    "\n",
    "    \n",
    "# Number of non-patent citations, num_npc.\n",
    "num_npcs = []\n",
    "\n",
    "value  = (df_patents['num_npc'])\n",
    "num_npcs.append(value)\n",
    "#print value    \n",
    "\n",
    "for row in df_patents.iterrows():      \n",
    "    df_patents['num_npc'] = value \n",
    "\n",
    "    \n",
    "# Number of legal events, num_le.\n",
    "num_les = []\n",
    "\n",
    "value  = (df_patents['num_le'])\n",
    "num_les.append(value)\n",
    "#print value    \n",
    "\n",
    "for row in df_patents.iterrows():      \n",
    "    df_patents['num_le'] = value \n",
    "\n",
    "    \n",
    "# Number of classifications, num_class\n",
    "num_classes = []\n",
    "\n",
    "value  = (df_patents['num_class'])\n",
    "num_classes.append(value)\n",
    "#print value    \n",
    "\n",
    "for row in df_patents.iterrows():      \n",
    "    df_patents['num_class'] = value "
   ]
  },
  {
   "cell_type": "markdown",
   "metadata": {},
   "source": [
    "## Plot No. of Forward Citations vs. other variables. "
   ]
  },
  {
   "cell_type": "markdown",
   "metadata": {},
   "source": [
    "### Plot 1) - No. of forward citations vs. No. of (back) patent citations.   ( num_rb   vs.   num_pc)"
   ]
  },
  {
   "cell_type": "code",
   "execution_count": 10,
   "metadata": {
    "collapsed": false
   },
   "outputs": [
    {
     "data": {
      "image/png": "[encoded data removed]",
      "text/plain": [
       "<matplotlib.figure.Figure at 0x10a516090>"
      ]
     },
     "metadata": {},
     "output_type": "display_data"
    }
   ],
   "source": [
    "# No. of forward patent citations vs. No. of back patent references. \n",
    "\n",
    "plt.scatter(num_pcs, num_rbs, marker = 'o', color = 'green', s = 11 )\n",
    "plt.xlabel(\"No. of Patent Citations \")\n",
    "plt.ylabel(\"No. of Forward Citations\")\n",
    "plt.style.use('seaborn-white')\n",
    "ax = plt.axes()\n",
    "ax.set(xlim=(-20,1200), ylim = (-50,2500))\n",
    "plt.show()"
   ]
  },
  {
   "cell_type": "markdown",
   "metadata": {
    "collapsed": false
   },
   "source": [
    "### Plot 2) - No. of forward citations vs. No. of (back) non-patent citations.  (num_rb vs. num_npc)"
   ]
  },
  {
   "cell_type": "code",
   "execution_count": 11,
   "metadata": {
    "collapsed": false
   },
   "outputs": [
    {
     "data": {
      "image/png": "[encoded data removed]",
      "text/plain": [
       "<matplotlib.figure.Figure at 0x10a77a290>"
      ]
     },
     "metadata": {},
     "output_type": "display_data"
    }
   ],
   "source": [
    "# Number of forward citations vs. number of (back) non-patent citations. \n",
    "\n",
    "plt.scatter(num_npcs, num_rbs,  marker = 'o', color = 'green', s = 11)\n",
    "plt.xlabel(\"No. of Non-Patents Citations\")\n",
    "plt.ylabel(\"No. of Forward Citations\")\n",
    "\n",
    "plt.style.use('seaborn-white')\n",
    "ax = plt.axes()\n",
    "ax.set(xlim=(-4,240), ylim = (-50,2500))\n",
    "\n",
    "plt.show()\n"
   ]
  },
  {
   "cell_type": "code",
   "execution_count": null,
   "metadata": {
    "collapsed": true
   },
   "outputs": [],
   "source": []
  },
  {
   "cell_type": "markdown",
   "metadata": {
    "collapsed": true
   },
   "source": [
    "### Plot 3) - No. of forward citations vs. No. of inventors.  (num_rb vs. num_inventor)  "
   ]
  },
  {
   "cell_type": "code",
   "execution_count": 81,
   "metadata": {
    "collapsed": false
   },
   "outputs": [
    {
     "data": {
      "image/png": "[encoded data removed]",
      "text/plain": [
       "<matplotlib.figure.Figure at 0x10d8f2710>"
      ]
     },
     "metadata": {},
     "output_type": "display_data"
    }
   ],
   "source": [
    "# Number of inventors vs. number of forward citations. \n",
    "\n",
    "plt.scatter(num_inventors, num_rbs,  marker = 'o', color = 'green', s = 13 )\n",
    "plt.xlabel(\"No. of Inventors\")\n",
    "plt.ylabel(\"No. of Forward Citations\")\n",
    "\n",
    "plt.style.use('seaborn-white')\n",
    "ax = plt.axes()\n",
    "ax.set(xlim=(0,25), ylim = (-5,400))\n",
    "\n",
    "plt.show()"
   ]
  },
  {
   "cell_type": "markdown",
   "metadata": {},
   "source": [
    "### Plot 4) - No. of forward citations vs. No. of patent classifications. "
   ]
  },
  {
   "cell_type": "code",
   "execution_count": 13,
   "metadata": {
    "collapsed": false
   },
   "outputs": [
    {
     "data": {
      "image/png": "[encoded data removed]",
      "text/plain": [
       "<matplotlib.figure.Figure at 0x10b12e910>"
      ]
     },
     "metadata": {},
     "output_type": "display_data"
    }
   ],
   "source": [
    "# Plot the number forward references vs. number of classifications. \n",
    "\n",
    "plt.scatter(num_classes, num_rbs,  marker = 'o', color = 'green', s = 15 )\n",
    "plt.xlabel(\"No. of Patent Classifications\")\n",
    "plt.ylabel(\"No. of Forward Citations\")\n",
    "\n",
    "plt.style.use('seaborn-white')\n",
    "ax = plt.axes()\n",
    "ax.set(xlim=(0,120), ylim = (-50,2500))\n",
    "\n",
    "plt.show()"
   ]
  },
  {
   "cell_type": "markdown",
   "metadata": {},
   "source": [
    "### Plot 5) - No. of forward citations vs. No. of legal events. "
   ]
  },
  {
   "cell_type": "code",
   "execution_count": 14,
   "metadata": {
    "collapsed": false
   },
   "outputs": [
    {
     "data": {
      "image/png": "[encoded data removed]",
      "text/plain": [
       "<matplotlib.figure.Figure at 0x10b302c50>"
      ]
     },
     "metadata": {},
     "output_type": "display_data"
    }
   ],
   "source": [
    "# Plot the number of forward citations vs. number of legal events.  \n",
    "\n",
    "plt.scatter(num_les, num_rbs,  marker = 'o', color = 'green', s = 15 )\n",
    "plt.xlabel(\"No. of Legal Events\")\n",
    "plt.ylabel(\"No. of Forward Citations\")\n",
    "\n",
    "plt.style.use('seaborn-white')\n",
    "ax = plt.axes()\n",
    "ax.set(xlim=(-1,25), ylim = (0,2500))\n",
    "\n",
    "plt.show()"
   ]
  },
  {
   "cell_type": "markdown",
   "metadata": {},
   "source": [
    "##   Plot No. of (back) Patent Citations vs. other variables. "
   ]
  },
  {
   "cell_type": "markdown",
   "metadata": {},
   "source": [
    "### Plot 6) - No. of patent citations vs. No. of Non-patent citations.  (num_pc vs. num_npc)"
   ]
  },
  {
   "cell_type": "code",
   "execution_count": 15,
   "metadata": {
    "collapsed": false
   },
   "outputs": [
    {
     "data": {
      "image/png": "[encoded data removed]",
      "text/plain": [
       "<matplotlib.figure.Figure at 0x10b337bd0>"
      ]
     },
     "metadata": {},
     "output_type": "display_data"
    }
   ],
   "source": [
    "# Plot the number of Patent Citation versus Non-Patent Citations. \n",
    "\n",
    "plt.scatter(num_pcs, num_npcs,  marker = 'o', color = 'green', s = 15 )\n",
    "plt.xlabel(\"No. of Patent Citations \")\n",
    "plt.ylabel(\"Number of Non-Patent Citations\")\n",
    "\n",
    "plt.style.use('seaborn-white')\n",
    "ax = plt.axes()\n",
    "ax.set(xlim=(-20,1200), ylim = (-10,250))\n",
    "\n",
    "plt.show()"
   ]
  },
  {
   "cell_type": "markdown",
   "metadata": {},
   "source": [
    "### Plot 7) - No. of (back) patent citations vs. No. of legal events. (num_pc vs. num_le)"
   ]
  },
  {
   "cell_type": "code",
   "execution_count": 16,
   "metadata": {
    "collapsed": false
   },
   "outputs": [
    {
     "data": {
      "image/png": "[encoded data removed]",
      "text/plain": [
       "<matplotlib.figure.Figure at 0x10b720110>"
      ]
     },
     "metadata": {},
     "output_type": "display_data"
    }
   ],
   "source": [
    "# Plot the No. of legal events vs. No. of (back) patent citations.\n",
    "\n",
    "plt.scatter(num_pcs, num_les,  marker = 'o', color = 'green', s = 15 )\n",
    "plt.xlabel(\"No. of Patent Citations \")\n",
    "plt.ylabel(\"No. of Legal Events\")\n",
    "\n",
    "plt.style.use('seaborn-white')\n",
    "ax = plt.axes()\n",
    "ax.set(xlim=(-20,1200), ylim = (-1,25))\n",
    "\n",
    "plt.show()"
   ]
  },
  {
   "cell_type": "markdown",
   "metadata": {},
   "source": [
    "### Plot 8) - No. of inventors vs. No. of patent citations. (num_inventors vs. num_pc)"
   ]
  },
  {
   "cell_type": "code",
   "execution_count": 17,
   "metadata": {
    "collapsed": false
   },
   "outputs": [
    {
     "data": {
      "image/png": "[encoded data removed]",
      "text/plain": [
       "<matplotlib.figure.Figure at 0x10c1b6fd0>"
      ]
     },
     "metadata": {},
     "output_type": "display_data"
    }
   ],
   "source": [
    "# Plot the No. of inventors vs. No. of (back) patent citations.\n",
    "\n",
    "plt.scatter(num_inventors, num_pcs, marker = 'o', color = 'green', s = 15 )\n",
    "plt.xlabel(\"No. of Inventors\")\n",
    "plt.ylabel(\"No. of Patent Citations \")\n",
    "\n",
    "plt.style.use('seaborn-white')\n",
    "ax = plt.axes()\n",
    "ax.set(xlim=(0,25), ylim = (-20,1200))\n",
    "\n",
    "plt.show()"
   ]
  },
  {
   "cell_type": "markdown",
   "metadata": {},
   "source": [
    "### Plot 9) - No. of patent classifications vs. No. of patent citations. (num_classes vs. num_pc)"
   ]
  },
  {
   "cell_type": "code",
   "execution_count": 18,
   "metadata": {
    "collapsed": false
   },
   "outputs": [
    {
     "data": {
      "image/png": "[encoded data removed]",
      "text/plain": [
       "<matplotlib.figure.Figure at 0x10b6f0150>"
      ]
     },
     "metadata": {},
     "output_type": "display_data"
    }
   ],
   "source": [
    "# Plot the No. of patent classifications vs. No. of (back) patent citations.\n",
    "\n",
    "plt.scatter(num_classes, num_pcs,  marker = 'o', color = 'green', s = 15 )\n",
    "plt.xlabel(\"No. of Patent Classifications \")\n",
    "plt.ylabel(\"No. of Patent Citations\")\n",
    "\n",
    "plt.style.use('seaborn-white')\n",
    "ax = plt.axes()\n",
    "ax.set(xlim=(-5,120), ylim = (-40,1250))\n",
    "\n",
    "plt.show()"
   ]
  },
  {
   "cell_type": "markdown",
   "metadata": {},
   "source": [
    "## Plot No. of (back) Non-Patent Citations vs. other variables."
   ]
  },
  {
   "cell_type": "markdown",
   "metadata": {},
   "source": [
    "### Plot 10)-  No. of patent classifications vs. No. of Non-Patent Citations. (num_class vs. num_npc)"
   ]
  },
  {
   "cell_type": "code",
   "execution_count": 19,
   "metadata": {
    "collapsed": false
   },
   "outputs": [
    {
     "data": {
      "image/png": "[encoded data removed]",
      "text/plain": [
       "<matplotlib.figure.Figure at 0x10b16e390>"
      ]
     },
     "metadata": {},
     "output_type": "display_data"
    }
   ],
   "source": [
    "# Plot the No. of patent classifications vs. No. of (back) patent citations.\n",
    "\n",
    "plt.scatter(num_classes, num_npcs, marker = 'o', color = 'green', s = 15 )\n",
    "plt.xlabel(\"No. of Patent Classifications\")\n",
    "plt.ylabel(\"No. of Non-Patent Citations \")\n",
    "\n",
    "plt.style.use('seaborn-white')\n",
    "ax = plt.axes()\n",
    "ax.set(xlim=(-5,140), ylim = (-10,240))\n",
    "\n",
    "plt.show()"
   ]
  },
  {
   "cell_type": "markdown",
   "metadata": {},
   "source": [
    "##  Plots using Non-Patent Citations vs. other variables. "
   ]
  },
  {
   "cell_type": "markdown",
   "metadata": {},
   "source": [
    "### Plot the number of Non-patent citations vs. number of legal events.  (num_npcs vs. num_le)"
   ]
  },
  {
   "cell_type": "code",
   "execution_count": 20,
   "metadata": {
    "collapsed": false
   },
   "outputs": [
    {
     "data": {
      "image/png": "[encoded data removed]",
      "text/plain": [
       "<matplotlib.figure.Figure at 0x10b192cd0>"
      ]
     },
     "metadata": {},
     "output_type": "display_data"
    }
   ],
   "source": [
    "# Plot the number of non-patent citations vs. number of legal events.  \n",
    "\n",
    "plt.scatter(num_les, num_npcs,  marker = 'o', color = 'green', s = 15 )\n",
    "plt.xlabel(\"No. of Legal Events\")\n",
    "plt.ylabel(\"No. of Non-Patent Citations\")\n",
    "\n",
    "plt.style.use('seaborn-white')\n",
    "ax = plt.axes()\n",
    "ax.set(xlim=(-1,25), ylim = (0,240))\n",
    "\n",
    "plt.show()"
   ]
  },
  {
   "cell_type": "markdown",
   "metadata": {},
   "source": [
    "### Plot the number of non-patent citations vs. number of inventors. "
   ]
  },
  {
   "cell_type": "code",
   "execution_count": 21,
   "metadata": {
    "collapsed": false
   },
   "outputs": [
    {
     "data": {
      "image/png": "[encoded data removed]",
      "text/plain": [
       "<matplotlib.figure.Figure at 0x10b078950>"
      ]
     },
     "metadata": {},
     "output_type": "display_data"
    }
   ],
   "source": [
    "# Plot the number of non-patent citations vs. number of inventors. \n",
    "\n",
    "plt.scatter(num_inventors, num_npcs,  marker = 'o', color = 'green', s = 15 )\n",
    "plt.xlabel(\"No. of Inventors\")\n",
    "plt.ylabel(\"No. of Non-Patent Citations\")\n",
    "\n",
    "plt.style.use('seaborn-white')\n",
    "ax = plt.axes()\n",
    "ax.set(xlim=(0,25), ylim = (0,240))\n",
    "\n",
    "plt.show()"
   ]
  },
  {
   "cell_type": "markdown",
   "metadata": {},
   "source": [
    "### Plot the number of non-patent citations vs. number of patent classifications. "
   ]
  },
  {
   "cell_type": "code",
   "execution_count": 22,
   "metadata": {
    "collapsed": false
   },
   "outputs": [
    {
     "data": {
      "image/png": "[encoded data removed]",
      "text/plain": [
       "<matplotlib.figure.Figure at 0x10b6d2310>"
      ]
     },
     "metadata": {},
     "output_type": "display_data"
    }
   ],
   "source": [
    "# Plot the number of non-patent citations vs. number of patent classifications.  \n",
    "\n",
    "plt.scatter(num_les, num_npcs,  marker = 'o', color = 'green', s = 15 )\n",
    "plt.xlabel(\"No. of Legal Events\")\n",
    "plt.ylabel(\"No. of Non-Patent Citations\")\n",
    "\n",
    "plt.style.use('seaborn-white')\n",
    "ax = plt.axes()\n",
    "ax.set(xlim=(-1,25), ylim = (0,240))\n",
    "\n",
    "plt.show()"
   ]
  },
  {
   "cell_type": "markdown",
   "metadata": {},
   "source": [
    "## Plot the No. of inventors vs. other variables. "
   ]
  },
  {
   "cell_type": "markdown",
   "metadata": {},
   "source": [
    "### Plot the No. of inventors vs. No. of patent classifications. (num_inventor vs. num_class). "
   ]
  },
  {
   "cell_type": "code",
   "execution_count": 23,
   "metadata": {
    "collapsed": false
   },
   "outputs": [
    {
     "data": {
      "image/png": "[encoded data removed]",
      "text/plain": [
       "<matplotlib.figure.Figure at 0x10b7374d0>"
      ]
     },
     "metadata": {},
     "output_type": "display_data"
    }
   ],
   "source": [
    "# Plot the No. of inventors vs. No. of patent classifications. \n",
    "\n",
    "plt.scatter(num_classes, num_inventors,  marker = 'o', color = 'green', s = 15 )\n",
    "plt.xlabel(\"No. of Patent Classifications\")\n",
    "plt.ylabel(\"No. of Inventors\")\n",
    "\n",
    "plt.style.use('seaborn-white')\n",
    "ax = plt.axes()\n",
    "ax.set(xlim=(0,140), ylim = (0,24))\n",
    "\n",
    "plt.show()"
   ]
  },
  {
   "cell_type": "code",
   "execution_count": null,
   "metadata": {
    "collapsed": true
   },
   "outputs": [],
   "source": []
  },
  {
   "cell_type": "code",
   "execution_count": 24,
   "metadata": {
    "collapsed": false
   },
   "outputs": [
    {
     "data": {
      "image/png": "[encoded data removed]",
      "text/plain": [
       "<matplotlib.figure.Figure at 0x1077573d0>"
      ]
     },
     "metadata": {},
     "output_type": "display_data"
    }
   ],
   "source": [
    "# Plot the No. of inventors vs. No. of legal events. \n",
    "\n",
    "plt.scatter(num_les, num_inventors,  marker = 'o', color = 'green', s = 15 )\n",
    "plt.xlabel(\"No. of Legal Events\")\n",
    "plt.ylabel(\"No. of Inventors\")\n",
    "\n",
    "plt.style.use('seaborn-white')\n",
    "ax = plt.axes()\n",
    "ax.set(xlim=(-1,30), ylim = (0,30))\n",
    "plt.show()"
   ]
  },
  {
   "cell_type": "code",
   "execution_count": null,
   "metadata": {
    "collapsed": true
   },
   "outputs": [],
   "source": []
  },
  {
   "cell_type": "code",
   "execution_count": 25,
   "metadata": {
    "collapsed": false
   },
   "outputs": [
    {
     "data": {
      "image/png": "[encoded data removed]",
      "text/plain": [
       "<matplotlib.figure.Figure at 0x10c34ba10>"
      ]
     },
     "metadata": {},
     "output_type": "display_data"
    }
   ],
   "source": [
    "# Plot the No. of legal events vs. No. of patent classifications. \n",
    "\n",
    "plt.scatter(num_classes, num_les,  marker = 'o', color = 'green', s = 15 )\n",
    "plt.xlabel(\"No. of Patent Classifications\")\n",
    "plt.ylabel(\"No. of Inventors\")\n",
    "\n",
    "plt.style.use('seaborn-white')\n",
    "ax = plt.axes()\n",
    "ax.set(xlim=(0,140), ylim = (-1,30))\n",
    "\n",
    "plt.show()"
   ]
  },
  {
   "cell_type": "code",
   "execution_count": null,
   "metadata": {
    "collapsed": true
   },
   "outputs": [],
   "source": []
  },
  {
   "cell_type": "markdown",
   "metadata": {},
   "source": [
    "### Plot crosstab values. "
   ]
  },
  {
   "cell_type": "code",
   "execution_count": null,
   "metadata": {
    "collapsed": false
   },
   "outputs": [],
   "source": [
    "pd.crosstab(df_patents[\"num_pc\"],df_patents[\"num_rb\"],margins=True)"
   ]
  },
  {
   "cell_type": "code",
   "execution_count": null,
   "metadata": {
    "collapsed": false
   },
   "outputs": [],
   "source": [
    "pd.crosstab(df_patents[\"num_npc\"],df_patents[\"num_rb\"],margins=True)"
   ]
  },
  {
   "cell_type": "code",
   "execution_count": null,
   "metadata": {
    "collapsed": false
   },
   "outputs": [],
   "source": [
    "pd.crosstab(df_patents[\"num_le\"],df_patents[\"num_rb\"],margins=True)"
   ]
  },
  {
   "cell_type": "code",
   "execution_count": null,
   "metadata": {
    "collapsed": true
   },
   "outputs": [],
   "source": [
    "pd.crosstab(df_patents[\"num_class\"],df_patents[\"num_rb\"],margins=True)"
   ]
  },
  {
   "cell_type": "code",
   "execution_count": null,
   "metadata": {
    "collapsed": true
   },
   "outputs": [],
   "source": [
    "pd.crosstab(df_patents[\"num_inventor\"],df_patents[\"num_rb\"],margins=True)"
   ]
  },
  {
   "cell_type": "markdown",
   "metadata": {},
   "source": [
    "### Correlation plots. "
   ]
  },
  {
   "cell_type": "code",
   "execution_count": 26,
   "metadata": {
    "collapsed": false
   },
   "outputs": [
    {
     "data": {
      "image/png": "[encoded data removed]",
      "text/plain": [
       "<matplotlib.figure.Figure at 0x10b737810>"
      ]
     },
     "metadata": {},
     "output_type": "display_data"
    }
   ],
   "source": [
    "names = ['num_inventor', 'num_pc', 'num_npc', 'num_rb', 'num_class', 'num_le', 'cum_pc']\n",
    "\n",
    "import seaborn as sns\n",
    "correlations = df_patents.corr()\n",
    "\n",
    "fig = plt.figure()\n",
    "ax = fig.add_subplot(111) \n",
    "cax = ax.matshow(correlations, vmin= -1, vmax = 1)\n",
    "fig.colorbar(cax)\n",
    "plt.show()\n",
    " "
   ]
  },
  {
   "cell_type": "code",
   "execution_count": null,
   "metadata": {
    "collapsed": true
   },
   "outputs": [],
   "source": []
  },
  {
   "cell_type": "code",
   "execution_count": 28,
   "metadata": {
    "collapsed": false
   },
   "outputs": [
    {
     "data": {
      "text/plain": [
       "<matplotlib.axes._subplots.AxesSubplot at 0x107743f90>"
      ]
     },
     "execution_count": 28,
     "metadata": {},
     "output_type": "execute_result"
    },
    {
     "data": {
      "image/png": "[encoded data removed]",
      "text/plain": [
       "<matplotlib.figure.Figure at 0x10c826b50>"
      ]
     },
     "metadata": {},
     "output_type": "display_data"
    }
   ],
   "source": [
    "import seaborn as sns\n",
    "import matplotlib.pyplot as plt\n",
    "sns.set(context=\"paper\", font=\"monospace\")\n",
    "\n",
    "# Load the datset of correlations.\n",
    "\n",
    "corr = df_patents.corr()\n",
    "\n",
    "# Set up the matplotlib figure\n",
    "f, ax = plt.subplots(figsize=(8, 6))\n",
    "\n",
    "sns.heatmap(corr, \n",
    "            xticklabels=corr.columns.values,\n",
    "            yticklabels=corr.columns.values)"
   ]
  },
  {
   "cell_type": "markdown",
   "metadata": {},
   "source": [
    "### Calculate cumulative references. "
   ]
  },
  {
   "cell_type": "code",
   "execution_count": 29,
   "metadata": {
    "collapsed": false
   },
   "outputs": [
    {
     "name": "stdout",
     "output_type": "stream",
     "text": [
      "0             2\n",
      "1             2\n",
      "2            37\n",
      "3            40\n",
      "4            48\n",
      "5            53\n",
      "6            54\n",
      "7            60\n",
      "8            77\n",
      "9            83\n",
      "10           83\n",
      "11          104\n",
      "12          123\n",
      "13          157\n",
      "14          180\n",
      "15          199\n",
      "16          213\n",
      "17          215\n",
      "18          249\n",
      "19          290\n",
      "20          367\n",
      "21          376\n",
      "22          395\n",
      "23          409\n",
      "24          417\n",
      "25          433\n",
      "26          465\n",
      "27          480\n",
      "28          488\n",
      "29          490\n",
      "          ...  \n",
      "10107    158614\n",
      "10108    158614\n",
      "10109    158614\n",
      "10110    158614\n",
      "10111    158614\n",
      "10112    158614\n",
      "10113    158614\n",
      "10114    158614\n",
      "10115    158614\n",
      "10116    158614\n",
      "10117    158614\n",
      "10118    158614\n",
      "10119    158614\n",
      "10120    158614\n",
      "10121    158614\n",
      "10122    158614\n",
      "10123    158614\n",
      "10124    158614\n",
      "10125    158614\n",
      "10126    158614\n",
      "10127    158614\n",
      "10128    158614\n",
      "10129    158614\n",
      "10130    158614\n",
      "10131    158614\n",
      "10132    158614\n",
      "10133    158614\n",
      "10134    158614\n",
      "10135    158614\n",
      "10136    158614\n",
      "Name: cum_rb, dtype: int64\n"
     ]
    }
   ],
   "source": [
    "# Cumulative references are num_rb.  \n",
    "\n",
    "cum_rb = 0\n",
    "\n",
    "for row in df_patents.iterrows():\n",
    "    df_patents['cum_rb'] = df_patents.num_rb.cumsum()\n",
    "\n",
    "cum_rbs = []\n",
    "\n",
    "value  = (df_patents['cum_rb'])\n",
    "cum_rbs.append(value)\n",
    "print value    \n",
    "\n",
    "for row in df_patents.iterrows():      \n",
    "    df_patents['cum_rb'] = value \n"
   ]
  },
  {
   "cell_type": "markdown",
   "metadata": {},
   "source": [
    "### No. of patent citations vs. Cumulative no. of forward citations. "
   ]
  },
  {
   "cell_type": "code",
   "execution_count": 30,
   "metadata": {
    "collapsed": false
   },
   "outputs": [
    {
     "data": {
      "image/png": "[encoded data removed]",
      "text/plain": [
       "<matplotlib.figure.Figure at 0x10b2eb9d0>"
      ]
     },
     "metadata": {},
     "output_type": "display_data"
    }
   ],
   "source": [
    "plt.scatter(num_pcs, cum_rbs, marker = 'o', color = 'black', s = 9 )\n",
    "plt.xlabel(\"No. of (Back) Patent Citations\")\n",
    "plt.ylabel(\"Cumulative No. of Forward Citations\")\n",
    "plt.style.use('seaborn-white')\n",
    "ax = plt.axes()\n",
    "ax.set(xlim=(-1,300), ylim = (-3000,180000))\n",
    "plt.show()"
   ]
  },
  {
   "cell_type": "code",
   "execution_count": null,
   "metadata": {
    "collapsed": true
   },
   "outputs": [],
   "source": []
  },
  {
   "cell_type": "code",
   "execution_count": 33,
   "metadata": {
    "collapsed": false
   },
   "outputs": [
    {
     "data": {
      "image/png": "[encoded data removed]",
      "text/plain": [
       "<matplotlib.figure.Figure at 0x10b5c4e90>"
      ]
     },
     "metadata": {},
     "output_type": "display_data"
    }
   ],
   "source": [
    "plt.scatter(num_npcs, cum_rbs, marker = 'o', color = 'black', s = 9 )\n",
    "plt.xlabel(\"No. of Non-Patent (Back) Citations\")\n",
    "plt.ylabel(\"Cumulative No. of Forward Citations\")\n",
    "plt.style.use('seaborn-white')\n",
    "ax = plt.axes()\n",
    "ax.set(xlim=(-2,200), ylim = (-3000,180000))\n",
    "plt.show()"
   ]
  },
  {
   "cell_type": "code",
   "execution_count": null,
   "metadata": {
    "collapsed": true
   },
   "outputs": [],
   "source": []
  },
  {
   "cell_type": "code",
   "execution_count": null,
   "metadata": {
    "collapsed": true
   },
   "outputs": [],
   "source": []
  },
  {
   "cell_type": "code",
   "execution_count": null,
   "metadata": {
    "collapsed": false
   },
   "outputs": [],
   "source": []
  },
  {
   "cell_type": "code",
   "execution_count": null,
   "metadata": {
    "collapsed": false
   },
   "outputs": [],
   "source": []
  },
  {
   "cell_type": "markdown",
   "metadata": {
    "collapsed": true
   },
   "source": [
    "## Plot time values of patent citations.  "
   ]
  },
  {
   "cell_type": "code",
   "execution_count": 34,
   "metadata": {
    "collapsed": true
   },
   "outputs": [],
   "source": [
    "timevalues = []\n",
    "\n",
    "timevalue  = pd.to_datetime(df_patents['date'])\n",
    "list (timevalue)\n",
    "timevalues.append(list(timevalue))\n",
    "\n",
    "for row in df_patents.iterrows():      \n",
    "    df_patents['timevalue'] = timevalue\n"
   ]
  },
  {
   "cell_type": "code",
   "execution_count": 57,
   "metadata": {
    "collapsed": true
   },
   "outputs": [],
   "source": [
    "df_patents['timevalue'] = pd.to_datetime(df_patents['timevalue'])    \n",
    "df_patents['time_delta'] = (df_patents['timevalue'] - df_patents['timevalue'].min())  / np.timedelta64(1,'D') - 2162"
   ]
  },
  {
   "cell_type": "code",
   "execution_count": null,
   "metadata": {
    "collapsed": false
   },
   "outputs": [],
   "source": []
  },
  {
   "cell_type": "code",
   "execution_count": null,
   "metadata": {
    "collapsed": false
   },
   "outputs": [],
   "source": [
    "#print (df_patents)"
   ]
  },
  {
   "cell_type": "code",
   "execution_count": 36,
   "metadata": {
    "collapsed": false
   },
   "outputs": [],
   "source": [
    "# Issue_dates is the string of data generated from converting 'date' into datetime format. \n",
    "\n",
    "from datetime import datetime\n",
    "\n",
    "times = []\n",
    "\n",
    "time1  = pd.to_datetime(df_patents['date'])\n",
    "times.append(time1)\n",
    "\n",
    "for row in df_patents.iterrows():      \n",
    "    df_patents['times'] = time1\n"
   ]
  },
  {
   "cell_type": "code",
   "execution_count": 37,
   "metadata": {
    "collapsed": false
   },
   "outputs": [
    {
     "data": {
      "text/plain": [
       "[Timestamp('1976-01-06 00:00:00'),\n",
       " Timestamp('1976-01-06 00:00:00'),\n",
       " Timestamp('1976-01-06 00:00:00'),\n",
       " Timestamp('1976-01-06 00:00:00'),\n",
       " Timestamp('1976-01-06 00:00:00'),\n",
       " Timestamp('1976-01-06 00:00:00'),\n",
       " Timestamp('1976-01-06 00:00:00'),\n",
       " Timestamp('1976-01-06 00:00:00'),\n",
       " Timestamp('1976-01-06 00:00:00'),\n",
       " Timestamp('1976-01-20 00:00:00'),\n",
       " Timestamp('1976-01-20 00:00:00'),\n",
       " Timestamp('1976-01-20 00:00:00'),\n",
       " Timestamp('1976-01-20 00:00:00'),\n",
       " Timestamp('1976-01-20 00:00:00'),\n",
       " Timestamp('1976-01-20 00:00:00'),\n",
       " Timestamp('1976-01-27 00:00:00'),\n",
       " Timestamp('1976-01-27 00:00:00'),\n",
       " Timestamp('1976-01-27 00:00:00'),\n",
       " Timestamp('1976-02-03 00:00:00'),\n",
       " Timestamp('1976-02-03 00:00:00'),\n",
       " Timestamp('1976-02-03 00:00:00'),\n",
       " Timestamp('1976-02-03 00:00:00'),\n",
       " Timestamp('1976-02-10 00:00:00'),\n",
       " Timestamp('1976-02-10 00:00:00'),\n",
       " Timestamp('1976-02-17 00:00:00'),\n",
       " Timestamp('1976-02-24 00:00:00'),\n",
       " Timestamp('1976-02-24 00:00:00'),\n",
       " Timestamp('1976-02-24 00:00:00'),\n",
       " Timestamp('1976-03-02 00:00:00'),\n",
       " Timestamp('1976-03-02 00:00:00'),\n",
       " Timestamp('1976-03-09 00:00:00'),\n",
       " Timestamp('1976-03-09 00:00:00'),\n",
       " Timestamp('1976-03-09 00:00:00'),\n",
       " Timestamp('1976-03-16 00:00:00'),\n",
       " Timestamp('1976-03-16 00:00:00'),\n",
       " Timestamp('1976-03-16 00:00:00'),\n",
       " Timestamp('1976-03-23 00:00:00'),\n",
       " Timestamp('1976-03-23 00:00:00'),\n",
       " Timestamp('1976-03-23 00:00:00'),\n",
       " Timestamp('1976-03-23 00:00:00'),\n",
       " Timestamp('1976-03-30 00:00:00'),\n",
       " Timestamp('1976-03-30 00:00:00'),\n",
       " Timestamp('1976-03-30 00:00:00'),\n",
       " Timestamp('1976-04-06 00:00:00'),\n",
       " Timestamp('1976-04-06 00:00:00'),\n",
       " Timestamp('1976-04-06 00:00:00'),\n",
       " Timestamp('1976-04-06 00:00:00'),\n",
       " Timestamp('1976-04-13 00:00:00'),\n",
       " Timestamp('1976-04-13 00:00:00'),\n",
       " Timestamp('1976-04-20 00:00:00'),\n",
       " Timestamp('1976-04-20 00:00:00'),\n",
       " Timestamp('1976-04-20 00:00:00'),\n",
       " Timestamp('1976-04-20 00:00:00'),\n",
       " Timestamp('1976-04-20 00:00:00'),\n",
       " Timestamp('1976-04-27 00:00:00'),\n",
       " Timestamp('1976-04-27 00:00:00'),\n",
       " Timestamp('1976-04-27 00:00:00'),\n",
       " Timestamp('1976-04-27 00:00:00'),\n",
       " Timestamp('1976-05-04 00:00:00'),\n",
       " Timestamp('1976-05-04 00:00:00'),\n",
       " Timestamp('1976-05-04 00:00:00'),\n",
       " Timestamp('1976-05-04 00:00:00'),\n",
       " Timestamp('1976-05-04 00:00:00'),\n",
       " Timestamp('1976-05-11 00:00:00'),\n",
       " Timestamp('1976-05-11 00:00:00'),\n",
       " Timestamp('1976-05-11 00:00:00'),\n",
       " Timestamp('1976-05-11 00:00:00'),\n",
       " Timestamp('1976-05-11 00:00:00'),\n",
       " Timestamp('1976-05-11 00:00:00'),\n",
       " Timestamp('1976-05-11 00:00:00'),\n",
       " Timestamp('1976-05-18 00:00:00'),\n",
       " Timestamp('1976-05-18 00:00:00'),\n",
       " Timestamp('1976-05-18 00:00:00'),\n",
       " Timestamp('1976-05-25 00:00:00'),\n",
       " Timestamp('1976-05-25 00:00:00'),\n",
       " Timestamp('1976-05-25 00:00:00'),\n",
       " Timestamp('1976-05-25 00:00:00'),\n",
       " Timestamp('1976-05-25 00:00:00'),\n",
       " Timestamp('1976-05-25 00:00:00'),\n",
       " Timestamp('1976-05-25 00:00:00'),\n",
       " Timestamp('1976-06-01 00:00:00'),\n",
       " Timestamp('1976-06-01 00:00:00'),\n",
       " Timestamp('1976-06-01 00:00:00'),\n",
       " Timestamp('1976-06-01 00:00:00'),\n",
       " Timestamp('1976-06-01 00:00:00'),\n",
       " Timestamp('1976-06-01 00:00:00'),\n",
       " Timestamp('1976-06-08 00:00:00'),\n",
       " Timestamp('1976-06-08 00:00:00'),\n",
       " Timestamp('1976-06-08 00:00:00'),\n",
       " Timestamp('1976-06-08 00:00:00'),\n",
       " Timestamp('1976-06-08 00:00:00'),\n",
       " Timestamp('1976-06-15 00:00:00'),\n",
       " Timestamp('1976-06-22 00:00:00'),\n",
       " Timestamp('1976-06-29 00:00:00'),\n",
       " Timestamp('1976-06-29 00:00:00'),\n",
       " Timestamp('1976-06-29 00:00:00'),\n",
       " Timestamp('1976-06-29 00:00:00'),\n",
       " Timestamp('1976-06-29 00:00:00'),\n",
       " Timestamp('1976-06-29 00:00:00'),\n",
       " Timestamp('1976-07-06 00:00:00'),\n",
       " Timestamp('1976-07-06 00:00:00'),\n",
       " Timestamp('1976-07-13 00:00:00'),\n",
       " Timestamp('1976-07-13 00:00:00'),\n",
       " Timestamp('1976-07-13 00:00:00'),\n",
       " Timestamp('1976-07-13 00:00:00'),\n",
       " Timestamp('1976-07-13 00:00:00'),\n",
       " Timestamp('1976-07-20 00:00:00'),\n",
       " Timestamp('1976-07-20 00:00:00'),\n",
       " Timestamp('1976-07-20 00:00:00'),\n",
       " Timestamp('1976-07-20 00:00:00'),\n",
       " Timestamp('1976-07-27 00:00:00'),\n",
       " Timestamp('1976-07-27 00:00:00'),\n",
       " Timestamp('1976-08-03 00:00:00'),\n",
       " Timestamp('1976-08-03 00:00:00'),\n",
       " Timestamp('1976-08-03 00:00:00'),\n",
       " Timestamp('1976-08-10 00:00:00'),\n",
       " Timestamp('1976-08-10 00:00:00'),\n",
       " Timestamp('1976-08-10 00:00:00'),\n",
       " Timestamp('1976-08-10 00:00:00'),\n",
       " Timestamp('1976-08-17 00:00:00'),\n",
       " Timestamp('1976-08-17 00:00:00'),\n",
       " Timestamp('1976-08-24 00:00:00'),\n",
       " Timestamp('1976-08-24 00:00:00'),\n",
       " Timestamp('1976-08-24 00:00:00'),\n",
       " Timestamp('1976-08-24 00:00:00'),\n",
       " Timestamp('1976-08-24 00:00:00'),\n",
       " Timestamp('1976-08-24 00:00:00'),\n",
       " Timestamp('1976-08-31 00:00:00'),\n",
       " Timestamp('1976-08-31 00:00:00'),\n",
       " Timestamp('1976-08-31 00:00:00'),\n",
       " Timestamp('1976-08-31 00:00:00'),\n",
       " Timestamp('1976-08-31 00:00:00'),\n",
       " Timestamp('1976-08-31 00:00:00'),\n",
       " Timestamp('1976-09-07 00:00:00'),\n",
       " Timestamp('1976-09-07 00:00:00'),\n",
       " Timestamp('1976-09-07 00:00:00'),\n",
       " Timestamp('1976-09-07 00:00:00'),\n",
       " Timestamp('1976-09-14 00:00:00'),\n",
       " Timestamp('1976-09-14 00:00:00'),\n",
       " Timestamp('1976-09-21 00:00:00'),\n",
       " Timestamp('1976-09-21 00:00:00'),\n",
       " Timestamp('1976-09-28 00:00:00'),\n",
       " Timestamp('1976-09-28 00:00:00'),\n",
       " Timestamp('1976-09-28 00:00:00'),\n",
       " Timestamp('1976-09-28 00:00:00'),\n",
       " Timestamp('1976-09-28 00:00:00'),\n",
       " Timestamp('1976-10-05 00:00:00'),\n",
       " Timestamp('1976-10-12 00:00:00'),\n",
       " Timestamp('1976-10-12 00:00:00'),\n",
       " Timestamp('1976-10-12 00:00:00'),\n",
       " Timestamp('1976-10-19 00:00:00'),\n",
       " Timestamp('1976-10-19 00:00:00'),\n",
       " Timestamp('1976-10-26 00:00:00'),\n",
       " Timestamp('1976-10-26 00:00:00'),\n",
       " Timestamp('1976-11-02 00:00:00'),\n",
       " Timestamp('1976-11-02 00:00:00'),\n",
       " Timestamp('1976-11-02 00:00:00'),\n",
       " Timestamp('1976-11-09 00:00:00'),\n",
       " Timestamp('1976-11-09 00:00:00'),\n",
       " Timestamp('1976-11-16 00:00:00'),\n",
       " Timestamp('1976-11-16 00:00:00'),\n",
       " Timestamp('1976-11-16 00:00:00'),\n",
       " Timestamp('1976-11-23 00:00:00'),\n",
       " Timestamp('1976-11-23 00:00:00'),\n",
       " Timestamp('1976-11-23 00:00:00'),\n",
       " Timestamp('1976-11-30 00:00:00'),\n",
       " Timestamp('1976-12-07 00:00:00'),\n",
       " Timestamp('1976-12-07 00:00:00'),\n",
       " Timestamp('1976-12-07 00:00:00'),\n",
       " Timestamp('1976-12-14 00:00:00'),\n",
       " Timestamp('1976-12-14 00:00:00'),\n",
       " Timestamp('1976-12-14 00:00:00'),\n",
       " Timestamp('1976-12-14 00:00:00'),\n",
       " Timestamp('1976-12-21 00:00:00'),\n",
       " Timestamp('1976-12-21 00:00:00'),\n",
       " Timestamp('1976-12-28 00:00:00'),\n",
       " Timestamp('1976-12-28 00:00:00'),\n",
       " Timestamp('1976-12-28 00:00:00'),\n",
       " Timestamp('1976-12-28 00:00:00'),\n",
       " Timestamp('1977-01-11 00:00:00'),\n",
       " Timestamp('1977-01-11 00:00:00'),\n",
       " Timestamp('1977-01-11 00:00:00'),\n",
       " Timestamp('1977-01-18 00:00:00'),\n",
       " Timestamp('1977-01-18 00:00:00'),\n",
       " Timestamp('1977-01-18 00:00:00'),\n",
       " Timestamp('1977-01-18 00:00:00'),\n",
       " Timestamp('1977-01-25 00:00:00'),\n",
       " Timestamp('1977-02-01 00:00:00'),\n",
       " Timestamp('1977-02-01 00:00:00'),\n",
       " Timestamp('1977-02-08 00:00:00'),\n",
       " Timestamp('1977-02-08 00:00:00'),\n",
       " Timestamp('1977-02-08 00:00:00'),\n",
       " Timestamp('1977-02-08 00:00:00'),\n",
       " Timestamp('1977-02-15 00:00:00'),\n",
       " Timestamp('1977-02-15 00:00:00'),\n",
       " Timestamp('1977-02-15 00:00:00'),\n",
       " Timestamp('1977-02-22 00:00:00'),\n",
       " Timestamp('1977-02-22 00:00:00'),\n",
       " Timestamp('1977-02-22 00:00:00'),\n",
       " Timestamp('1977-02-22 00:00:00'),\n",
       " Timestamp('1977-02-22 00:00:00'),\n",
       " Timestamp('1977-03-01 00:00:00'),\n",
       " Timestamp('1977-03-08 00:00:00'),\n",
       " Timestamp('1977-03-08 00:00:00'),\n",
       " Timestamp('1977-03-08 00:00:00'),\n",
       " Timestamp('1977-03-08 00:00:00'),\n",
       " Timestamp('1977-03-08 00:00:00'),\n",
       " Timestamp('1977-03-08 00:00:00'),\n",
       " Timestamp('1977-03-15 00:00:00'),\n",
       " Timestamp('1977-03-15 00:00:00'),\n",
       " Timestamp('1977-03-15 00:00:00'),\n",
       " Timestamp('1977-03-15 00:00:00'),\n",
       " Timestamp('1977-03-15 00:00:00'),\n",
       " Timestamp('1977-03-22 00:00:00'),\n",
       " Timestamp('1977-03-29 00:00:00'),\n",
       " Timestamp('1977-03-29 00:00:00'),\n",
       " Timestamp('1977-03-29 00:00:00'),\n",
       " Timestamp('1977-03-29 00:00:00'),\n",
       " Timestamp('1977-04-05 00:00:00'),\n",
       " Timestamp('1977-04-05 00:00:00'),\n",
       " Timestamp('1977-04-05 00:00:00'),\n",
       " Timestamp('1977-04-05 00:00:00'),\n",
       " Timestamp('1977-04-05 00:00:00'),\n",
       " Timestamp('1977-04-19 00:00:00'),\n",
       " Timestamp('1977-05-03 00:00:00'),\n",
       " Timestamp('1977-05-03 00:00:00'),\n",
       " Timestamp('1977-05-03 00:00:00'),\n",
       " Timestamp('1977-05-03 00:00:00'),\n",
       " Timestamp('1977-05-10 00:00:00'),\n",
       " Timestamp('1977-05-10 00:00:00'),\n",
       " Timestamp('1977-05-17 00:00:00'),\n",
       " Timestamp('1977-05-17 00:00:00'),\n",
       " Timestamp('1977-05-17 00:00:00'),\n",
       " Timestamp('1977-05-17 00:00:00'),\n",
       " Timestamp('1977-05-31 00:00:00'),\n",
       " Timestamp('1977-06-07 00:00:00'),\n",
       " Timestamp('1977-06-07 00:00:00'),\n",
       " Timestamp('1977-06-07 00:00:00'),\n",
       " Timestamp('1977-06-07 00:00:00'),\n",
       " Timestamp('1977-06-14 00:00:00'),\n",
       " Timestamp('1977-06-14 00:00:00'),\n",
       " Timestamp('1977-06-14 00:00:00'),\n",
       " Timestamp('1977-06-14 00:00:00'),\n",
       " Timestamp('1977-06-21 00:00:00'),\n",
       " Timestamp('1977-06-21 00:00:00'),\n",
       " Timestamp('1977-06-21 00:00:00'),\n",
       " Timestamp('1977-06-28 00:00:00'),\n",
       " Timestamp('1977-06-28 00:00:00'),\n",
       " Timestamp('1977-07-05 00:00:00'),\n",
       " Timestamp('1977-07-05 00:00:00'),\n",
       " Timestamp('1977-07-05 00:00:00'),\n",
       " Timestamp('1977-07-05 00:00:00'),\n",
       " Timestamp('1977-07-12 00:00:00'),\n",
       " Timestamp('1977-07-12 00:00:00'),\n",
       " Timestamp('1977-07-12 00:00:00'),\n",
       " Timestamp('1977-07-12 00:00:00'),\n",
       " Timestamp('1977-07-12 00:00:00'),\n",
       " Timestamp('1977-07-19 00:00:00'),\n",
       " Timestamp('1977-07-19 00:00:00'),\n",
       " Timestamp('1977-07-19 00:00:00'),\n",
       " Timestamp('1977-07-26 00:00:00'),\n",
       " Timestamp('1977-07-26 00:00:00'),\n",
       " Timestamp('1977-08-02 00:00:00'),\n",
       " Timestamp('1977-08-02 00:00:00'),\n",
       " Timestamp('1977-08-02 00:00:00'),\n",
       " Timestamp('1977-08-02 00:00:00'),\n",
       " Timestamp('1977-08-09 00:00:00'),\n",
       " Timestamp('1977-08-09 00:00:00'),\n",
       " Timestamp('1977-08-16 00:00:00'),\n",
       " Timestamp('1977-08-16 00:00:00'),\n",
       " Timestamp('1977-08-16 00:00:00'),\n",
       " Timestamp('1977-08-16 00:00:00'),\n",
       " Timestamp('1977-08-16 00:00:00'),\n",
       " Timestamp('1977-08-16 00:00:00'),\n",
       " Timestamp('1977-08-23 00:00:00'),\n",
       " Timestamp('1977-08-23 00:00:00'),\n",
       " Timestamp('1977-08-23 00:00:00'),\n",
       " Timestamp('1977-08-23 00:00:00'),\n",
       " Timestamp('1977-08-30 00:00:00'),\n",
       " Timestamp('1977-09-06 00:00:00'),\n",
       " Timestamp('1977-09-06 00:00:00'),\n",
       " Timestamp('1977-09-06 00:00:00'),\n",
       " Timestamp('1977-09-06 00:00:00'),\n",
       " Timestamp('1977-09-13 00:00:00'),\n",
       " Timestamp('1977-09-20 00:00:00'),\n",
       " Timestamp('1977-09-20 00:00:00'),\n",
       " Timestamp('1977-09-20 00:00:00'),\n",
       " Timestamp('1977-09-20 00:00:00'),\n",
       " Timestamp('1977-09-20 00:00:00'),\n",
       " Timestamp('1977-09-20 00:00:00'),\n",
       " Timestamp('1977-09-27 00:00:00'),\n",
       " Timestamp('1977-09-27 00:00:00'),\n",
       " Timestamp('1977-10-04 00:00:00'),\n",
       " Timestamp('1977-10-04 00:00:00'),\n",
       " Timestamp('1977-10-04 00:00:00'),\n",
       " Timestamp('1977-10-11 00:00:00'),\n",
       " Timestamp('1977-10-11 00:00:00'),\n",
       " Timestamp('1977-10-11 00:00:00'),\n",
       " Timestamp('1977-10-11 00:00:00'),\n",
       " Timestamp('1977-10-11 00:00:00'),\n",
       " Timestamp('1977-10-25 00:00:00'),\n",
       " Timestamp('1977-10-25 00:00:00'),\n",
       " Timestamp('1977-11-01 00:00:00'),\n",
       " Timestamp('1977-11-01 00:00:00'),\n",
       " Timestamp('1977-11-01 00:00:00'),\n",
       " Timestamp('1977-11-01 00:00:00'),\n",
       " Timestamp('1977-11-08 00:00:00'),\n",
       " Timestamp('1977-11-08 00:00:00'),\n",
       " Timestamp('1977-11-15 00:00:00'),\n",
       " Timestamp('1977-11-22 00:00:00'),\n",
       " Timestamp('1977-11-22 00:00:00'),\n",
       " Timestamp('1977-11-22 00:00:00'),\n",
       " Timestamp('1977-11-22 00:00:00'),\n",
       " Timestamp('1977-11-22 00:00:00'),\n",
       " Timestamp('1977-11-29 00:00:00'),\n",
       " Timestamp('1977-11-29 00:00:00'),\n",
       " Timestamp('1977-12-06 00:00:00'),\n",
       " Timestamp('1977-12-06 00:00:00'),\n",
       " Timestamp('1977-12-06 00:00:00'),\n",
       " Timestamp('1977-12-13 00:00:00'),\n",
       " Timestamp('1977-12-13 00:00:00'),\n",
       " Timestamp('1977-12-13 00:00:00'),\n",
       " Timestamp('1977-12-13 00:00:00'),\n",
       " Timestamp('1977-12-20 00:00:00'),\n",
       " Timestamp('1977-12-20 00:00:00'),\n",
       " Timestamp('1977-12-20 00:00:00'),\n",
       " Timestamp('1977-12-27 00:00:00'),\n",
       " Timestamp('1977-12-27 00:00:00'),\n",
       " Timestamp('1977-12-27 00:00:00'),\n",
       " Timestamp('1977-12-27 00:00:00'),\n",
       " Timestamp('1978-01-03 00:00:00'),\n",
       " Timestamp('1978-01-03 00:00:00'),\n",
       " Timestamp('1978-01-03 00:00:00'),\n",
       " Timestamp('1978-01-10 00:00:00'),\n",
       " Timestamp('1978-01-17 00:00:00'),\n",
       " Timestamp('1978-01-17 00:00:00'),\n",
       " Timestamp('1978-01-17 00:00:00'),\n",
       " Timestamp('1978-01-17 00:00:00'),\n",
       " Timestamp('1978-01-17 00:00:00'),\n",
       " Timestamp('1978-01-24 00:00:00'),\n",
       " Timestamp('1978-01-24 00:00:00'),\n",
       " Timestamp('1978-01-24 00:00:00'),\n",
       " Timestamp('1978-01-31 00:00:00'),\n",
       " Timestamp('1978-01-31 00:00:00'),\n",
       " Timestamp('1978-02-07 00:00:00'),\n",
       " Timestamp('1978-02-07 00:00:00'),\n",
       " Timestamp('1978-02-07 00:00:00'),\n",
       " Timestamp('1978-02-21 00:00:00'),\n",
       " Timestamp('1978-02-21 00:00:00'),\n",
       " Timestamp('1978-02-21 00:00:00'),\n",
       " Timestamp('1978-02-21 00:00:00'),\n",
       " Timestamp('1978-02-21 00:00:00'),\n",
       " Timestamp('1978-02-21 00:00:00'),\n",
       " Timestamp('1978-02-21 00:00:00'),\n",
       " Timestamp('1978-02-21 00:00:00'),\n",
       " Timestamp('1978-02-28 00:00:00'),\n",
       " Timestamp('1978-02-28 00:00:00'),\n",
       " Timestamp('1978-02-28 00:00:00'),\n",
       " Timestamp('1978-03-07 00:00:00'),\n",
       " Timestamp('1978-03-07 00:00:00'),\n",
       " Timestamp('1978-03-07 00:00:00'),\n",
       " Timestamp('1978-03-07 00:00:00'),\n",
       " Timestamp('1978-03-14 00:00:00'),\n",
       " Timestamp('1978-03-14 00:00:00'),\n",
       " Timestamp('1978-03-14 00:00:00'),\n",
       " Timestamp('1978-03-21 00:00:00'),\n",
       " Timestamp('1978-03-21 00:00:00'),\n",
       " Timestamp('1978-03-21 00:00:00'),\n",
       " Timestamp('1978-03-21 00:00:00'),\n",
       " Timestamp('1978-03-21 00:00:00'),\n",
       " Timestamp('1978-03-21 00:00:00'),\n",
       " Timestamp('1978-03-21 00:00:00'),\n",
       " Timestamp('1978-03-21 00:00:00'),\n",
       " Timestamp('1978-03-21 00:00:00'),\n",
       " Timestamp('1978-03-28 00:00:00'),\n",
       " Timestamp('1978-03-28 00:00:00'),\n",
       " Timestamp('1978-04-04 00:00:00'),\n",
       " Timestamp('1978-04-04 00:00:00'),\n",
       " Timestamp('1978-04-04 00:00:00'),\n",
       " Timestamp('1978-04-04 00:00:00'),\n",
       " Timestamp('1978-04-04 00:00:00'),\n",
       " Timestamp('1978-04-04 00:00:00'),\n",
       " Timestamp('1978-04-11 00:00:00'),\n",
       " Timestamp('1978-04-11 00:00:00'),\n",
       " Timestamp('1978-04-18 00:00:00'),\n",
       " Timestamp('1978-04-25 00:00:00'),\n",
       " Timestamp('1978-05-02 00:00:00'),\n",
       " Timestamp('1978-05-09 00:00:00'),\n",
       " Timestamp('1978-05-09 00:00:00'),\n",
       " Timestamp('1978-05-09 00:00:00'),\n",
       " Timestamp('1978-05-16 00:00:00'),\n",
       " Timestamp('1978-05-16 00:00:00'),\n",
       " Timestamp('1978-05-16 00:00:00'),\n",
       " Timestamp('1978-05-16 00:00:00'),\n",
       " Timestamp('1978-05-16 00:00:00'),\n",
       " Timestamp('1978-05-16 00:00:00'),\n",
       " Timestamp('1978-05-23 00:00:00'),\n",
       " Timestamp('1978-05-23 00:00:00'),\n",
       " Timestamp('1978-05-23 00:00:00'),\n",
       " Timestamp('1978-05-23 00:00:00'),\n",
       " Timestamp('1978-05-23 00:00:00'),\n",
       " Timestamp('1978-05-30 00:00:00'),\n",
       " Timestamp('1978-05-30 00:00:00'),\n",
       " Timestamp('1978-06-06 00:00:00'),\n",
       " Timestamp('1978-06-06 00:00:00'),\n",
       " Timestamp('1978-06-06 00:00:00'),\n",
       " Timestamp('1978-06-06 00:00:00'),\n",
       " Timestamp('1978-06-06 00:00:00'),\n",
       " Timestamp('1978-06-06 00:00:00'),\n",
       " Timestamp('1978-06-13 00:00:00'),\n",
       " Timestamp('1978-06-13 00:00:00'),\n",
       " Timestamp('1978-06-20 00:00:00'),\n",
       " Timestamp('1978-06-20 00:00:00'),\n",
       " Timestamp('1978-06-20 00:00:00'),\n",
       " Timestamp('1978-06-27 00:00:00'),\n",
       " Timestamp('1978-06-27 00:00:00'),\n",
       " Timestamp('1978-05-27 00:00:00'),\n",
       " Timestamp('1978-06-27 00:00:00'),\n",
       " Timestamp('1978-07-04 00:00:00'),\n",
       " Timestamp('1978-07-04 00:00:00'),\n",
       " Timestamp('1978-07-04 00:00:00'),\n",
       " Timestamp('1978-07-04 00:00:00'),\n",
       " Timestamp('1978-07-11 00:00:00'),\n",
       " Timestamp('1978-07-11 00:00:00'),\n",
       " Timestamp('1978-07-11 00:00:00'),\n",
       " Timestamp('1978-07-11 00:00:00'),\n",
       " Timestamp('1978-07-18 00:00:00'),\n",
       " Timestamp('1978-07-25 00:00:00'),\n",
       " Timestamp('1978-07-25 00:00:00'),\n",
       " Timestamp('1978-08-01 00:00:00'),\n",
       " Timestamp('1978-08-01 00:00:00'),\n",
       " Timestamp('1978-08-08 00:00:00'),\n",
       " Timestamp('1978-08-08 00:00:00'),\n",
       " Timestamp('1978-08-15 00:00:00'),\n",
       " Timestamp('1978-08-22 00:00:00'),\n",
       " Timestamp('1978-08-22 00:00:00'),\n",
       " Timestamp('1978-08-22 00:00:00'),\n",
       " Timestamp('1978-08-22 00:00:00'),\n",
       " Timestamp('1978-08-22 00:00:00'),\n",
       " Timestamp('1978-08-29 00:00:00'),\n",
       " Timestamp('1978-08-29 00:00:00'),\n",
       " Timestamp('1978-08-29 00:00:00'),\n",
       " Timestamp('1978-08-29 00:00:00'),\n",
       " Timestamp('1978-08-29 00:00:00'),\n",
       " Timestamp('1978-09-05 00:00:00'),\n",
       " Timestamp('1978-09-05 00:00:00'),\n",
       " Timestamp('1978-09-12 00:00:00'),\n",
       " Timestamp('1978-09-12 00:00:00'),\n",
       " Timestamp('1978-09-12 00:00:00'),\n",
       " Timestamp('1978-09-12 00:00:00'),\n",
       " Timestamp('1978-09-12 00:00:00'),\n",
       " Timestamp('1978-09-12 00:00:00'),\n",
       " Timestamp('1978-09-12 00:00:00'),\n",
       " Timestamp('1978-09-19 00:00:00'),\n",
       " Timestamp('1978-09-26 00:00:00'),\n",
       " Timestamp('1978-09-26 00:00:00'),\n",
       " Timestamp('1978-09-26 00:00:00'),\n",
       " Timestamp('1978-09-26 00:00:00'),\n",
       " Timestamp('1978-10-03 00:00:00'),\n",
       " Timestamp('1978-10-03 00:00:00'),\n",
       " Timestamp('1978-10-03 00:00:00'),\n",
       " Timestamp('1978-10-10 00:00:00'),\n",
       " Timestamp('1978-10-10 00:00:00'),\n",
       " Timestamp('1978-10-10 00:00:00'),\n",
       " Timestamp('1978-10-10 00:00:00'),\n",
       " Timestamp('1978-10-17 00:00:00'),\n",
       " Timestamp('1978-10-24 00:00:00'),\n",
       " Timestamp('1978-10-24 00:00:00'),\n",
       " Timestamp('1978-10-24 00:00:00'),\n",
       " Timestamp('1978-10-24 00:00:00'),\n",
       " Timestamp('1978-10-24 00:00:00'),\n",
       " Timestamp('1978-10-24 00:00:00'),\n",
       " Timestamp('1978-10-31 00:00:00'),\n",
       " Timestamp('1978-10-31 00:00:00'),\n",
       " Timestamp('1978-10-31 00:00:00'),\n",
       " Timestamp('1978-10-31 00:00:00'),\n",
       " Timestamp('1978-11-07 00:00:00'),\n",
       " Timestamp('1978-11-07 00:00:00'),\n",
       " Timestamp('1978-11-21 00:00:00'),\n",
       " Timestamp('1978-11-21 00:00:00'),\n",
       " Timestamp('1978-11-21 00:00:00'),\n",
       " Timestamp('1978-11-21 00:00:00'),\n",
       " Timestamp('1978-11-21 00:00:00'),\n",
       " Timestamp('1978-11-21 00:00:00'),\n",
       " Timestamp('1978-11-21 00:00:00'),\n",
       " Timestamp('1978-11-21 00:00:00'),\n",
       " Timestamp('1978-11-28 00:00:00'),\n",
       " Timestamp('1978-11-28 00:00:00'),\n",
       " Timestamp('1978-11-28 00:00:00'),\n",
       " Timestamp('1978-12-05 00:00:00'),\n",
       " Timestamp('1978-12-05 00:00:00'),\n",
       " Timestamp('1978-12-05 00:00:00'),\n",
       " Timestamp('1978-12-05 00:00:00'),\n",
       " Timestamp('1978-12-05 00:00:00'),\n",
       " Timestamp('1978-12-12 00:00:00'),\n",
       " Timestamp('1978-12-12 00:00:00'),\n",
       " Timestamp('1978-12-12 00:00:00'),\n",
       " Timestamp('1978-12-19 00:00:00'),\n",
       " Timestamp('1978-12-19 00:00:00'),\n",
       " Timestamp('1978-12-26 00:00:00'),\n",
       " Timestamp('1978-12-26 00:00:00'),\n",
       " Timestamp('1978-12-26 00:00:00'),\n",
       " Timestamp('1978-12-26 00:00:00'),\n",
       " Timestamp('1978-12-26 00:00:00'),\n",
       " Timestamp('1979-01-02 00:00:00'),\n",
       " Timestamp('1979-01-02 00:00:00'),\n",
       " Timestamp('1979-01-09 00:00:00'),\n",
       " Timestamp('1979-01-09 00:00:00'),\n",
       " Timestamp('1979-01-09 00:00:00'),\n",
       " Timestamp('1979-01-16 00:00:00'),\n",
       " Timestamp('1979-01-23 00:00:00'),\n",
       " Timestamp('1979-01-23 00:00:00'),\n",
       " Timestamp('1979-01-23 00:00:00'),\n",
       " Timestamp('1979-01-23 00:00:00'),\n",
       " Timestamp('1979-01-30 00:00:00'),\n",
       " Timestamp('1979-01-30 00:00:00'),\n",
       " Timestamp('1979-02-06 00:00:00'),\n",
       " Timestamp('1979-02-06 00:00:00'),\n",
       " Timestamp('1979-02-13 00:00:00'),\n",
       " Timestamp('1979-02-13 00:00:00'),\n",
       " Timestamp('1979-02-13 00:00:00'),\n",
       " Timestamp('1979-02-20 00:00:00'),\n",
       " Timestamp('1979-02-20 00:00:00'),\n",
       " Timestamp('1979-02-20 00:00:00'),\n",
       " Timestamp('1979-02-20 00:00:00'),\n",
       " Timestamp('1979-02-27 00:00:00'),\n",
       " Timestamp('1979-02-27 00:00:00'),\n",
       " Timestamp('1979-02-27 00:00:00'),\n",
       " Timestamp('1979-02-27 00:00:00'),\n",
       " Timestamp('1979-02-27 00:00:00'),\n",
       " Timestamp('1979-03-06 00:00:00'),\n",
       " Timestamp('1979-03-06 00:00:00'),\n",
       " Timestamp('1979-03-06 00:00:00'),\n",
       " Timestamp('1979-03-13 00:00:00'),\n",
       " Timestamp('1979-03-13 00:00:00'),\n",
       " Timestamp('1979-03-20 00:00:00'),\n",
       " Timestamp('1979-03-20 00:00:00'),\n",
       " Timestamp('1979-03-27 00:00:00'),\n",
       " Timestamp('1979-03-27 00:00:00'),\n",
       " Timestamp('1979-04-03 00:00:00'),\n",
       " Timestamp('1979-04-03 00:00:00'),\n",
       " Timestamp('1979-04-03 00:00:00'),\n",
       " Timestamp('1979-04-03 00:00:00'),\n",
       " Timestamp('1979-04-10 00:00:00'),\n",
       " Timestamp('1979-04-10 00:00:00'),\n",
       " Timestamp('1979-04-10 00:00:00'),\n",
       " Timestamp('1979-04-17 00:00:00'),\n",
       " Timestamp('1979-04-17 00:00:00'),\n",
       " Timestamp('1979-04-17 00:00:00'),\n",
       " Timestamp('1979-04-24 00:00:00'),\n",
       " Timestamp('1979-04-24 00:00:00'),\n",
       " Timestamp('1979-05-01 00:00:00'),\n",
       " Timestamp('1979-05-01 00:00:00'),\n",
       " Timestamp('1979-05-01 00:00:00'),\n",
       " Timestamp('1979-05-01 00:00:00'),\n",
       " Timestamp('1979-05-08 00:00:00'),\n",
       " Timestamp('1979-05-15 00:00:00'),\n",
       " Timestamp('1979-05-15 00:00:00'),\n",
       " Timestamp('1979-05-22 00:00:00'),\n",
       " Timestamp('1979-05-29 00:00:00'),\n",
       " Timestamp('1979-05-29 00:00:00'),\n",
       " Timestamp('1979-06-05 00:00:00'),\n",
       " Timestamp('1979-06-05 00:00:00'),\n",
       " Timestamp('1979-06-05 00:00:00'),\n",
       " Timestamp('1979-06-12 00:00:00'),\n",
       " Timestamp('1979-06-19 00:00:00'),\n",
       " Timestamp('1979-06-19 00:00:00'),\n",
       " Timestamp('1979-06-26 00:00:00'),\n",
       " Timestamp('1979-07-03 00:00:00'),\n",
       " Timestamp('1979-07-10 00:00:00'),\n",
       " Timestamp('1979-07-10 00:00:00'),\n",
       " Timestamp('1979-07-17 00:00:00'),\n",
       " Timestamp('1979-07-17 00:00:00'),\n",
       " Timestamp('1979-07-17 00:00:00'),\n",
       " Timestamp('1979-07-17 00:00:00'),\n",
       " Timestamp('1979-07-24 00:00:00'),\n",
       " Timestamp('1979-07-24 00:00:00'),\n",
       " Timestamp('1979-07-24 00:00:00'),\n",
       " Timestamp('1979-07-24 00:00:00'),\n",
       " Timestamp('1979-07-24 00:00:00'),\n",
       " Timestamp('1979-07-31 00:00:00'),\n",
       " Timestamp('1979-08-07 00:00:00'),\n",
       " Timestamp('1979-08-07 00:00:00'),\n",
       " Timestamp('1979-08-14 00:00:00'),\n",
       " Timestamp('1979-08-14 00:00:00'),\n",
       " Timestamp('1979-08-14 00:00:00'),\n",
       " Timestamp('1979-08-14 00:00:00'),\n",
       " Timestamp('1979-08-14 00:00:00'),\n",
       " Timestamp('1979-08-28 00:00:00'),\n",
       " Timestamp('1979-08-28 00:00:00'),\n",
       " Timestamp('1979-08-28 00:00:00'),\n",
       " Timestamp('1979-08-28 00:00:00'),\n",
       " Timestamp('1979-09-04 00:00:00'),\n",
       " Timestamp('1979-09-04 00:00:00'),\n",
       " Timestamp('1979-09-11 00:00:00'),\n",
       " Timestamp('1979-09-11 00:00:00'),\n",
       " Timestamp('1979-09-11 00:00:00'),\n",
       " Timestamp('1979-09-18 00:00:00'),\n",
       " Timestamp('1979-09-18 00:00:00'),\n",
       " Timestamp('1979-09-18 00:00:00'),\n",
       " Timestamp('1979-09-25 00:00:00'),\n",
       " Timestamp('1979-09-25 00:00:00'),\n",
       " Timestamp('1979-10-02 00:00:00'),\n",
       " Timestamp('1979-10-02 00:00:00'),\n",
       " Timestamp('1979-10-02 00:00:00'),\n",
       " Timestamp('1979-10-02 00:00:00'),\n",
       " Timestamp('1979-10-02 00:00:00'),\n",
       " Timestamp('1979-10-02 00:00:00'),\n",
       " Timestamp('1979-10-02 00:00:00'),\n",
       " Timestamp('1979-10-09 00:00:00'),\n",
       " Timestamp('1979-10-09 00:00:00'),\n",
       " Timestamp('1979-10-09 00:00:00'),\n",
       " Timestamp('1979-10-09 00:00:00'),\n",
       " Timestamp('1979-10-16 00:00:00'),\n",
       " Timestamp('1979-10-23 00:00:00'),\n",
       " Timestamp('1979-10-30 00:00:00'),\n",
       " Timestamp('1979-10-30 00:00:00'),\n",
       " Timestamp('1979-11-06 00:00:00'),\n",
       " Timestamp('1979-11-06 00:00:00'),\n",
       " Timestamp('1979-11-06 00:00:00'),\n",
       " Timestamp('1979-11-20 00:00:00'),\n",
       " Timestamp('1979-11-20 00:00:00'),\n",
       " Timestamp('1979-11-27 00:00:00'),\n",
       " Timestamp('1979-11-27 00:00:00'),\n",
       " Timestamp('1979-11-27 00:00:00'),\n",
       " Timestamp('1979-11-27 00:00:00'),\n",
       " Timestamp('1979-12-04 00:00:00'),\n",
       " Timestamp('1979-12-04 00:00:00'),\n",
       " Timestamp('1979-12-04 00:00:00'),\n",
       " Timestamp('1979-12-04 00:00:00'),\n",
       " Timestamp('1979-12-11 00:00:00'),\n",
       " Timestamp('1979-12-18 00:00:00'),\n",
       " Timestamp('1979-12-18 00:00:00'),\n",
       " Timestamp('1979-12-18 00:00:00'),\n",
       " Timestamp('1979-12-18 00:00:00'),\n",
       " Timestamp('1979-12-18 00:00:00'),\n",
       " Timestamp('1979-12-25 00:00:00'),\n",
       " Timestamp('1979-12-25 00:00:00'),\n",
       " Timestamp('1980-01-01 00:00:00'),\n",
       " Timestamp('1980-01-08 00:00:00'),\n",
       " Timestamp('1980-01-15 00:00:00'),\n",
       " Timestamp('1980-01-15 00:00:00'),\n",
       " Timestamp('1980-01-22 00:00:00'),\n",
       " Timestamp('1980-01-29 00:00:00'),\n",
       " Timestamp('1970-01-29 00:00:00'),\n",
       " Timestamp('1980-01-29 00:00:00'),\n",
       " Timestamp('1980-02-05 00:00:00'),\n",
       " Timestamp('1980-02-12 00:00:00'),\n",
       " Timestamp('1980-02-12 00:00:00'),\n",
       " Timestamp('1980-02-12 00:00:00'),\n",
       " Timestamp('1980-02-19 00:00:00'),\n",
       " Timestamp('1980-02-19 00:00:00'),\n",
       " Timestamp('1980-02-26 00:00:00'),\n",
       " Timestamp('1980-02-26 00:00:00'),\n",
       " Timestamp('1980-03-04 00:00:00'),\n",
       " Timestamp('1980-03-04 00:00:00'),\n",
       " Timestamp('1980-03-04 00:00:00'),\n",
       " Timestamp('1980-03-04 00:00:00'),\n",
       " Timestamp('1980-03-11 00:00:00'),\n",
       " Timestamp('1980-03-11 00:00:00'),\n",
       " Timestamp('1980-03-11 00:00:00'),\n",
       " Timestamp('1980-03-11 00:00:00'),\n",
       " Timestamp('1980-03-18 00:00:00'),\n",
       " Timestamp('1980-03-25 00:00:00'),\n",
       " Timestamp('1980-03-25 00:00:00'),\n",
       " Timestamp('1980-03-25 00:00:00'),\n",
       " Timestamp('1980-03-25 00:00:00'),\n",
       " Timestamp('1980-03-25 00:00:00'),\n",
       " Timestamp('1980-03-25 00:00:00'),\n",
       " Timestamp('1980-04-01 00:00:00'),\n",
       " Timestamp('1980-04-01 00:00:00'),\n",
       " Timestamp('1980-04-01 00:00:00'),\n",
       " Timestamp('1980-04-01 00:00:00'),\n",
       " Timestamp('1980-04-08 00:00:00'),\n",
       " Timestamp('1980-04-15 00:00:00'),\n",
       " Timestamp('1980-04-15 00:00:00'),\n",
       " Timestamp('1980-04-15 00:00:00'),\n",
       " Timestamp('1980-04-15 00:00:00'),\n",
       " Timestamp('1980-04-22 00:00:00'),\n",
       " Timestamp('1980-04-22 00:00:00'),\n",
       " Timestamp('1980-04-29 00:00:00'),\n",
       " Timestamp('1980-04-29 00:00:00'),\n",
       " Timestamp('1980-05-06 00:00:00'),\n",
       " Timestamp('1980-05-06 00:00:00'),\n",
       " Timestamp('1980-05-06 00:00:00'),\n",
       " Timestamp('1980-05-13 00:00:00'),\n",
       " Timestamp('1980-05-13 00:00:00'),\n",
       " Timestamp('1980-05-13 00:00:00'),\n",
       " Timestamp('1980-05-13 00:00:00'),\n",
       " Timestamp('1980-05-13 00:00:00'),\n",
       " Timestamp('1980-05-20 00:00:00'),\n",
       " Timestamp('1980-05-20 00:00:00'),\n",
       " Timestamp('1980-05-20 00:00:00'),\n",
       " Timestamp('1980-05-27 00:00:00'),\n",
       " Timestamp('1980-05-27 00:00:00'),\n",
       " Timestamp('1980-05-27 00:00:00'),\n",
       " Timestamp('1980-06-03 00:00:00'),\n",
       " Timestamp('1980-06-03 00:00:00'),\n",
       " Timestamp('1980-06-03 00:00:00'),\n",
       " Timestamp('1980-06-10 00:00:00'),\n",
       " Timestamp('1980-06-10 00:00:00'),\n",
       " Timestamp('1980-06-17 00:00:00'),\n",
       " Timestamp('1980-06-17 00:00:00'),\n",
       " Timestamp('1980-06-17 00:00:00'),\n",
       " Timestamp('1980-06-24 00:00:00'),\n",
       " Timestamp('1980-07-01 00:00:00'),\n",
       " Timestamp('1980-07-08 00:00:00'),\n",
       " Timestamp('1980-07-08 00:00:00'),\n",
       " Timestamp('1980-07-15 00:00:00'),\n",
       " Timestamp('1980-07-15 00:00:00'),\n",
       " Timestamp('1980-07-15 00:00:00'),\n",
       " Timestamp('1980-07-15 00:00:00'),\n",
       " Timestamp('1980-07-22 00:00:00'),\n",
       " Timestamp('1980-07-22 00:00:00'),\n",
       " Timestamp('1980-07-29 00:00:00'),\n",
       " Timestamp('1980-07-29 00:00:00'),\n",
       " Timestamp('1980-07-29 00:00:00'),\n",
       " Timestamp('1980-08-05 00:00:00'),\n",
       " Timestamp('1980-08-05 00:00:00'),\n",
       " Timestamp('1980-08-05 00:00:00'),\n",
       " Timestamp('1980-08-05 00:00:00'),\n",
       " Timestamp('1980-08-12 00:00:00'),\n",
       " Timestamp('1980-08-12 00:00:00'),\n",
       " Timestamp('1980-08-12 00:00:00'),\n",
       " Timestamp('1980-08-19 00:00:00'),\n",
       " Timestamp('1980-08-19 00:00:00'),\n",
       " Timestamp('1980-08-19 00:00:00'),\n",
       " Timestamp('1980-08-26 00:00:00'),\n",
       " Timestamp('1980-09-02 00:00:00'),\n",
       " Timestamp('1980-09-09 00:00:00'),\n",
       " Timestamp('1980-09-09 00:00:00'),\n",
       " Timestamp('1980-09-09 00:00:00'),\n",
       " Timestamp('1980-09-16 00:00:00'),\n",
       " Timestamp('1980-09-16 00:00:00'),\n",
       " Timestamp('1980-09-16 00:00:00'),\n",
       " Timestamp('1980-09-23 00:00:00'),\n",
       " Timestamp('1980-09-23 00:00:00'),\n",
       " Timestamp('1980-09-30 00:00:00'),\n",
       " Timestamp('1980-09-30 00:00:00'),\n",
       " Timestamp('1980-09-30 00:00:00'),\n",
       " Timestamp('1980-09-30 00:00:00'),\n",
       " Timestamp('1980-09-30 00:00:00'),\n",
       " Timestamp('1980-10-07 00:00:00'),\n",
       " Timestamp('1980-10-07 00:00:00'),\n",
       " Timestamp('1980-10-07 00:00:00'),\n",
       " Timestamp('1980-10-07 00:00:00'),\n",
       " Timestamp('1980-10-14 00:00:00'),\n",
       " Timestamp('1980-10-14 00:00:00'),\n",
       " Timestamp('1980-10-14 00:00:00'),\n",
       " Timestamp('1980-10-14 00:00:00'),\n",
       " Timestamp('1980-10-21 00:00:00'),\n",
       " Timestamp('1980-10-21 00:00:00'),\n",
       " Timestamp('1980-10-21 00:00:00'),\n",
       " Timestamp('1980-10-21 00:00:00'),\n",
       " Timestamp('1980-10-28 00:00:00'),\n",
       " Timestamp('1980-10-28 00:00:00'),\n",
       " Timestamp('1980-11-04 00:00:00'),\n",
       " Timestamp('1980-11-04 00:00:00'),\n",
       " Timestamp('1980-11-04 00:00:00'),\n",
       " Timestamp('1980-11-04 00:00:00'),\n",
       " Timestamp('1980-11-04 00:00:00'),\n",
       " Timestamp('1980-11-04 00:00:00'),\n",
       " Timestamp('1980-11-04 00:00:00'),\n",
       " Timestamp('1980-11-11 00:00:00'),\n",
       " Timestamp('1980-11-11 00:00:00'),\n",
       " Timestamp('1980-11-11 00:00:00'),\n",
       " Timestamp('1980-11-11 00:00:00'),\n",
       " Timestamp('1980-11-11 00:00:00'),\n",
       " Timestamp('1980-11-18 00:00:00'),\n",
       " Timestamp('1980-11-18 00:00:00'),\n",
       " Timestamp('1980-11-18 00:00:00'),\n",
       " Timestamp('1980-11-18 00:00:00'),\n",
       " Timestamp('1980-11-25 00:00:00'),\n",
       " Timestamp('1980-11-25 00:00:00'),\n",
       " Timestamp('1980-11-25 00:00:00'),\n",
       " Timestamp('1980-11-25 00:00:00'),\n",
       " Timestamp('1980-12-02 00:00:00'),\n",
       " Timestamp('1980-12-02 00:00:00'),\n",
       " Timestamp('1980-12-02 00:00:00'),\n",
       " Timestamp('1980-12-02 00:00:00'),\n",
       " Timestamp('1980-12-02 00:00:00'),\n",
       " Timestamp('1980-12-02 00:00:00'),\n",
       " Timestamp('1980-12-02 00:00:00'),\n",
       " Timestamp('1980-12-09 00:00:00'),\n",
       " Timestamp('1980-12-09 00:00:00'),\n",
       " Timestamp('1980-12-09 00:00:00'),\n",
       " Timestamp('1980-12-09 00:00:00'),\n",
       " Timestamp('1980-12-16 00:00:00'),\n",
       " Timestamp('1980-12-16 00:00:00'),\n",
       " Timestamp('1980-12-16 00:00:00'),\n",
       " Timestamp('1980-12-23 00:00:00'),\n",
       " Timestamp('1980-12-23 00:00:00'),\n",
       " Timestamp('1980-12-23 00:00:00'),\n",
       " Timestamp('1980-12-23 00:00:00'),\n",
       " Timestamp('1980-12-30 00:00:00'),\n",
       " Timestamp('1980-12-30 00:00:00'),\n",
       " Timestamp('1980-12-30 00:00:00'),\n",
       " Timestamp('1980-12-30 00:00:00'),\n",
       " Timestamp('1980-12-30 00:00:00'),\n",
       " Timestamp('1980-12-30 00:00:00'),\n",
       " Timestamp('1981-01-06 00:00:00'),\n",
       " Timestamp('1981-01-06 00:00:00'),\n",
       " Timestamp('1981-01-13 00:00:00'),\n",
       " Timestamp('1981-01-13 00:00:00'),\n",
       " Timestamp('1981-01-13 00:00:00'),\n",
       " Timestamp('1981-01-13 00:00:00'),\n",
       " Timestamp('1981-01-13 00:00:00'),\n",
       " Timestamp('1981-01-20 00:00:00'),\n",
       " Timestamp('1981-01-20 00:00:00'),\n",
       " Timestamp('1981-01-20 00:00:00'),\n",
       " Timestamp('1981-01-20 00:00:00'),\n",
       " Timestamp('1981-01-27 00:00:00'),\n",
       " Timestamp('1981-01-27 00:00:00'),\n",
       " Timestamp('1981-02-03 00:00:00'),\n",
       " Timestamp('1981-02-03 00:00:00'),\n",
       " Timestamp('1981-02-10 00:00:00'),\n",
       " Timestamp('1981-02-10 00:00:00'),\n",
       " Timestamp('1981-02-10 00:00:00'),\n",
       " Timestamp('1981-02-10 00:00:00'),\n",
       " Timestamp('1981-02-10 00:00:00'),\n",
       " Timestamp('1981-02-10 00:00:00'),\n",
       " Timestamp('1981-02-10 00:00:00'),\n",
       " Timestamp('1981-02-17 00:00:00'),\n",
       " Timestamp('1981-02-17 00:00:00'),\n",
       " Timestamp('1981-02-17 00:00:00'),\n",
       " Timestamp('1981-02-17 00:00:00'),\n",
       " Timestamp('1981-02-24 00:00:00'),\n",
       " Timestamp('1981-03-03 00:00:00'),\n",
       " Timestamp('1981-03-03 00:00:00'),\n",
       " Timestamp('1981-03-03 00:00:00'),\n",
       " Timestamp('1981-03-03 00:00:00'),\n",
       " Timestamp('1981-03-03 00:00:00'),\n",
       " Timestamp('1981-03-03 00:00:00'),\n",
       " Timestamp('1981-03-03 00:00:00'),\n",
       " Timestamp('1981-03-10 00:00:00'),\n",
       " Timestamp('1981-03-10 00:00:00'),\n",
       " Timestamp('1981-03-10 00:00:00'),\n",
       " Timestamp('1981-03-10 00:00:00'),\n",
       " Timestamp('1981-03-10 00:00:00'),\n",
       " Timestamp('1981-03-17 00:00:00'),\n",
       " Timestamp('1981-03-17 00:00:00'),\n",
       " Timestamp('1981-03-17 00:00:00'),\n",
       " Timestamp('1981-03-24 00:00:00'),\n",
       " Timestamp('1981-03-31 00:00:00'),\n",
       " Timestamp('1981-04-07 00:00:00'),\n",
       " Timestamp('1981-04-07 00:00:00'),\n",
       " Timestamp('1981-04-07 00:00:00'),\n",
       " Timestamp('1981-04-14 00:00:00'),\n",
       " Timestamp('1981-04-14 00:00:00'),\n",
       " Timestamp('1981-04-14 00:00:00'),\n",
       " Timestamp('1981-04-14 00:00:00'),\n",
       " Timestamp('1981-04-14 00:00:00'),\n",
       " Timestamp('1981-04-14 00:00:00'),\n",
       " Timestamp('1981-04-14 00:00:00'),\n",
       " Timestamp('1981-04-21 00:00:00'),\n",
       " Timestamp('1981-04-21 00:00:00'),\n",
       " Timestamp('1981-04-21 00:00:00'),\n",
       " Timestamp('1981-04-21 00:00:00'),\n",
       " Timestamp('1981-04-21 00:00:00'),\n",
       " Timestamp('1981-04-28 00:00:00'),\n",
       " Timestamp('1981-04-28 00:00:00'),\n",
       " Timestamp('1981-04-28 00:00:00'),\n",
       " Timestamp('1981-04-28 00:00:00'),\n",
       " Timestamp('1981-04-28 00:00:00'),\n",
       " Timestamp('1981-05-05 00:00:00'),\n",
       " Timestamp('1981-05-05 00:00:00'),\n",
       " Timestamp('1981-05-05 00:00:00'),\n",
       " Timestamp('1981-05-12 00:00:00'),\n",
       " Timestamp('1981-05-12 00:00:00'),\n",
       " Timestamp('1981-05-12 00:00:00'),\n",
       " Timestamp('1981-05-19 00:00:00'),\n",
       " Timestamp('1981-05-19 00:00:00'),\n",
       " Timestamp('1981-05-19 00:00:00'),\n",
       " Timestamp('1981-05-19 00:00:00'),\n",
       " Timestamp('1981-05-19 00:00:00'),\n",
       " Timestamp('1981-05-26 00:00:00'),\n",
       " Timestamp('1981-05-26 00:00:00'),\n",
       " Timestamp('1981-05-26 00:00:00'),\n",
       " Timestamp('1981-05-26 00:00:00'),\n",
       " Timestamp('1981-06-02 00:00:00'),\n",
       " Timestamp('1981-06-09 00:00:00'),\n",
       " Timestamp('1981-06-23 00:00:00'),\n",
       " Timestamp('1981-06-23 00:00:00'),\n",
       " Timestamp('1981-06-23 00:00:00'),\n",
       " Timestamp('1981-06-23 00:00:00'),\n",
       " Timestamp('1981-06-30 00:00:00'),\n",
       " Timestamp('1981-07-14 00:00:00'),\n",
       " Timestamp('1981-07-14 00:00:00'),\n",
       " Timestamp('1981-07-21 00:00:00'),\n",
       " Timestamp('1981-07-21 00:00:00'),\n",
       " Timestamp('1981-07-21 00:00:00'),\n",
       " Timestamp('1981-07-21 00:00:00'),\n",
       " Timestamp('1981-07-21 00:00:00'),\n",
       " Timestamp('1981-07-28 00:00:00'),\n",
       " Timestamp('1981-08-04 00:00:00'),\n",
       " Timestamp('1981-08-11 00:00:00'),\n",
       " Timestamp('1981-08-11 00:00:00'),\n",
       " Timestamp('1981-08-18 00:00:00'),\n",
       " Timestamp('1981-08-18 00:00:00'),\n",
       " Timestamp('1981-08-18 00:00:00'),\n",
       " Timestamp('1981-08-18 00:00:00'),\n",
       " Timestamp('1981-08-18 00:00:00'),\n",
       " Timestamp('1981-08-25 00:00:00'),\n",
       " Timestamp('1981-08-25 00:00:00'),\n",
       " Timestamp('1981-08-25 00:00:00'),\n",
       " Timestamp('1981-08-25 00:00:00'),\n",
       " Timestamp('1981-09-01 00:00:00'),\n",
       " Timestamp('1981-09-01 00:00:00'),\n",
       " Timestamp('1981-09-01 00:00:00'),\n",
       " Timestamp('1981-09-01 00:00:00'),\n",
       " Timestamp('1981-09-08 00:00:00'),\n",
       " Timestamp('1981-09-08 00:00:00'),\n",
       " Timestamp('1981-09-08 00:00:00'),\n",
       " Timestamp('1981-09-08 00:00:00'),\n",
       " Timestamp('1981-09-08 00:00:00'),\n",
       " Timestamp('1981-09-15 00:00:00'),\n",
       " Timestamp('1981-09-15 00:00:00'),\n",
       " Timestamp('1981-09-22 00:00:00'),\n",
       " Timestamp('1981-09-22 00:00:00'),\n",
       " Timestamp('1981-09-22 00:00:00'),\n",
       " Timestamp('1981-09-29 00:00:00'),\n",
       " Timestamp('1981-09-29 00:00:00'),\n",
       " Timestamp('1981-09-29 00:00:00'),\n",
       " Timestamp('1981-10-06 00:00:00'),\n",
       " Timestamp('1981-10-13 00:00:00'),\n",
       " Timestamp('1981-10-13 00:00:00'),\n",
       " Timestamp('1981-10-20 00:00:00'),\n",
       " Timestamp('1981-10-20 00:00:00'),\n",
       " Timestamp('1981-10-20 00:00:00'),\n",
       " Timestamp('1981-10-20 00:00:00'),\n",
       " Timestamp('1981-10-20 00:00:00'),\n",
       " Timestamp('1981-10-20 00:00:00'),\n",
       " Timestamp('1981-10-27 00:00:00'),\n",
       " Timestamp('1981-10-27 00:00:00'),\n",
       " Timestamp('1981-10-27 00:00:00'),\n",
       " Timestamp('1981-10-27 00:00:00'),\n",
       " Timestamp('1981-11-03 00:00:00'),\n",
       " Timestamp('1981-11-03 00:00:00'),\n",
       " Timestamp('1981-11-10 00:00:00'),\n",
       " Timestamp('1981-11-10 00:00:00'),\n",
       " Timestamp('1981-11-10 00:00:00'),\n",
       " Timestamp('1981-11-10 00:00:00'),\n",
       " Timestamp('1981-11-17 00:00:00'),\n",
       " Timestamp('1981-11-17 00:00:00'),\n",
       " Timestamp('1981-11-24 00:00:00'),\n",
       " Timestamp('1981-11-24 00:00:00'),\n",
       " Timestamp('1981-12-01 00:00:00'),\n",
       " Timestamp('1981-12-08 00:00:00'),\n",
       " Timestamp('1981-12-15 00:00:00'),\n",
       " Timestamp('1981-12-15 00:00:00'),\n",
       " Timestamp('1981-12-15 00:00:00'),\n",
       " Timestamp('1981-12-15 00:00:00'),\n",
       " Timestamp('1981-12-15 00:00:00'),\n",
       " Timestamp('1981-12-22 00:00:00'),\n",
       " Timestamp('1981-12-22 00:00:00'),\n",
       " Timestamp('1981-12-22 00:00:00'),\n",
       " Timestamp('1982-01-05 00:00:00'),\n",
       " Timestamp('1982-01-05 00:00:00'),\n",
       " Timestamp('1982-01-05 00:00:00'),\n",
       " Timestamp('1982-01-12 00:00:00'),\n",
       " Timestamp('1982-01-12 00:00:00'),\n",
       " Timestamp('1982-01-12 00:00:00'),\n",
       " Timestamp('1982-01-19 00:00:00'),\n",
       " Timestamp('1982-01-19 00:00:00'),\n",
       " Timestamp('1982-01-19 00:00:00'),\n",
       " Timestamp('1982-01-19 00:00:00'),\n",
       " Timestamp('1982-01-26 00:00:00'),\n",
       " Timestamp('1982-01-26 00:00:00'),\n",
       " Timestamp('1982-01-26 00:00:00'),\n",
       " Timestamp('1982-01-26 00:00:00'),\n",
       " Timestamp('1982-02-02 00:00:00'),\n",
       " Timestamp('1982-02-02 00:00:00'),\n",
       " Timestamp('1982-02-09 00:00:00'),\n",
       " Timestamp('1982-02-16 00:00:00'),\n",
       " Timestamp('1982-02-23 00:00:00'),\n",
       " Timestamp('1982-02-23 00:00:00'),\n",
       " Timestamp('1982-02-23 00:00:00'),\n",
       " Timestamp('1982-02-23 00:00:00'),\n",
       " Timestamp('1982-03-09 00:00:00'),\n",
       " Timestamp('1982-03-09 00:00:00'),\n",
       " Timestamp('1982-03-16 00:00:00'),\n",
       " Timestamp('1982-03-16 00:00:00'),\n",
       " Timestamp('1982-03-16 00:00:00'),\n",
       " Timestamp('1982-03-16 00:00:00'),\n",
       " Timestamp('1982-03-16 00:00:00'),\n",
       " Timestamp('1982-03-23 00:00:00'),\n",
       " Timestamp('1982-03-30 00:00:00'),\n",
       " Timestamp('1982-03-30 00:00:00'),\n",
       " Timestamp('1982-03-30 00:00:00'),\n",
       " Timestamp('1982-04-06 00:00:00'),\n",
       " Timestamp('1982-04-13 00:00:00'),\n",
       " Timestamp('1982-04-13 00:00:00'),\n",
       " Timestamp('1982-04-20 00:00:00'),\n",
       " Timestamp('1982-04-20 00:00:00'),\n",
       " Timestamp('1982-04-20 00:00:00'),\n",
       " Timestamp('1982-04-20 00:00:00'),\n",
       " Timestamp('1982-04-27 00:00:00'),\n",
       " Timestamp('1982-04-27 00:00:00'),\n",
       " Timestamp('1982-05-04 00:00:00'),\n",
       " Timestamp('1982-05-11 00:00:00'),\n",
       " ...]"
      ]
     },
     "execution_count": 37,
     "metadata": {},
     "output_type": "execute_result"
    }
   ],
   "source": [
    "# Date is a string value in the dataframe. Turn 'Date' into timestamp and then into a list. \n",
    "\n",
    "tvalue  = pd.to_datetime(df_patents['date'])\n",
    "list (tvalue)\n"
   ]
  },
  {
   "cell_type": "code",
   "execution_count": 38,
   "metadata": {
    "collapsed": false
   },
   "outputs": [
    {
     "name": "stdout",
     "output_type": "stream",
     "text": [
      "10137\n"
     ]
    },
    {
     "data": {
      "image/png": "[encoded data removed]",
      "text/plain": [
       "<matplotlib.figure.Figure at 0x10b06f490>"
      ]
     },
     "metadata": {},
     "output_type": "display_data"
    }
   ],
   "source": [
    "plt.scatter(list(tvalue), num_rbs, marker = 'o', s =14, c = 'green')\n",
    "plt.xlabel(\"Year \")\n",
    "plt.ylabel(\"Number of Forward Citations\")\n",
    "\n",
    "print len(list(tvalue))"
   ]
  },
  {
   "cell_type": "code",
   "execution_count": 52,
   "metadata": {
    "collapsed": false
   },
   "outputs": [
    {
     "data": {
      "text/plain": [
       "<matplotlib.text.Text at 0x10d0b7550>"
      ]
     },
     "execution_count": 52,
     "metadata": {},
     "output_type": "execute_result"
    },
    {
     "data": {
      "image/png": "[encoded data removed]",
      "text/plain": [
       "<matplotlib.figure.Figure at 0x10d01d150>"
      ]
     },
     "metadata": {},
     "output_type": "display_data"
    }
   ],
   "source": [
    "plt.scatter(list(tvalue), num_pcs, marker = 'o', s =14, c = 'green')\n",
    "plt.xlabel(\"Year \")\n",
    "plt.ylabel(\"Number of (Back) Patent Citations\")\n"
   ]
  },
  {
   "cell_type": "code",
   "execution_count": 40,
   "metadata": {
    "collapsed": false
   },
   "outputs": [
    {
     "data": {
      "text/plain": [
       "<matplotlib.text.Text at 0x10c2363d0>"
      ]
     },
     "execution_count": 40,
     "metadata": {},
     "output_type": "execute_result"
    },
    {
     "data": {
      "image/png": "[encoded data removed]",
      "text/plain": [
       "<matplotlib.figure.Figure at 0x10b143350>"
      ]
     },
     "metadata": {},
     "output_type": "display_data"
    }
   ],
   "source": [
    "plt.scatter(list(tvalue), num_npcs, marker = 'o', s =14, c = 'green')\n",
    "plt.xlabel(\"Year \")\n",
    "plt.ylabel(\"Number of Non-Patent Citations\")\n"
   ]
  },
  {
   "cell_type": "code",
   "execution_count": 41,
   "metadata": {
    "collapsed": false
   },
   "outputs": [
    {
     "data": {
      "text/plain": [
       "<matplotlib.text.Text at 0x10b5c4310>"
      ]
     },
     "execution_count": 41,
     "metadata": {},
     "output_type": "execute_result"
    },
    {
     "data": {
      "image/png": "[encoded data removed]",
      "text/plain": [
       "<matplotlib.figure.Figure at 0x10a516490>"
      ]
     },
     "metadata": {},
     "output_type": "display_data"
    }
   ],
   "source": [
    "plt.scatter(list(tvalue), num_classes, marker = 'o', s =14, c = 'green')\n",
    "plt.xlabel(\"Year \")\n",
    "plt.ylabel(\"Number of Classifications\")\n"
   ]
  },
  {
   "cell_type": "code",
   "execution_count": 42,
   "metadata": {
    "collapsed": false
   },
   "outputs": [
    {
     "data": {
      "text/plain": [
       "<matplotlib.text.Text at 0x10b382e90>"
      ]
     },
     "execution_count": 42,
     "metadata": {},
     "output_type": "execute_result"
    },
    {
     "data": {
      "image/png": "[encoded data removed]",
      "text/plain": [
       "<matplotlib.figure.Figure at 0x10b371f50>"
      ]
     },
     "metadata": {},
     "output_type": "display_data"
    }
   ],
   "source": [
    "plt.scatter(list(tvalue), num_inventors, marker = 'o', s =14, c = 'green')\n",
    "plt.xlabel(\"Year \")\n",
    "plt.ylabel(\"Number of Inventors\")\n"
   ]
  },
  {
   "cell_type": "code",
   "execution_count": 43,
   "metadata": {
    "collapsed": false
   },
   "outputs": [
    {
     "data": {
      "text/plain": [
       "<matplotlib.text.Text at 0x10cb06910>"
      ]
     },
     "execution_count": 43,
     "metadata": {},
     "output_type": "execute_result"
    },
    {
     "data": {
      "image/png": "[encoded data removed]",
      "text/plain": [
       "<matplotlib.figure.Figure at 0x107788f10>"
      ]
     },
     "metadata": {},
     "output_type": "display_data"
    }
   ],
   "source": [
    "plt.scatter(list(tvalue), num_les, marker = 'o', s =14, c = 'green')\n",
    "plt.xlabel(\"Year \")\n",
    "plt.ylabel(\"Number of Forward Citations\")\n"
   ]
  },
  {
   "cell_type": "code",
   "execution_count": null,
   "metadata": {
    "collapsed": true
   },
   "outputs": [],
   "source": []
  },
  {
   "cell_type": "code",
   "execution_count": 51,
   "metadata": {
    "collapsed": false
   },
   "outputs": [
    {
     "name": "stdout",
     "output_type": "stream",
     "text": [
      "10137\n"
     ]
    },
    {
     "data": {
      "image/png": "[encoded data removed]",
      "text/plain": [
       "<matplotlib.figure.Figure at 0x10d01d550>"
      ]
     },
     "metadata": {},
     "output_type": "display_data"
    }
   ],
   "source": [
    "plt.scatter(list(tvalue), cum_rbs, marker = 'x', s =10, c = 'green')\n",
    "plt.xlabel(\"Year \")\n",
    "plt.ylabel(\"Cumulative No. of Forward Citations\")\n",
    "\n",
    "print len(list(tvalue))\n"
   ]
  },
  {
   "cell_type": "markdown",
   "metadata": {
    "collapsed": false
   },
   "source": [
    "### Calculate average citation rate per patent, ave_pcr. "
   ]
  },
  {
   "cell_type": "code",
   "execution_count": 59,
   "metadata": {
    "collapsed": false
   },
   "outputs": [],
   "source": [
    "# Average citation rate is the number of citations per day.  June 30, 2017 = 15147 days. \n",
    "\n",
    "df_patents['ave_pcr'] = df_patents['num_rb']/(15147 - df_patents['time_delta'])"
   ]
  },
  {
   "cell_type": "code",
   "execution_count": 86,
   "metadata": {
    "collapsed": false
   },
   "outputs": [
    {
     "name": "stdout",
     "output_type": "stream",
     "text": [
      "      patent_no                                       url  \\\n",
      "8137    7887584  https://www.google.com/patents/US7887584   \n",
      "8138    7887747  https://www.google.com/patents/US7887747   \n",
      "8139    7887975  https://www.google.com/patents/US7887975   \n",
      "8140    7888263  https://www.google.com/patents/US7888263   \n",
      "8141    7888742  https://www.google.com/patents/US7888742   \n",
      "8142    7892365  https://www.google.com/patents/US7892365   \n",
      "8143    7892366  https://www.google.com/patents/US7892366   \n",
      "8144    7892482  https://www.google.com/patents/US7892482   \n",
      "8145    7892650  https://www.google.com/patents/US7892650   \n",
      "8146    7892653  https://www.google.com/patents/US7892653   \n",
      "8147    7892678  https://www.google.com/patents/US7892678   \n",
      "8148    7894165  https://www.google.com/patents/US7894165   \n",
      "8149    7895836  https://www.google.com/patents/US7895836   \n",
      "8150    7896222  https://www.google.com/patents/US7896222   \n",
      "8151    7897132  https://www.google.com/patents/US7897132   \n",
      "8152    7897266  https://www.google.com/patents/US7897266   \n",
      "8153    7897452  https://www.google.com/patents/US7897452   \n",
      "8154    7901521  https://www.google.com/patents/US7901521   \n",
      "8155    7901522  https://www.google.com/patents/US7901522   \n",
      "8156    7901782  https://www.google.com/patents/US7901782   \n",
      "8157    7901835  https://www.google.com/patents/US7901835   \n",
      "8158    7905301  https://www.google.com/patents/US7905301   \n",
      "8159    7906420  https://www.google.com/patents/US7906420   \n",
      "8160    7907370  https://www.google.com/patents/US7907370   \n",
      "8161    7909945  https://www.google.com/patents/US7909945   \n",
      "8162    7909946  https://www.google.com/patents/US7909946   \n",
      "8163    7909948  https://www.google.com/patents/US7909948   \n",
      "8164    7909952  https://www.google.com/patents/US7909952   \n",
      "8165    7910003  https://www.google.com/patents/US7910003   \n",
      "8166    7910052  https://www.google.com/patents/US7910052   \n",
      "...         ...                                       ...   \n",
      "10107   9610656  https://www.google.com/patents/US9610656   \n",
      "10108   9611741  https://www.google.com/patents/US9611741   \n",
      "10109   9611937  https://www.google.com/patents/US9611937   \n",
      "10110   9613648  https://www.google.com/patents/US9613648   \n",
      "10111   9616495  https://www.google.com/patents/US9616495   \n",
      "10112   9616639  https://www.google.com/patents/US9616639   \n",
      "10113   9617623  https://www.google.com/patents/US9617623   \n",
      "10114   9617629  https://www.google.com/patents/US9617629   \n",
      "10115   9617856  https://www.google.com/patents/US9617856   \n",
      "10116   9620268  https://www.google.com/patents/US9620268   \n",
      "10117   9620269  https://www.google.com/patents/US9620269   \n",
      "10118   9622885  https://www.google.com/patents/US9622885   \n",
      "10119   9624562  https://www.google.com/patents/US9624562   \n",
      "10120   9624565  https://www.google.com/patents/US9624565   \n",
      "10121   9624566  https://www.google.com/patents/US9624566   \n",
      "10122   9624568  https://www.google.com/patents/US9624568   \n",
      "10123   9629873  https://www.google.com/patents/US9629873   \n",
      "10124   9630161  https://www.google.com/patents/US9630161   \n",
      "10125   9630251  https://www.google.com/patents/US9630251   \n",
      "10126   9630834  https://www.google.com/patents/US9630834   \n",
      "10127   9631157  https://www.google.com/patents/US9631157   \n",
      "10128   9631260  https://www.google.com/patents/US9631260   \n",
      "10129   9631261  https://www.google.com/patents/US9631261   \n",
      "10130   9631268  https://www.google.com/patents/US9631268   \n",
      "10131   9631878  https://www.google.com/patents/US9631878   \n",
      "10132   9631879  https://www.google.com/patents/US9631879   \n",
      "10133   9634123  https://www.google.com/patents/US9634123   \n",
      "10134   9634324  https://www.google.com/patents/US9634324   \n",
      "10135   9636784  https://www.google.com/patents/US9636784   \n",
      "10136   9637179  https://www.google.com/patents/US9637179   \n",
      "\n",
      "                                                   title issue_date  \\\n",
      "8137               Amorphous metal alloy medical devices    2/15/11   \n",
      "8138   High strength hard alloy and method of prepari...    2/15/11   \n",
      "8139   Clad copper wire having environmentally isolat...    2/15/11   \n",
      "8140   Cladded silver and silver alloy metallization ...    2/15/11   \n",
      "8141   Self-aligned metal-semiconductor alloy and met...    2/15/11   \n",
      "8142   Rare earth element-iron-boron alloy, and magne...    2/22/11   \n",
      "8143        Duplex stainless steel alloy and use thereof    2/22/11   \n",
      "8144   Material on the basis of an aluminum alloy, me...    2/22/11   \n",
      "8145   Magnesium alloy member, method for producing t...    2/22/11   \n",
      "8146   Titanium alloy composite material, titanium cl...    2/22/11   \n",
      "8147   Hydrogen absorbing alloy powder and nickel-met...    2/22/11   \n",
      "8148   CCP magnetoresistive effect device with Fe bar...    2/22/11   \n",
      "8149   Shape memory alloy actuator, apparatus for man...     3/1/11   \n",
      "8150   Manufacture of shape memory alloy cellular mat...     3/1/11   \n",
      "8151     Process for production of carbon alloy products     3/1/11   \n",
      "8152   Personal grooming device having a tarnish resi...     3/1/11   \n",
      "8153   Method of producing a semiconductor device wit...     3/1/11   \n",
      "8154                                 Aluminum base alloy     3/8/11   \n",
      "8155   Aluminum alloy with increased resistance and l...     3/8/11   \n",
      "8156   Solder alloy and glass bonded body using the same     3/8/11   \n",
      "8157                             Platinum alloy catalyst     3/8/11   \n",
      "8158   Earth boring drill bits made from a low-carbon...    3/15/11   \n",
      "8159   Method and apparatus for forming planar alloy ...    3/15/11   \n",
      "8160   Tunneling magnetic sensing element having free...    3/15/11   \n",
      "8161   Soft magnetic iron-cobalt-based alloy and meth...    3/22/11   \n",
      "8162                                        Copper alloy    3/22/11   \n",
      "8163   Alloy powder raw material and its manufacturin...    3/22/11   \n",
      "8164   Method for assembling main wing made of alumin...    3/22/11   \n",
      "8165   Polysulfone and poly(N-vinyl lactam) polymer a...    3/22/11   \n",
      "8166                         Near �_-type titanium alloy    3/22/11   \n",
      "...                                                  ...        ...   \n",
      "10107           Lead-free solder alloy for vehicle glass     4/4/17   \n",
      "10108  Braze alloy compositions and brazing methods f...     4/4/17   \n",
      "10109  Superelastic nickel-titanium alloy downhole se...     4/4/17   \n",
      "10110  Aluminum alloy plate for magnetic disc substra...     4/4/17   \n",
      "10111  Amorphous alloy and method for manufacturing t...    4/11/17   \n",
      "10112  Tin-plated copper-alloy material for terminal ...    4/11/17   \n",
      "10113  Aluminum alloy including iron-manganese comple...    4/11/17   \n",
      "10114        Copper-nickel-zinc alloy containing silicon    4/11/17   \n",
      "10115  Ni base forged alloy and gas turbine utilizing...    4/11/17   \n",
      "10116  R-T-B based alloy strip, and R-T-B based sinte...    4/11/17   \n",
      "10117  Method and equipment for processing NdFeB rare...    4/11/17   \n",
      "10118  Collapsible, shape memory alloy structures and...    4/18/17   \n",
      "10119  Al alloy film for display or semiconductor dev...    4/18/17   \n",
      "10120  Nanocrystal-containing titanium alloy and prod...    4/18/17   \n",
      "10121  Alpha and beta titanium alloy sheet excellent ...    4/18/17   \n",
      "10122  Thermal spray applications using iron based al...    4/18/17   \n",
      "10123  Bioresorbable metal alloy and implants made of...    4/25/17   \n",
      "10124  Metal alloy nanoparticle synthesis via self-as...    4/25/17   \n",
      "10125                                     Titanium alloy    4/25/17   \n",
      "10126  Wafer scale monolithic CMOS-integration of fre...    4/25/17   \n",
      "10127  Cu_��Ni_��Sn alloy overlay for bearing surface...    4/25/17   \n",
      "10128  Copper alloy sheets for electrical/electronic ...    4/25/17   \n",
      "10129  Low-cost alpha-beta titanium alloy with good b...    4/25/17   \n",
      "10130  Methods and systems for shape memory alloy str...    4/25/17   \n",
      "10131  Process for producing aluminum alloy tube havi...    4/25/17   \n",
      "10132  Aluminum alloy for extrusion and drawing proce...    4/25/17   \n",
      "10133  FinFET device including a dielectrically isola...    4/25/17   \n",
      "10134  Nickel-metal hydride battery and method for pr...    4/25/17   \n",
      "10135                           Mixed alloy solder paste     5/2/17   \n",
      "10136  Aluminum alloy vehicle structural component de...     5/2/17   \n",
      "\n",
      "            date  num_inventor  num_pc  num_npc  num_rb  num_class  num_le  \\\n",
      "8137   15-Feb-11             1      70       76      14         23       4   \n",
      "8138   15-Feb-11             3      13        8      31         15       5   \n",
      "8139   15-Feb-11             1       6        1       0         13       3   \n",
      "8140   15-Feb-11             2       7        6       0         18       3   \n",
      "8141   15-Feb-11             2       5        0       4         14       6   \n",
      "8142   22-Feb-11             2      15        0       4         29       3   \n",
      "8143   22-Feb-11             1      22        1       1         31       4   \n",
      "8144   22-Feb-11             3      13       14       0         21       5   \n",
      "8145   22-Feb-11             3      10        2       0         23       2   \n",
      "8146   22-Feb-11             2      23        2       0         25       2   \n",
      "8147   22-Feb-11             3       3        0       0         18       2   \n",
      "8148   22-Feb-11             3       8        9       1         18       2   \n",
      "8149    1-Mar-11             1       5        0       2         14       2   \n",
      "8150    1-Mar-11             2      18       11       4         23       2   \n",
      "8151    1-Mar-11             2      36       22       0         19       1   \n",
      "8152    1-Mar-11             5      33        1       3         26       8   \n",
      "8153    1-Mar-11             6       8        0       2         18       4   \n",
      "8154    8-Mar-11             3       5        0       0          6       5   \n",
      "8155    8-Mar-11             2      11        2       0         12       2   \n",
      "8156    8-Mar-11             3       9        2       0         12       4   \n",
      "8157    8-Mar-11             4      21        1       4         40       3   \n",
      "8158   15-Mar-11             5      24        5       0         13       3   \n",
      "8159   15-Mar-11             3       3        0       3         43       5   \n",
      "8160   15-Mar-11             6      16        0       0         28       2   \n",
      "8161   22-Mar-11             2     133       29       0         19       2   \n",
      "8162   22-Mar-11             1      22       20       4         18       4   \n",
      "8163   22-Mar-11             7      24        4       0         16       4   \n",
      "8164   22-Mar-11             1      10        0       5         18       4   \n",
      "8165   22-Mar-11             3      61       25       7         12       1   \n",
      "8166   22-Mar-11             1      26        1       0         13       2   \n",
      "...          ...           ...     ...      ...     ...        ...     ...   \n",
      "10107   4-Apr-17             3      31        5       0         11       1   \n",
      "10108   4-Apr-17             2       6        4       0         27       1   \n",
      "10109   4-Apr-17             2      12        2       0         24       1   \n",
      "10110   4-Apr-17             4      13        2       0         31       1   \n",
      "10111  11-Apr-17             3      17        3       0          6       1   \n",
      "10112  11-Apr-17             3      16        2       0         15       1   \n",
      "10113  11-Apr-17             2      14       16       0         14       1   \n",
      "10114  11-Apr-17             2      22        3       0         26       1   \n",
      "10115  11-Apr-17             5      10        2       0         13       2   \n",
      "10116  11-Apr-17             5      23       13       0         26       1   \n",
      "10117  11-Apr-17             1      10        1       0         30       0   \n",
      "10118  18-Apr-17             4      28        0       0         30       0   \n",
      "10119  18-Apr-17             2      53        2       0         20       0   \n",
      "10120  18-Apr-17             4       2        7       0          6       0   \n",
      "10121  18-Apr-17             2      10        3       0          6       0   \n",
      "10122  18-Apr-17             7      78       10       0         24       0   \n",
      "10123  25-Apr-17             5      26       14       0         15       1   \n",
      "10124  25-Apr-17             2       5       40       0         12       2   \n",
      "10125  25-Apr-17             2     208       19       0         14       1   \n",
      "10126  25-Apr-17             2      16        0       0          5       1   \n",
      "10127  25-Apr-17             2      21       14       0         34       2   \n",
      "10128  25-Apr-17             3      30       17       0         15       1   \n",
      "10129  25-Apr-17             1      28        6       0          5       2   \n",
      "10130  25-Apr-17             3      20        3       0         12       1   \n",
      "10131  25-Apr-17             1       9        1       0         32       1   \n",
      "10132  25-Apr-17             1      45        5       0          7       1   \n",
      "10133  25-Apr-17             1       4        0       0          6       1   \n",
      "10134  25-Apr-17             3      12        7       0         11       2   \n",
      "10135   2-May-17             2       6        2       0         81       0   \n",
      "10136   2-May-17             5      22        1       0         13       0   \n",
      "\n",
      "       cum_rb  timevalue  time_delta      times   ave_pcr  \n",
      "8137   156483 2011-02-15     12830.0 2011-02-15  0.006042  \n",
      "8138   156514 2011-02-15     12830.0 2011-02-15  0.013379  \n",
      "8139   156514 2011-02-15     12830.0 2011-02-15  0.000000  \n",
      "8140   156514 2011-02-15     12830.0 2011-02-15  0.000000  \n",
      "8141   156518 2011-02-15     12830.0 2011-02-15  0.001726  \n",
      "8142   156522 2011-02-22     12837.0 2011-02-22  0.001732  \n",
      "8143   156523 2011-02-22     12837.0 2011-02-22  0.000433  \n",
      "8144   156523 2011-02-22     12837.0 2011-02-22  0.000000  \n",
      "8145   156523 2011-02-22     12837.0 2011-02-22  0.000000  \n",
      "8146   156523 2011-02-22     12837.0 2011-02-22  0.000000  \n",
      "8147   156523 2011-02-22     12837.0 2011-02-22  0.000000  \n",
      "8148   156524 2011-02-22     12837.0 2011-02-22  0.000433  \n",
      "8149   156526 2011-03-01     12844.0 2011-03-01  0.000868  \n",
      "8150   156530 2011-03-01     12844.0 2011-03-01  0.001737  \n",
      "8151   156530 2011-03-01     12844.0 2011-03-01  0.000000  \n",
      "8152   156533 2011-03-01     12844.0 2011-03-01  0.001303  \n",
      "8153   156535 2011-03-01     12844.0 2011-03-01  0.000868  \n",
      "8154   156535 2011-03-08     12851.0 2011-03-08  0.000000  \n",
      "8155   156535 2011-03-08     12851.0 2011-03-08  0.000000  \n",
      "8156   156535 2011-03-08     12851.0 2011-03-08  0.000000  \n",
      "8157   156539 2011-03-08     12851.0 2011-03-08  0.001742  \n",
      "8158   156539 2011-03-15     12858.0 2011-03-15  0.000000  \n",
      "8159   156542 2011-03-15     12858.0 2011-03-15  0.001311  \n",
      "8160   156542 2011-03-15     12858.0 2011-03-15  0.000000  \n",
      "8161   156542 2011-03-22     12865.0 2011-03-22  0.000000  \n",
      "8162   156546 2011-03-22     12865.0 2011-03-22  0.001753  \n",
      "8163   156546 2011-03-22     12865.0 2011-03-22  0.000000  \n",
      "8164   156551 2011-03-22     12865.0 2011-03-22  0.002191  \n",
      "8165   156558 2011-03-22     12865.0 2011-03-22  0.003067  \n",
      "8166   156558 2011-03-22     12865.0 2011-03-22  0.000000  \n",
      "...       ...        ...         ...        ...       ...  \n",
      "10107  158614 2017-04-04     15070.0 2017-04-04  0.000000  \n",
      "10108  158614 2017-04-04     15070.0 2017-04-04  0.000000  \n",
      "10109  158614 2017-04-04     15070.0 2017-04-04  0.000000  \n",
      "10110  158614 2017-04-04     15070.0 2017-04-04  0.000000  \n",
      "10111  158614 2017-04-11     15077.0 2017-04-11  0.000000  \n",
      "10112  158614 2017-04-11     15077.0 2017-04-11  0.000000  \n",
      "10113  158614 2017-04-11     15077.0 2017-04-11  0.000000  \n",
      "10114  158614 2017-04-11     15077.0 2017-04-11  0.000000  \n",
      "10115  158614 2017-04-11     15077.0 2017-04-11  0.000000  \n",
      "10116  158614 2017-04-11     15077.0 2017-04-11  0.000000  \n",
      "10117  158614 2017-04-11     15077.0 2017-04-11  0.000000  \n",
      "10118  158614 2017-04-18     15084.0 2017-04-18  0.000000  \n",
      "10119  158614 2017-04-18     15084.0 2017-04-18  0.000000  \n",
      "10120  158614 2017-04-18     15084.0 2017-04-18  0.000000  \n",
      "10121  158614 2017-04-18     15084.0 2017-04-18  0.000000  \n",
      "10122  158614 2017-04-18     15084.0 2017-04-18  0.000000  \n",
      "10123  158614 2017-04-25     15091.0 2017-04-25  0.000000  \n",
      "10124  158614 2017-04-25     15091.0 2017-04-25  0.000000  \n",
      "10125  158614 2017-04-25     15091.0 2017-04-25  0.000000  \n",
      "10126  158614 2017-04-25     15091.0 2017-04-25  0.000000  \n",
      "10127  158614 2017-04-25     15091.0 2017-04-25  0.000000  \n",
      "10128  158614 2017-04-25     15091.0 2017-04-25  0.000000  \n",
      "10129  158614 2017-04-25     15091.0 2017-04-25  0.000000  \n",
      "10130  158614 2017-04-25     15091.0 2017-04-25  0.000000  \n",
      "10131  158614 2017-04-25     15091.0 2017-04-25  0.000000  \n",
      "10132  158614 2017-04-25     15091.0 2017-04-25  0.000000  \n",
      "10133  158614 2017-04-25     15091.0 2017-04-25  0.000000  \n",
      "10134  158614 2017-04-25     15091.0 2017-04-25  0.000000  \n",
      "10135  158614 2017-05-02     15098.0 2017-05-02  0.000000  \n",
      "10136  158614 2017-05-02     15098.0 2017-05-02  0.000000  \n",
      "\n",
      "[2000 rows x 16 columns]\n"
     ]
    }
   ],
   "source": [
    "print (df_patents.tail(2000))"
   ]
  },
  {
   "cell_type": "code",
   "execution_count": 63,
   "metadata": {
    "collapsed": false
   },
   "outputs": [],
   "source": [
    "    \n",
    "# Add average patent citation rate to list.  \n",
    "ave_pcrs = []\n",
    "\n",
    "value  = (df_patents['ave_pcr'])\n",
    "ave_pcrs.append(value)\n",
    "#print value    \n"
   ]
  },
  {
   "cell_type": "code",
   "execution_count": 68,
   "metadata": {
    "collapsed": false
   },
   "outputs": [
    {
     "data": {
      "image/png": "[encoded data removed]",
      "text/plain": [
       "<matplotlib.figure.Figure at 0x10d17ee50>"
      ]
     },
     "metadata": {},
     "output_type": "display_data"
    }
   ],
   "source": [
    "plt.scatter(list(tvalue), ave_pcrs, marker = 'x', s =10, c = 'green')\n",
    "plt.xlabel(\"Year \")\n",
    "plt.ylabel(\"Average Patent Citation Rate, citations/day \")\n",
    "plt.show()\n"
   ]
  },
  {
   "cell_type": "code",
   "execution_count": 82,
   "metadata": {
    "collapsed": false
   },
   "outputs": [
    {
     "data": {
      "text/html": [
       "<div>\n",
       "<table border=\"1\" class=\"dataframe\">\n",
       "  <thead>\n",
       "    <tr style=\"text-align: right;\">\n",
       "      <th></th>\n",
       "      <th>num_inventor</th>\n",
       "      <th>num_pc</th>\n",
       "      <th>num_npc</th>\n",
       "      <th>num_rb</th>\n",
       "      <th>num_class</th>\n",
       "      <th>num_le</th>\n",
       "      <th>cum_rb</th>\n",
       "      <th>time_delta</th>\n",
       "      <th>ave_pcr</th>\n",
       "    </tr>\n",
       "  </thead>\n",
       "  <tbody>\n",
       "    <tr>\n",
       "      <th>count</th>\n",
       "      <td>10137.000000</td>\n",
       "      <td>10137.000000</td>\n",
       "      <td>10137.000000</td>\n",
       "      <td>10137.000000</td>\n",
       "      <td>10137.000000</td>\n",
       "      <td>10137.000000</td>\n",
       "      <td>10137.000000</td>\n",
       "      <td>10137.000000</td>\n",
       "      <td>10137.000000</td>\n",
       "    </tr>\n",
       "    <tr>\n",
       "      <th>mean</th>\n",
       "      <td>2.919108</td>\n",
       "      <td>12.997139</td>\n",
       "      <td>3.212785</td>\n",
       "      <td>15.647036</td>\n",
       "      <td>16.174213</td>\n",
       "      <td>4.176186</td>\n",
       "      <td>98076.576798</td>\n",
       "      <td>8289.609451</td>\n",
       "      <td>0.002201</td>\n",
       "    </tr>\n",
       "    <tr>\n",
       "      <th>std</th>\n",
       "      <td>1.818188</td>\n",
       "      <td>24.138194</td>\n",
       "      <td>8.621308</td>\n",
       "      <td>41.604616</td>\n",
       "      <td>10.058189</td>\n",
       "      <td>2.722414</td>\n",
       "      <td>54620.082613</td>\n",
       "      <td>4192.018375</td>\n",
       "      <td>0.005132</td>\n",
       "    </tr>\n",
       "    <tr>\n",
       "      <th>min</th>\n",
       "      <td>1.000000</td>\n",
       "      <td>0.000000</td>\n",
       "      <td>0.000000</td>\n",
       "      <td>0.000000</td>\n",
       "      <td>2.000000</td>\n",
       "      <td>0.000000</td>\n",
       "      <td>2.000000</td>\n",
       "      <td>-2162.000000</td>\n",
       "      <td>0.000000</td>\n",
       "    </tr>\n",
       "    <tr>\n",
       "      <th>25%</th>\n",
       "      <td>2.000000</td>\n",
       "      <td>5.000000</td>\n",
       "      <td>0.000000</td>\n",
       "      <td>2.000000</td>\n",
       "      <td>9.000000</td>\n",
       "      <td>2.000000</td>\n",
       "      <td>45472.000000</td>\n",
       "      <td>4969.000000</td>\n",
       "      <td>0.000331</td>\n",
       "    </tr>\n",
       "    <tr>\n",
       "      <th>50%</th>\n",
       "      <td>3.000000</td>\n",
       "      <td>8.000000</td>\n",
       "      <td>0.000000</td>\n",
       "      <td>7.000000</td>\n",
       "      <td>14.000000</td>\n",
       "      <td>4.000000</td>\n",
       "      <td>108951.000000</td>\n",
       "      <td>8483.000000</td>\n",
       "      <td>0.001076</td>\n",
       "    </tr>\n",
       "    <tr>\n",
       "      <th>75%</th>\n",
       "      <td>4.000000</td>\n",
       "      <td>15.000000</td>\n",
       "      <td>3.000000</td>\n",
       "      <td>18.000000</td>\n",
       "      <td>20.000000</td>\n",
       "      <td>6.000000</td>\n",
       "      <td>153755.000000</td>\n",
       "      <td>11997.000000</td>\n",
       "      <td>0.002381</td>\n",
       "    </tr>\n",
       "    <tr>\n",
       "      <th>max</th>\n",
       "      <td>18.000000</td>\n",
       "      <td>981.000000</td>\n",
       "      <td>218.000000</td>\n",
       "      <td>2341.000000</td>\n",
       "      <td>116.000000</td>\n",
       "      <td>22.000000</td>\n",
       "      <td>158614.000000</td>\n",
       "      <td>15098.000000</td>\n",
       "      <td>0.213012</td>\n",
       "    </tr>\n",
       "  </tbody>\n",
       "</table>\n",
       "</div>"
      ],
      "text/plain": [
       "       num_inventor        num_pc       num_npc        num_rb     num_class  \\\n",
       "count  10137.000000  10137.000000  10137.000000  10137.000000  10137.000000   \n",
       "mean       2.919108     12.997139      3.212785     15.647036     16.174213   \n",
       "std        1.818188     24.138194      8.621308     41.604616     10.058189   \n",
       "min        1.000000      0.000000      0.000000      0.000000      2.000000   \n",
       "25%        2.000000      5.000000      0.000000      2.000000      9.000000   \n",
       "50%        3.000000      8.000000      0.000000      7.000000     14.000000   \n",
       "75%        4.000000     15.000000      3.000000     18.000000     20.000000   \n",
       "max       18.000000    981.000000    218.000000   2341.000000    116.000000   \n",
       "\n",
       "             num_le         cum_rb    time_delta       ave_pcr  \n",
       "count  10137.000000   10137.000000  10137.000000  10137.000000  \n",
       "mean       4.176186   98076.576798   8289.609451      0.002201  \n",
       "std        2.722414   54620.082613   4192.018375      0.005132  \n",
       "min        0.000000       2.000000  -2162.000000      0.000000  \n",
       "25%        2.000000   45472.000000   4969.000000      0.000331  \n",
       "50%        4.000000  108951.000000   8483.000000      0.001076  \n",
       "75%        6.000000  153755.000000  11997.000000      0.002381  \n",
       "max       22.000000  158614.000000  15098.000000      0.213012  "
      ]
     },
     "execution_count": 82,
     "metadata": {},
     "output_type": "execute_result"
    }
   ],
   "source": [
    "df_patents.describe()"
   ]
  },
  {
   "cell_type": "code",
   "execution_count": null,
   "metadata": {
    "collapsed": true
   },
   "outputs": [],
   "source": []
  }
 ],
 "metadata": {
  "kernelspec": {
   "display_name": "Python 2",
   "language": "python",
   "name": "python2"
  },
  "language_info": {
   "codemirror_mode": {
    "name": "ipython",
    "version": 2
   },
   "file_extension": ".py",
   "mimetype": "text/x-python",
   "name": "python",
   "nbconvert_exporter": "python",
   "pygments_lexer": "ipython2",
   "version": "2.7.13"
  }
 },
 "nbformat": 4,
 "nbformat_minor": 0
}
